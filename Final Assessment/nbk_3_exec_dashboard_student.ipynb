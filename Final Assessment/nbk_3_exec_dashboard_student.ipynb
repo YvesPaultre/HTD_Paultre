{
 "cells": [
  {
   "cell_type": "markdown",
   "metadata": {
    "application/vnd.databricks.v1+cell": {
     "cellMetadata": {
      "byteLimit": 2048000,
      "rowLimit": 10000
     },
     "inputWidgets": {},
     "nuid": "fc7bbb8a-d7e0-4bb6-ae22-22eead236afe",
     "showTitle": false,
     "tableResultSettingsMap": {},
     "title": ""
    }
   },
   "source": [
    "# Insurance Executive Dashboard and Business Intelligence\n",
    "\n",
    "**Objective**: Generate executive analytics and strategic business recommendations\n",
    "\n",
    "**Business Goals:**\n",
    "- Calculate executive insurance KPIs and performance metrics\n",
    "- Identify strategic customer portfolio optimization opportunities\n",
    "- Generate actionable business recommendations with ROI projections\n",
    "- Prepare comprehensive data exports for Power BI dashboard consumption\n",
    "- Create executive summary reports for strategic decision-making\n",
    "\n",
    "**Data Flow**: Loads from all previous analysis tables → Creates executive dashboard tables"
   ]
  },
  {
   "cell_type": "markdown",
   "metadata": {
    "application/vnd.databricks.v1+cell": {
     "cellMetadata": {
      "byteLimit": 2048000,
      "rowLimit": 10000
     },
     "inputWidgets": {},
     "nuid": "40a82ea0-708c-43ba-badc-283a67aa9ac8",
     "showTitle": false,
     "tableResultSettingsMap": {},
     "title": ""
    }
   },
   "source": [
    "## Setup and Executive Analytics Configuration"
   ]
  },
  {
   "cell_type": "code",
   "execution_count": 0,
   "metadata": {
    "application/vnd.databricks.v1+cell": {
     "cellMetadata": {
      "byteLimit": 2048000,
      "rowLimit": 10000
     },
     "inputWidgets": {},
     "nuid": "7e0a6434-2835-4d41-bfa8-501c1e0e7d57",
     "showTitle": false,
     "tableResultSettingsMap": {},
     "title": ""
    }
   },
   "outputs": [
    {
     "output_type": "stream",
     "name": "stdout",
     "output_type": "stream",
     "text": [
      "✅ Spark session initialized for executive analytics\n\uD83D\uDCCA Using database: insurance_analytics\n\uD83D\uDCC5 Executive Report Date: 2025-07-07\n"
     ]
    }
   ],
   "source": [
    "import pandas as pd\n",
    "import numpy as np\n",
    "from pyspark.sql import SparkSession\n",
    "from pyspark.sql.functions import *\n",
    "from pyspark.sql.types import *\n",
    "from pyspark.sql.window import Window\n",
    "from datetime import datetime, timedelta\n",
    "import warnings\n",
    "warnings.filterwarnings('ignore')\n",
    "\n",
    "# Initialize Spark session\n",
    "spark = SparkSession.builder.appName(\"InsuranceExecutiveDashboard\").getOrCreate()\n",
    "print(\"✅ Spark session initialized for executive analytics\")\n",
    "\n",
    "# Database configuration\n",
    "DATABASE_NAME = \"insurance_analytics\"\n",
    "print(f\"\uD83D\uDCCA Using database: {DATABASE_NAME}\")\n",
    "\n",
    "# Set analysis date for executive reporting\n",
    "ANALYSIS_DATE = datetime.now().strftime(\"%Y-%m-%d\")\n",
    "print(f\"\uD83D\uDCC5 Executive Report Date: {ANALYSIS_DATE}\")"
   ]
  },
  {
   "cell_type": "markdown",
   "metadata": {
    "application/vnd.databricks.v1+cell": {
     "cellMetadata": {
      "byteLimit": 2048000,
      "rowLimit": 10000
     },
     "inputWidgets": {},
     "nuid": "3b4b85e3-6b00-48cb-a6a7-238982749c0e",
     "showTitle": false,
     "tableResultSettingsMap": {},
     "title": ""
    }
   },
   "source": [
    "## Load All Analytics Tables (Notebooks 1 & 2 Outputs)"
   ]
  },
  {
   "cell_type": "code",
   "execution_count": 0,
   "metadata": {
    "application/vnd.databricks.v1+cell": {
     "cellMetadata": {
      "byteLimit": 2048000,
      "rowLimit": 10000
     },
     "inputWidgets": {},
     "nuid": "ffb9cf18-6b64-4b3a-bf91-e4c1e94d6985",
     "showTitle": false,
     "tableResultSettingsMap": {},
     "title": ""
    }
   },
   "outputs": [
    {
     "output_type": "stream",
     "name": "stdout",
     "output_type": "stream",
     "text": [
      "\uD83D\uDCCB Loading comprehensive analytics from previous notebooks...\n✅ All analytics tables loaded successfully\n\uD83D\uDCCA Customer Risk Profiles: 15,000\n\uD83D\uDCCA Customer CLPV Analysis: 15,000\n\uD83D\uDCCA Renewal Analysis: 75,000\n\uD83D\uDCCA At-Risk Customers: 2,412\n\uD83D\uDCCA Fraud Detection Records: 10,643\n"
     ]
    }
   ],
   "source": [
    "print(\"\uD83D\uDCCB Loading comprehensive analytics from previous notebooks...\")\n",
    "\n",
    "# BUSINESS CONTEXT: Executive dashboards require complete data from all previous analysis steps\n",
    "# We need risk profiles, CLPV analysis, renewal predictions, and fraud detection results\n",
    "\n",
    "# TODO: Load all analytics tables from previous notebooks\n",
    "# \n",
    "# Step 1: Load customer analytics from Notebook 1\n",
    "# TODO: Load customer_risk_profiles from \"insurance_analytics.customer_risk_profiles\"\n",
    "# TODO: Load risk_value_matrix from \"insurance_analytics.risk_value_matrix\"\n",
    "# TODO: Load cross_sell_opportunities from \"insurance_analytics.cross_sell_opportunities\"\n",
    "# TODO: Load policy_portfolio_analysis from \"insurance_analytics.policy_portfolio_analysis\"\n",
    "# \n",
    "# Step 2: Load advanced analytics from Notebook 2\n",
    "# TODO: Load customer_clpv_analysis from \"insurance_analytics.customer_clpv_analysis\"\n",
    "# TODO: Load customer_renewal_analysis from \"insurance_analytics.customer_renewal_analysis\"\n",
    "# TODO: Load at_risk_customers from \"insurance_analytics.at_risk_customers\"\n",
    "# TODO: Load pricing_optimization from \"insurance_analytics.pricing_optimization_recommendations\"\n",
    "# TODO: Load fraud_detection from \"insurance_analytics.fraud_detection_analysis\"\n",
    "# TODO: Load seasonal_claims from \"insurance_analytics.seasonal_claims_patterns\"\n",
    "# \n",
    "# Step 3: Load foundation tables for KPI calculations\n",
    "# TODO: Load customers_df from \"insurance_analytics.customers\"\n",
    "# TODO: Load policies_df from \"insurance_analytics.policies\"\n",
    "# TODO: Load claims_df from \"insurance_analytics.claims\"\n",
    "# TODO: Load payments_df from \"insurance_analytics.payments\"\n",
    "# \n",
    "# Step 4: Validate all data loading\n",
    "# TODO: Print success message and display record counts for all tables\n",
    "# TODO: Use .count() to verify data availability\n",
    "#\n",
    "# EXPECTED OUTPUT: All 14 analytics and foundation tables loaded successfully\n",
    "# Target: Complete data foundation for executive dashboard creation\n",
    "\n",
    "try:\n",
    "    # Load customer analytics from Notebook 1\n",
    "    customer_risk_profiles = spark.table(\"insurance_analytics.customer_risk_profiles\")\n",
    "    risk_value_matrix = spark.table(\"insurance_analytics.risk_value_matrix\")\n",
    "    cross_sell_opportunities = spark.table(\"insurance_analytics.cross_sell_opportunities\")\n",
    "    policy_portfolio_analysis = spark.table(\"insurance_analytics.policy_portfolio_analysis\")\n",
    "    \n",
    "    # Load advanced analytics from Notebook 2\n",
    "    customer_clpv_analysis = spark.table(\"insurance_analytics.customer_clpv_analysis\")\n",
    "    customer_renewal_analysis = spark.table(\"insurance_analytics.customer_renewal_analysis\")\n",
    "    at_risk_customers = spark.table(\"insurance_analytics.at_risk_customers\")\n",
    "    pricing_optimization = spark.table(\"insurance_analytics.pricing_optimization_recommendations\")\n",
    "    fraud_detection = spark.table(\"insurance_analytics.fraud_detection_analysis\")\n",
    "    seasonal_claims = spark.table(\"insurance_analytics.seasonal_claims_patterns\")\n",
    "    \n",
    "    # Load foundation tables for KPI calculations\n",
    "    customers_df = spark.table(\"insurance_analytics.customers\")\n",
    "    policies_df = spark.table(\"insurance_analytics.policies\")\n",
    "    claims_df = spark.table(\"insurance_analytics.claims\")\n",
    "    payments_df = spark.table(\"insurance_analytics.payments\")\n",
    "    \n",
    "    print(\"✅ All analytics tables loaded successfully\")\n",
    "    print(f\"\uD83D\uDCCA Customer Risk Profiles: {customer_risk_profiles.count():,}\")\n",
    "    print(f\"\uD83D\uDCCA Customer CLPV Analysis: {customer_clpv_analysis.count():,}\")\n",
    "    print(f\"\uD83D\uDCCA Renewal Analysis: {customer_renewal_analysis.count():,}\")\n",
    "    print(f\"\uD83D\uDCCA At-Risk Customers: {at_risk_customers.count():,}\")\n",
    "    print(f\"\uD83D\uDCCA Fraud Detection Records: {fraud_detection.count():,}\")\n",
    "    \n",
    "except Exception as e:\n",
    "    print(f\"❌ Error loading analytics tables: {e}\")\n",
    "    print(\"\uD83D\uDCA1 Ensure Notebooks 1 and 2 have been executed successfully\")\n",
    "    raise"
   ]
  },
  {
   "cell_type": "markdown",
   "metadata": {
    "application/vnd.databricks.v1+cell": {
     "cellMetadata": {
      "byteLimit": 2048000,
      "rowLimit": 10000
     },
     "inputWidgets": {},
     "nuid": "8af4ba3b-a656-44f3-9cb8-421a1d8858b9",
     "showTitle": false,
     "tableResultSettingsMap": {},
     "title": ""
    }
   },
   "source": [
    "## 1. Executive Insurance KPIs"
   ]
  },
  {
   "cell_type": "markdown",
   "metadata": {
    "application/vnd.databricks.v1+cell": {
     "cellMetadata": {
      "byteLimit": 2048000,
      "rowLimit": 10000
     },
     "inputWidgets": {},
     "nuid": "4aed1f21-54e4-4ccd-bdb2-5f57e466e0d9",
     "showTitle": false,
     "tableResultSettingsMap": {},
     "title": ""
    }
   },
   "source": [
    "### 1.1 Core Business Performance Metrics"
   ]
  },
  {
   "cell_type": "code",
   "execution_count": 0,
   "metadata": {
    "application/vnd.databricks.v1+cell": {
     "cellMetadata": {
      "byteLimit": 2048000,
      "rowLimit": 10000
     },
     "inputWidgets": {},
     "nuid": "a922e34a-04bb-4a3f-9306-9d6a2072d940",
     "showTitle": false,
     "tableResultSettingsMap": {},
     "title": ""
    }
   },
   "outputs": [
    {
     "output_type": "stream",
     "name": "stdout",
     "output_type": "stream",
     "text": [
      "\uD83D\uDCCA Calculating executive insurance KPIs...\n\uD83D\uDCCA Executive KPIs Summary:\n+--------------------+--------------------+-----------+\n|         metric_name|        metric_value|metric_type|\n+--------------------+--------------------+-----------+\n|     Total Customers|             15000.0|      count|\n|      Total Policies|             75000.0|      count|\n|        Total Claims|             10643.0|      count|\n|      Total Premiums|4.2164930404000455E8|   currency|\n|      Total Coverage|     1.7904903271E10|   currency|\n|  Total Claim Amount|1.2524208089999962E9|   currency|\n|Average Premium p...|  28109.953602666646|   currency|\n|Average Premium p...|   5621.990720533332|   currency|\n|Average Claim Amount|  117675.54345579268|   currency|\n|          Loss Ratio|   297.0290231716287| percentage|\n|         Claims Rate|  14.190666666666665| percentage|\n|Total Portfolio CLPV|1.1485301587503018E9|   currency|\n|Average CLPV per ...|   76568.67725002012|   currency|\n+--------------------+--------------------+-----------+\n\n\uD83C\uDFAF Key Performance Indicators:\n   Loss Ratio: 297.03% (Target: <60%)\n   Claims Rate: 14.19% (Industry Average: 15-20%)\n   Average CLPV: $76,568.68\n"
     ]
    }
   ],
   "source": [
    "print(\"\uD83D\uDCCA Calculating executive insurance KPIs...\")\n",
    "\n",
    "# BUSINESS CONTEXT: Executive KPIs provide high-level business performance indicators\n",
    "# These metrics enable board-level decision making and strategic planning\n",
    "\n",
    "# TODO: Calculate core business performance metrics\n",
    "# \n",
    "# Step 1: Calculate basic volume metrics\n",
    "# TODO: Calculate total_customers using customers_df.count()\n",
    "# TODO: Calculate total_policies using policies_df.count()\n",
    "# TODO: Calculate total_claims using claims_df.count()\n",
    "# TODO: Calculate total_payments using payments_df.count()\n",
    "# \n",
    "# Step 2: Calculate premium and coverage metrics\n",
    "# TODO: Calculate total_premiums using policies_df.agg(sum(\"premium_amount\"))\n",
    "# TODO: Calculate avg_premium_per_customer using customer_risk_profiles.agg(avg(\"total_premium\"))\n",
    "# TODO: Calculate avg_premium_per_policy using policies_df.agg(avg(\"premium_amount\"))\n",
    "# TODO: Calculate total_coverage using policies_df.agg(sum(\"coverage_amount\"))\n",
    "# TODO: Calculate avg_coverage_per_policy using policies_df.agg(avg(\"coverage_amount\"))\n",
    "# \n",
    "# Step 3: Calculate claims metrics\n",
    "# TODO: Calculate total_claim_amount using claims_df.agg(sum(\"claim_amount\"))\n",
    "# TODO: Calculate avg_claim_amount using claims_df.agg(avg(\"claim_amount\"))\n",
    "# \n",
    "# Step 4: Calculate key performance ratios\n",
    "# TODO: Calculate loss_ratio = (total_claim_amount / total_premiums) * 100\n",
    "# TODO: Calculate claims_rate = (total_claims / total_policies) * 100\n",
    "# \n",
    "# Step 5: Calculate CLPV metrics\n",
    "# TODO: Calculate total_portfolio_clpv using customer_clpv_analysis.agg(sum(\"customer_lifetime_premium_value\"))\n",
    "# TODO: Calculate avg_clpv_per_customer using customer_clpv_analysis.agg(avg(\"customer_lifetime_premium_value\"))\n",
    "#\n",
    "# EXPECTED OUTPUT: Core business metrics calculated and displayed\n",
    "# Target: Loss ratio <60%, Claims rate 15-20%, Average CLPV $8,000-$15,000\n",
    "\n",
    "# Calculate core business metrics\n",
    "total_customers = customers_df.count()\n",
    "total_policies = policies_df.count()\n",
    "total_claims = claims_df.count()\n",
    "total_payments = payments_df.count()\n",
    "\n",
    "# Premium metrics\n",
    "total_premiums = policies_df.agg(sum(\"premium_amount\")).collect()[0][0]\n",
    "avg_premium_per_customer = customer_risk_profiles.agg(avg(\"total_premium\")).collect()[0][0]\n",
    "avg_premium_per_policy = policies_df.agg(avg(\"premium_amount\")).collect()[0][0]\n",
    "\n",
    "# Coverage metrics\n",
    "total_coverage = policies_df.agg(sum(\"coverage_amount\")).collect()[0][0]\n",
    "avg_coverage_per_policy = policies_df.agg(avg(\"coverage_amount\")).collect()[0][0]\n",
    "\n",
    "# Claims metrics\n",
    "total_claim_amount = claims_df.agg(sum(\"claim_amount\")).collect()[0][0]\n",
    "avg_claim_amount = claims_df.agg(avg(\"claim_amount\")).collect()[0][0]\n",
    "\n",
    "# Calculate Loss Ratio (Claims / Premiums)\n",
    "loss_ratio = (total_claim_amount / total_premiums) * 100\n",
    "\n",
    "# Calculate Claims Rate (Claims / Policies)\n",
    "claims_rate = (total_claims / total_policies) * 100\n",
    "\n",
    "# CLPV metrics\n",
    "total_portfolio_clpv = customer_clpv_analysis.agg(sum(\"customer_lifetime_premium_value\")).collect()[0][0]\n",
    "avg_clpv_per_customer = customer_clpv_analysis.agg(avg(\"customer_lifetime_premium_value\")).collect()[0][0]\n",
    "\n",
    "# BUSINESS CONTEXT: Executive KPIs must be formatted for dashboard consumption\n",
    "# Structured data enables consistent reporting across all business intelligence tools\n",
    "\n",
    "# TODO: Create executive KPIs summary table\n",
    "# \n",
    "# Step 1: Create KPI summary data\n",
    "# TODO: Create executive_kpis DataFrame with columns: metric_name, metric_value, metric_type\n",
    "# TODO: Include all calculated metrics with appropriate data types:\n",
    "#       - \"Total Customers\", total_customers, \"count\"\n",
    "#       - \"Total Policies\", total_policies, \"count\"\n",
    "#       - \"Total Claims\", total_claims, \"count\"\n",
    "#       - \"Total Premiums\", total_premiums, \"currency\"\n",
    "#       - \"Total Coverage\", total_coverage, \"currency\"\n",
    "#       - \"Total Claim Amount\", total_claim_amount, \"currency\"\n",
    "#       - \"Average Premium per Customer\", avg_premium_per_customer, \"currency\"\n",
    "#       - \"Average Premium per Policy\", avg_premium_per_policy, \"currency\"\n",
    "#       - \"Average Claim Amount\", avg_claim_amount, \"currency\"\n",
    "#       - \"Loss Ratio\", loss_ratio, \"percentage\"\n",
    "#       - \"Claims Rate\", claims_rate, \"percentage\"\n",
    "#       - \"Total Portfolio CLPV\", total_portfolio_clpv, \"currency\"\n",
    "#       - \"Average CLPV per Customer\", avg_clpv_per_customer, \"currency\"\n",
    "# TODO: Convert all numeric values to float for consistency\n",
    "# \n",
    "# Step 2: Display KPI summary\n",
    "# TODO: Show executive_kpis table using .show()\n",
    "# \n",
    "# Step 3: Print key performance indicators analysis\n",
    "# TODO: Print formatted analysis of Loss Ratio, Claims Rate, and Average CLPV\n",
    "# TODO: Include target benchmarks for comparison\n",
    "#\n",
    "# EXPECTED OUTPUT: Executive KPIs table with 13 key metrics ready for dashboard\n",
    "# Target: Professional KPI summary with appropriate data types and formatting\n",
    "\n",
    "# Create executive KPIs summary (convert all values to float for consistency)\n",
    "executive_kpis = spark.createDataFrame([\n",
    "    (\"Total Customers\", float(total_customers), \"count\"),\n",
    "    (\"Total Policies\", float(total_policies), \"count\"),\n",
    "    (\"Total Claims\", float(total_claims), \"count\"),\n",
    "    (\"Total Premiums\", float(total_premiums), \"currency\"),\n",
    "    (\"Total Coverage\", float(total_coverage), \"currency\"),\n",
    "    (\"Total Claim Amount\", float(total_claim_amount), \"currency\"),\n",
    "    (\"Average Premium per Customer\", float(avg_premium_per_customer), \"currency\"),\n",
    "    (\"Average Premium per Policy\", float(avg_premium_per_policy), \"currency\"),\n",
    "    (\"Average Claim Amount\", float(avg_claim_amount), \"currency\"),\n",
    "    (\"Loss Ratio\", float(loss_ratio), \"percentage\"),\n",
    "    (\"Claims Rate\", float(claims_rate), \"percentage\"),\n",
    "    (\"Total Portfolio CLPV\", float(total_portfolio_clpv), \"currency\"),\n",
    "    (\"Average CLPV per Customer\", float(avg_clpv_per_customer), \"currency\")\n",
    "], [\"metric_name\", \"metric_value\", \"metric_type\"])\n",
    "\n",
    "print(\"\uD83D\uDCCA Executive KPIs Summary:\")\n",
    "executive_kpis.show()\n",
    "\n",
    "print(f\"\uD83C\uDFAF Key Performance Indicators:\")\n",
    "print(f\"   Loss Ratio: {loss_ratio:.2f}% (Target: <60%)\")\n",
    "print(f\"   Claims Rate: {claims_rate:.2f}% (Industry Average: 15-20%)\")\n",
    "print(f\"   Average CLPV: ${avg_clpv_per_customer:,.2f}\")"
   ]
  },
  {
   "cell_type": "markdown",
   "metadata": {
    "application/vnd.databricks.v1+cell": {
     "cellMetadata": {
      "byteLimit": 2048000,
      "rowLimit": 10000
     },
     "inputWidgets": {},
     "nuid": "61a6747b-399d-4a45-a379-a10a1a7abce8",
     "showTitle": false,
     "tableResultSettingsMap": {},
     "title": ""
    }
   },
   "source": [
    "### 1.2 Customer Retention and Acquisition Metrics"
   ]
  },
  {
   "cell_type": "code",
   "execution_count": 0,
   "metadata": {
    "application/vnd.databricks.v1+cell": {
     "cellMetadata": {
      "byteLimit": 2048000,
      "rowLimit": 10000
     },
     "inputWidgets": {},
     "nuid": "d0fd2c25-f245-44e5-badf-1ef3485e8602",
     "showTitle": false,
     "tableResultSettingsMap": {},
     "title": ""
    }
   },
   "outputs": [
    {
     "output_type": "stream",
     "name": "stdout",
     "output_type": "stream",
     "text": [
      "\uD83D\uDD04 Calculating customer retention and acquisition metrics...\n\uD83D\uDCCA Customer Retention by Tenure:\n+------------+--------------+\n|tenure_years|customer_count|\n+------------+--------------+\n|           0|          2620|\n|           1|          2729|\n|           2|          2728|\n|           3|          2762|\n|           4|          2724|\n|           5|          1437|\n+------------+--------------+\n\n\uD83D\uDCCA Customer Acquisition by Channel:\n+-------------------+------------------+--------------------+\n|acquisition_channel|customers_acquired|       total_premium|\n+-------------------+------------------+--------------------+\n|             Online|             12426|      1.4668634858E8|\n|              Agent|             11657|1.2709275331000002E8|\n|              Phone|              9538| 8.575040244999984E7|\n|           Referral|              5919|4.0392270489999965E7|\n|            Walk-in|              3330|       2.172752921E7|\n+-------------------+------------------+--------------------+\n\n\uD83D\uDCCA Retention KPIs:\n+--------------------+--------------------+-----------+\n|         metric_name|        metric_value|metric_type|\n+--------------------+--------------------+-----------+\n|Average Customer ...|  2.3034666666666666|      years|\n|Policy Retention ...|              79.488| percentage|\n|   At-Risk Customers|              2412.0|      count|\n|  At-Risk Percentage|               16.08| percentage|\n|     Premium at Risk|1.4204776030000007E7|   currency|\n+--------------------+--------------------+-----------+\n\n✅ Customer retention and acquisition analysis completed\n"
     ]
    }
   ],
   "source": [
    "print(\"\uD83D\uDD04 Calculating customer retention and acquisition metrics...\")\n",
    "\n",
    "# BUSINESS CONTEXT: Retention metrics are critical for insurance profitability\n",
    "# Customer acquisition costs 5-10x more than retention, making these KPIs essential\n",
    "\n",
    "# TODO: Calculate customer retention and acquisition metrics\n",
    "# \n",
    "# Step 1: Calculate customer tenure analysis\n",
    "# TODO: Create customer_tenure_stats by selecting customer_id from customer_risk_profiles\n",
    "# TODO: Add tenure_years column using floor(datediff(current_date(), acquisition_date) / 365.25)\n",
    "# \n",
    "# Step 2: Analyze retention by tenure\n",
    "# TODO: Group customer_tenure_stats by tenure_years\n",
    "# TODO: Calculate count(*) as customer_count for each tenure group\n",
    "# TODO: Order by tenure_years and display results\n",
    "# \n",
    "# Step 3: Calculate average customer tenure\n",
    "# TODO: Calculate avg_customer_tenure using customer_tenure_stats.agg(avg(\"tenure_years\"))\n",
    "# \n",
    "# Step 4: Calculate policy retention rate\n",
    "# TODO: Calculate active_policies by filtering policies_df for policy_status == \"Active\"\n",
    "# TODO: Calculate retention_rate = (active_policies / total_policies) * 100\n",
    "# \n",
    "# Step 5: Calculate at-risk customer metrics\n",
    "# TODO: Calculate at_risk_count using at_risk_customers.count()\n",
    "# TODO: Calculate at_risk_percentage = (at_risk_count / total_customers) * 100\n",
    "# TODO: Calculate premium_at_risk using at_risk_customers.agg(sum(\"premium_amount\"))\n",
    "# \n",
    "# Step 6: Analyze customer acquisition channels\n",
    "# TODO: Group policies_df by acquisition_channel\n",
    "# TODO: Calculate countDistinct(\"customer_id\") as customers_acquired\n",
    "# TODO: Calculate sum(\"premium_amount\") as total_premium\n",
    "# TODO: Order by customers_acquired descending and display results\n",
    "#\n",
    "# EXPECTED OUTPUT: Comprehensive retention and acquisition analysis\n",
    "# Target: 2-4 year average tenure, 80%+ retention rate, identified acquisition channels\n",
    "\n",
    "# Calculate customer tenure distribution\n",
    "customer_tenure_stats = customer_risk_profiles.select(\n",
    "    \"customer_id\",\n",
    "    floor(datediff(current_date(), col(\"acquisition_date\")) / 365.25).alias(\"tenure_years\")\n",
    ")\n",
    "\n",
    "# Retention metrics by tenure\n",
    "retention_metrics = customer_tenure_stats.groupBy(\"tenure_years\").agg(\n",
    "    count(\"*\").alias(\"customer_count\")\n",
    ").orderBy(\"tenure_years\")\n",
    "\n",
    "print(\"\uD83D\uDCCA Customer Retention by Tenure:\")\n",
    "retention_metrics.show()\n",
    "\n",
    "# Calculate average customer tenure\n",
    "avg_customer_tenure = customer_tenure_stats.agg(avg(\"tenure_years\")).collect()[0][0]\n",
    "\n",
    "# Active policy retention rate\n",
    "active_policies = policies_df.filter(col(\"policy_status\") == \"Active\").count()\n",
    "retention_rate = (active_policies / total_policies) * 100\n",
    "\n",
    "# At-risk customer metrics\n",
    "at_risk_count = at_risk_customers.count()\n",
    "at_risk_percentage = (at_risk_count / total_customers) * 100\n",
    "premium_at_risk = at_risk_customers.agg(sum(\"premium_amount\")).collect()[0][0]\n",
    "\n",
    "# Customer acquisition by channel\n",
    "acquisition_channels = policies_df.groupBy(\"acquisition_channel\").agg(\n",
    "    countDistinct(\"customer_id\").alias(\"customers_acquired\"),\n",
    "    sum(\"premium_amount\").alias(\"total_premium\")\n",
    ").orderBy(\"customers_acquired\", ascending=False)\n",
    "\n",
    "print(\"\uD83D\uDCCA Customer Acquisition by Channel:\")\n",
    "acquisition_channels.show()\n",
    "\n",
    "# BUSINESS CONTEXT: Retention KPIs must be tracked consistently for executive reporting\n",
    "# These metrics directly impact customer lifetime value and profitability\n",
    "\n",
    "# TODO: Create retention metrics summary table\n",
    "# \n",
    "# Step 1: Create retention KPIs summary\n",
    "# TODO: Create retention_kpis DataFrame with metric_name, metric_value, metric_type columns\n",
    "# TODO: Include all retention metrics with appropriate data types:\n",
    "#       - \"Average Customer Tenure\", avg_customer_tenure, \"years\"\n",
    "#       - \"Policy Retention Rate\", retention_rate, \"percentage\"\n",
    "#       - \"At-Risk Customers\", at_risk_count, \"count\"\n",
    "#       - \"At-Risk Percentage\", at_risk_percentage, \"percentage\"\n",
    "#       - \"Premium at Risk\", premium_at_risk, \"currency\"\n",
    "# TODO: Convert all numeric values to float for consistency\n",
    "# \n",
    "# Step 2: Display retention KPIs\n",
    "# TODO: Show retention_kpis table using .show()\n",
    "# \n",
    "# Step 3: Print completion message\n",
    "# TODO: Print success message for retention analysis completion\n",
    "#\n",
    "# EXPECTED OUTPUT: Retention KPIs summary table with 5 key metrics\n",
    "# Target: Clear retention metrics ready for executive dashboard\n",
    "\n",
    "# Create retention metrics summary (convert all values to float for consistency)\n",
    "retention_kpis = spark.createDataFrame([\n",
    "    (\"Average Customer Tenure\", float(avg_customer_tenure), \"years\"),\n",
    "    (\"Policy Retention Rate\", float(retention_rate), \"percentage\"),\n",
    "    (\"At-Risk Customers\", float(at_risk_count), \"count\"),\n",
    "    (\"At-Risk Percentage\", float(at_risk_percentage), \"percentage\"),\n",
    "    (\"Premium at Risk\", float(premium_at_risk), \"currency\")\n",
    "], [\"metric_name\", \"metric_value\", \"metric_type\"])\n",
    "\n",
    "print(\"\uD83D\uDCCA Retention KPIs:\")\n",
    "retention_kpis.show()\n",
    "\n",
    "print(\"✅ Customer retention and acquisition analysis completed\")"
   ]
  },
  {
   "cell_type": "markdown",
   "metadata": {
    "application/vnd.databricks.v1+cell": {
     "cellMetadata": {
      "byteLimit": 2048000,
      "rowLimit": 10000
     },
     "inputWidgets": {},
     "nuid": "26468d0f-0a0d-4ee8-9746-e70714370fd2",
     "showTitle": false,
     "tableResultSettingsMap": {},
     "title": ""
    }
   },
   "source": [
    "### 1.3 Profitability and Growth Metrics"
   ]
  },
  {
   "cell_type": "code",
   "execution_count": 0,
   "metadata": {
    "application/vnd.databricks.v1+cell": {
     "cellMetadata": {
      "byteLimit": 2048000,
      "rowLimit": 10000
     },
     "inputWidgets": {},
     "nuid": "431984c3-bbd0-4c4c-92f6-8f0746543395",
     "showTitle": false,
     "tableResultSettingsMap": {},
     "title": ""
    }
   },
   "outputs": [
    {
     "output_type": "stream",
     "name": "stdout",
     "output_type": "stream",
     "text": [
      "\uD83D\uDCB0 Calculating profitability and growth metrics...\n\uD83D\uDCCA Profitability by Policy Type:\n+-----------+------------+-------------------+--------------------+---------------------+--------------------+------------------+\n|policy_type|policy_count|      total_premium|        total_claims|avg_profit_per_policy|        total_profit|loss_ratio_by_type|\n+-----------+------------+-------------------+--------------------+---------------------+--------------------+------------------+\n|     Health|       11745|         2.791752E8| 5.925026544999997E7|   18724.983784589196| 2.199249345500001E8|21.223326946662873|\n|     Travel|        3535|        1.6036275E7|   4214078.830000001|   3344.3270636492234|1.1822196170000006E7|26.278414594411736|\n|       Auto|       22294|          6.20115E7|6.2876457919999965E7|   -38.79778953978642|  -864957.9199999985|101.39483470001527|\n|   Business|        3371| 3233205.3300000043|1.0105130149999999E7|  -2038.5419222782548|  -6871924.819999997|312.54217157930964|\n|       Home|       18891|2.513602779000008E7|1.2958287190000029E8|   -5528.920867608937|-1.04446844110000...| 515.5264506492649|\n|       Life|       15164|3.605709592000005E7| 9.863920047500012E8|  -62670.463520838784|-9.503349088299993E8|2735.6390734808792|\n+-----------+------------+-------------------+--------------------+---------------------+--------------------+------------------+\n\n\uD83D\uDCCA Growth and Revenue Optimization Metrics:\n+--------------------+--------------------+-----------+\n|         metric_name|        metric_value|metric_type|\n+--------------------+--------------------+-----------+\n|Pricing Optimizat...|-2.53873051937514...|   currency|\n|Cross-Selling Rev...|   887210.6624999989|   currency|\n|Total Growth Oppo...|-2.450009453125145E7|   currency|\n+--------------------+--------------------+-----------+\n\n✅ Profitability and growth analysis completed\n"
     ]
    }
   ],
   "source": [
    "print(\"\uD83D\uDCB0 Calculating profitability and growth metrics...\")\n",
    "\n",
    "# BUSINESS CONTEXT: Profitability analysis by policy type guides strategic decisions\n",
    "# Understanding which products are most profitable enables resource allocation\n",
    "\n",
    "# TODO: Calculate profitability metrics by policy type\n",
    "# \n",
    "# Step 1: Create policy profitability analysis\n",
    "# TODO: Join policies_df with claims_df grouped by policy_id\n",
    "# TODO: Calculate sum(\"claim_amount\") as total_claims_amount for each policy\n",
    "# TODO: Use left join and fillna to handle policies with no claims (set to 0)\n",
    "# \n",
    "# Step 2: Calculate profit per policy\n",
    "# TODO: Add profit_per_policy column: premium_amount - total_claims_amount\n",
    "# \n",
    "# Step 3: Group by policy type and calculate metrics\n",
    "# TODO: Group by policy_type and calculate:\n",
    "#       - count(*) as policy_count\n",
    "#       - sum(\"premium_amount\") as total_premium\n",
    "#       - sum(\"total_claims_amount\") as total_claims\n",
    "#       - avg(\"profit_per_policy\") as avg_profit_per_policy\n",
    "#       - sum(\"profit_per_policy\") as total_profit\n",
    "# \n",
    "# Step 4: Calculate loss ratio by policy type\n",
    "# TODO: Add loss_ratio_by_type column: (total_claims / total_premium) * 100\n",
    "# TODO: Order by total_profit descending and display results\n",
    "# \n",
    "# Step 5: Calculate growth opportunities\n",
    "# TODO: Get pricing_revenue_impact from pricing_optimization table\n",
    "# TODO: Calculate cross_sell_potential from cross_sell_opportunities\n",
    "# TODO: Calculate estimated_cross_sell_revenue (assume 25% conversion at 50% of current premium)\n",
    "#\n",
    "# EXPECTED OUTPUT: Profitability analysis by policy type and growth opportunities\n",
    "# Target: Identify most profitable products and quantify growth potential\n",
    "\n",
    "# Policy type profitability analysis\n",
    "policy_profitability = policies_df.join(\n",
    "    claims_df.groupBy(\"policy_id\").agg(\n",
    "        sum(\"claim_amount\").alias(\"total_claims_amount\")\n",
    "    ), \"policy_id\", \"left\"\n",
    ").fillna({\"total_claims_amount\": 0})\n",
    "\n",
    "policy_profitability = policy_profitability.withColumn(\n",
    "    \"profit_per_policy\",\n",
    "    col(\"premium_amount\") - col(\"total_claims_amount\")\n",
    ").groupBy(\"policy_type\").agg(\n",
    "    count(\"*\").alias(\"policy_count\"),\n",
    "    sum(\"premium_amount\").alias(\"total_premium\"),\n",
    "    sum(\"total_claims_amount\").alias(\"total_claims\"),\n",
    "    avg(\"profit_per_policy\").alias(\"avg_profit_per_policy\"),\n",
    "    sum(\"profit_per_policy\").alias(\"total_profit\")\n",
    ").withColumn(\n",
    "    \"loss_ratio_by_type\",\n",
    "    (col(\"total_claims\") / col(\"total_premium\")) * 100\n",
    ").orderBy(\"total_profit\", ascending=False)\n",
    "\n",
    "print(\"\uD83D\uDCCA Profitability by Policy Type:\")\n",
    "policy_profitability.show()\n",
    "\n",
    "# Revenue growth potential from pricing optimization\n",
    "pricing_revenue_impact = pricing_optimization.agg(\n",
    "    sum(col(\"customer_count\") * (col(\"recommended_premium\") - col(\"current_avg_premium\")))\n",
    ").collect()[0][0]\n",
    "\n",
    "# Cross-selling revenue potential\n",
    "cross_sell_potential = cross_sell_opportunities.agg(\n",
    "    sum(\"total_premium\")\n",
    ").collect()[0][0]\n",
    "\n",
    "# Estimated additional revenue from cross-selling (assuming 25% conversion at 50% of current premium)\n",
    "estimated_cross_sell_revenue = cross_sell_potential * 0.25 * 0.5\n",
    "\n",
    "# BUSINESS CONTEXT: Growth metrics demonstrate the value of analytics-driven strategies\n",
    "# These projections support business cases for pricing and marketing investments\n",
    "\n",
    "# TODO: Create growth metrics summary table\n",
    "# \n",
    "# Step 1: Create growth opportunities summary\n",
    "# TODO: Create growth_metrics DataFrame with metric_name, metric_value, metric_type columns\n",
    "# TODO: Include growth metrics with appropriate data types:\n",
    "#       - \"Pricing Optimization Revenue Impact\", pricing_revenue_impact, \"currency\"\n",
    "#       - \"Cross-Selling Revenue Potential\", estimated_cross_sell_revenue, \"currency\"\n",
    "#       - \"Total Growth Opportunity\", (pricing_revenue_impact + estimated_cross_sell_revenue), \"currency\"\n",
    "# TODO: Convert all numeric values to float for consistency\n",
    "# \n",
    "# Step 2: Display growth metrics\n",
    "# TODO: Show growth_metrics table using .show()\n",
    "# \n",
    "# Step 3: Print completion message\n",
    "# TODO: Print success message for profitability analysis completion\n",
    "#\n",
    "# EXPECTED OUTPUT: Growth metrics summary with 3 key opportunity areas\n",
    "# Target: Quantified growth opportunities for executive decision-making\n",
    "\n",
    "# Growth metrics summary (convert all values to float for consistency)\n",
    "growth_metrics = spark.createDataFrame([\n",
    "    (\"Pricing Optimization Revenue Impact\", float(pricing_revenue_impact), \"currency\"),\n",
    "    (\"Cross-Selling Revenue Potential\", float(estimated_cross_sell_revenue), \"currency\"),\n",
    "    (\"Total Growth Opportunity\", float(pricing_revenue_impact + estimated_cross_sell_revenue), \"currency\")\n",
    "], [\"metric_name\", \"metric_value\", \"metric_type\"])\n",
    "\n",
    "print(\"\uD83D\uDCCA Growth and Revenue Optimization Metrics:\")\n",
    "growth_metrics.show()\n",
    "\n",
    "print(\"✅ Profitability and growth analysis completed\")"
   ]
  },
  {
   "cell_type": "markdown",
   "metadata": {
    "application/vnd.databricks.v1+cell": {
     "cellMetadata": {
      "byteLimit": 2048000,
      "rowLimit": 10000
     },
     "inputWidgets": {},
     "nuid": "f673a80a-11eb-404f-8d0c-fb9dee34430b",
     "showTitle": false,
     "tableResultSettingsMap": {},
     "title": ""
    }
   },
   "source": [
    "## 2. Strategic Customer Portfolio Optimization"
   ]
  },
  {
   "cell_type": "markdown",
   "metadata": {
    "application/vnd.databricks.v1+cell": {
     "cellMetadata": {
      "byteLimit": 2048000,
      "rowLimit": 10000
     },
     "inputWidgets": {},
     "nuid": "3efa50d4-87f5-419f-b427-215ece65e53a",
     "showTitle": false,
     "tableResultSettingsMap": {},
     "title": ""
    }
   },
   "source": [
    "### 2.1 High-Value Customer Analysis"
   ]
  },
  {
   "cell_type": "code",
   "execution_count": 0,
   "metadata": {
    "application/vnd.databricks.v1+cell": {
     "cellMetadata": {
      "byteLimit": 2048000,
      "rowLimit": 10000
     },
     "inputWidgets": {},
     "nuid": "041ab79f-c86a-48a0-aa55-23575ea2ff26",
     "showTitle": false,
     "tableResultSettingsMap": {},
     "title": ""
    }
   },
   "outputs": [
    {
     "output_type": "stream",
     "name": "stdout",
     "output_type": "stream",
     "text": [
      "⭐ Analyzing high-value customer portfolio...\n\uD83D\uDCCA High-Value Customer Portfolio:\n   High-Value Customers: 2,918 (19.5% of total)\n   High-Value CLPV: $913,894,780.39 (79.6% of portfolio)\n\uD83D\uDCCA High-Value Customer Characteristics:\n+-------------+------------+--------------+--------------------+-------------------+------------------+\n|risk_category|clpv_segment|customer_count|            avg_clpv|avg_current_premium|avg_retention_prob|\n+-------------+------------+--------------+--------------------+-------------------+------------------+\n|       Medium|     Premium|             1|1.0588531077290038E7|           79339.25|           0.94875|\n|          Low|  High Value|           532|   672264.9729210875| 31914.886578947375|0.8728886278195458|\n|       Medium|  High Value|          1737|  255693.27083073664|  58132.92843408173|0.6717400690846176|\n|         High|  High Value|           648|  156669.86464498308|   70301.5533950617|0.5672353395061727|\n+-------------+------------+--------------+--------------------+-------------------+------------------+\n\n\uD83D\uDCCA Top 50 Customers by CLPV (VIP Treatment Candidates):\n+-----------+----------+---------+-------------------------------+-------------+------------+-------------+------------------------------+\n|customer_id|first_name|last_name|customer_lifetime_premium_value|risk_category|clpv_segment|total_premium|adjusted_retention_probability|\n+-----------+----------+---------+-------------------------------+-------------+------------+-------------+------------------------------+\n| CUST004774|   Ricardo|Patterson|           1.0588531077290038E7|       Medium|     Premium|     79339.25|                       0.94875|\n| CUST008907|   Gregory|   Curtis|           1.0060359222687498E7|       Medium|  High Value|      84804.4|                       0.94875|\n| CUST007131|    Joseph|    Perez|              8857129.100601517|          Low|  High Value|    117051.91|            0.8415000000000001|\n| CUST002122|       Ann|  Fleming|              8705918.097952735|       Medium|  High Value|     65232.94|                       0.94875|\n| CUST009841|     Chase|      Kim|               8583517.67473768|          Low|  High Value|    125947.16|                         0.935|\n| CUST008129|     Debra|    Clark|              8137615.871348437|          Low|  High Value|     67706.22|                          0.95|\n| CUST008417|    Sandra|     Soto|              8093338.502149432|          Low|  High Value|     92589.51|                          0.95|\n| CUST009921|    Alicia| Garrison|              8008817.245649999|          Low|  High Value|     74963.92|                          0.95|\n| CUST014710|   Lindsey|   Thomas|              6594321.182688281|          Low|  High Value|    164597.31|                          0.95|\n| CUST001131|   Shannon|    Smith|              5973364.432418906|          Low|  High Value|    125211.45|                         0.935|\n+-----------+----------+---------+-------------------------------+-------------+------------+-------------+------------------------------+\nonly showing top 10 rows\n✅ High-value customer analysis completed\n"
     ]
    }
   ],
   "source": [
    "print(\"⭐ Analyzing high-value customer portfolio...\")\n",
    "\n",
    "# BUSINESS CONTEXT: High-value customers drive disproportionate business value\n",
    "# Premium and High Value segments require specialized service and retention strategies\n",
    "\n",
    "# TODO: Analyze high-value customer portfolio characteristics\n",
    "# \n",
    "# Step 1: Identify premium customers\n",
    "# TODO: Join customer_clpv_analysis with customer_risk_profiles on customer_id\n",
    "# TODO: Select customer_id, first_name, last_name, risk_category, total_premium\n",
    "# TODO: Filter for clpv_segment in [\"Premium\", \"High Value\"]\n",
    "# TODO: Store result in premium_customers\n",
    "# \n",
    "# Step 2: Calculate high-value customer metrics\n",
    "# TODO: Calculate high_value_count using premium_customers.count()\n",
    "# TODO: Calculate high_value_clpv using sum(\"customer_lifetime_premium_value\")\n",
    "# TODO: Calculate high_value_percentage = (high_value_count / total_customers) * 100\n",
    "# TODO: Calculate high_value_clpv_percentage = (high_value_clpv / total_portfolio_clpv) * 100\n",
    "# \n",
    "# Step 3: Analyze high-value customer characteristics\n",
    "# TODO: Group premium_customers by risk_category and clpv_segment\n",
    "# TODO: Calculate:\n",
    "#       - count(*) as customer_count\n",
    "#       - avg(\"customer_lifetime_premium_value\") as avg_clpv\n",
    "#       - avg(\"total_premium\") as avg_current_premium\n",
    "#       - avg(\"adjusted_retention_probability\") as avg_retention_prob\n",
    "# TODO: Order by avg_clpv descending and display results\n",
    "# \n",
    "# Step 4: Identify top 50 VIP customers\n",
    "# TODO: Select key columns from premium_customers for VIP analysis\n",
    "# TODO: Order by customer_lifetime_premium_value descending\n",
    "# TODO: Limit to top 50 customers for VIP treatment\n",
    "# TODO: Display first 10 customers\n",
    "#\n",
    "# EXPECTED OUTPUT: High-value customer analysis with VIP customer identification\n",
    "# Target: 20-30% high-value customers generating 60-70% of portfolio value\n",
    "\n",
    "# Identify top-tier customers (Premium and High Value CLPV segments)\n",
    "premium_customers = customer_clpv_analysis.join(\n",
    "    customer_risk_profiles.select(\"customer_id\", \"first_name\", \"last_name\", \"risk_category\", \"total_premium\"),\n",
    "    \"customer_id\"\n",
    ").filter(\n",
    "    col(\"clpv_segment\").isin([\"Premium\", \"High Value\"])\n",
    ")\n",
    "\n",
    "# High-value customer metrics\n",
    "high_value_count = premium_customers.count()\n",
    "high_value_clpv = premium_customers.agg(sum(\"customer_lifetime_premium_value\")).collect()[0][0]\n",
    "high_value_percentage = (high_value_count / total_customers) * 100\n",
    "high_value_clpv_percentage = (high_value_clpv / total_portfolio_clpv) * 100\n",
    "\n",
    "print(f\"\uD83D\uDCCA High-Value Customer Portfolio:\")\n",
    "print(f\"   High-Value Customers: {high_value_count:,} ({high_value_percentage:.1f}% of total)\")\n",
    "print(f\"   High-Value CLPV: ${high_value_clpv:,.2f} ({high_value_clpv_percentage:.1f}% of portfolio)\")\n",
    "\n",
    "# High-value customer characteristics\n",
    "high_value_characteristics = premium_customers.groupBy(\"risk_category\", \"clpv_segment\").agg(\n",
    "    count(\"*\").alias(\"customer_count\"),\n",
    "    avg(\"customer_lifetime_premium_value\").alias(\"avg_clpv\"),\n",
    "    avg(\"total_premium\").alias(\"avg_current_premium\"),\n",
    "    avg(\"adjusted_retention_probability\").alias(\"avg_retention_prob\")\n",
    ").orderBy(\"avg_clpv\", ascending=False)\n",
    "\n",
    "print(\"\uD83D\uDCCA High-Value Customer Characteristics:\")\n",
    "high_value_characteristics.show()\n",
    "\n",
    "# Top 50 customers by CLPV for VIP treatment\n",
    "top_50_customers = premium_customers.select(\n",
    "    \"customer_id\", \"first_name\", \"last_name\", \"customer_lifetime_premium_value\",\n",
    "    \"risk_category\", \"clpv_segment\", \"total_premium\", \"adjusted_retention_probability\"\n",
    ").orderBy(\"customer_lifetime_premium_value\", ascending=False).limit(50)\n",
    "\n",
    "print(\"\uD83D\uDCCA Top 50 Customers by CLPV (VIP Treatment Candidates):\")\n",
    "top_50_customers.show(10)\n",
    "\n",
    "print(\"✅ High-value customer analysis completed\")"
   ]
  },
  {
   "cell_type": "markdown",
   "metadata": {
    "application/vnd.databricks.v1+cell": {
     "cellMetadata": {
      "byteLimit": 2048000,
      "rowLimit": 10000
     },
     "inputWidgets": {},
     "nuid": "6d6cfb52-aa2c-4b40-9bb0-713da4f71021",
     "showTitle": false,
     "tableResultSettingsMap": {},
     "title": ""
    }
   },
   "source": [
    "### 2.2 Customer Retention Investment Strategy"
   ]
  },
  {
   "cell_type": "code",
   "execution_count": 0,
   "metadata": {
    "application/vnd.databricks.v1+cell": {
     "cellMetadata": {
      "byteLimit": 2048000,
      "rowLimit": 10000
     },
     "inputWidgets": {},
     "nuid": "33b5b28c-1002-4da1-9600-d11665d0dbf3",
     "showTitle": false,
     "tableResultSettingsMap": {},
     "title": ""
    }
   },
   "outputs": [
    {
     "output_type": "stream",
     "name": "stdout",
     "output_type": "stream",
     "text": [
      "\uD83C\uDFAF Developing customer retention investment strategy...\n\uD83D\uDCCA Retention Investment Strategy by Priority:\n+-----------------------------+--------------+--------------------+-----------------------+----------------------------+\n|retention_investment_priority|customer_count|  total_clpv_at_risk|avg_renewal_probability|total_recommended_investment|\n+-----------------------------+--------------+--------------------+-----------------------+----------------------------+\n|                       Medium|          7202| 3.508004707995471E9|      0.907240210462323|         7.016009415990984E7|\n|                     Critical|         10367|2.1470332287247741E9|      0.667823669962397|         1.073516614362394E8|\n|                          Low|         56136|1.2203861206206977E9|     0.8091464098595456|         1.220386120620727E7|\n|                         High|          1295|5.7705301434943855E7|     0.5510939733590766|          1731159.0430483152|\n+-----------------------------+--------------+--------------------+-----------------------+----------------------------+\n\n\uD83D\uDCCA Retention Investment ROI Analysis:\n   Total Recommended Investment: $191,446,775.85\n   Total CLPV Protected: $6,933,129,358.78\n   Expected ROI: 36.2x\n\uD83D\uDCCA Critical Retention Customers (Immediate Action): 10,367\n✅ Customer retention investment strategy completed\n"
     ]
    }
   ],
   "source": [
    "print(\"\uD83C\uDFAF Developing customer retention investment strategy...\")\n",
    "\n",
    "# BUSINESS CONTEXT: Retention investment must be prioritized by customer value and churn risk\n",
    "# High-value customers at risk of leaving require immediate intervention\n",
    "\n",
    "# TODO: Create retention investment prioritization strategy\n",
    "# \n",
    "# Step 1: Build retention investment analysis dataset\n",
    "# TODO: Join customer_clpv_analysis with customer_risk_profiles on customer_id\n",
    "# TODO: Select customer_id, first_name, last_name, risk_category\n",
    "# TODO: Join with customer_renewal_analysis on customer_id (left join)\n",
    "# TODO: Select customer_id, renewal_probability_score, renewal_risk_category\n",
    "# \n",
    "# Step 2: Calculate retention investment priority\n",
    "# TODO: Add retention_investment_priority column using when/otherwise:\n",
    "#       - When (clpv_segment in [\"Premium\", \"High Value\"]) AND (renewal_risk_category in [\"Medium Risk\", \"High Risk\"]): \"Critical\"\n",
    "#       - When (clpv_segment == \"Medium Value\") AND (renewal_risk_category == \"High Risk\"): \"High\"\n",
    "#       - When (clpv_segment in [\"Premium\", \"High Value\"]) AND (renewal_risk_category == \"Low Risk\"): \"Medium\"\n",
    "#       - Otherwise: \"Low\"\n",
    "# \n",
    "# Step 3: Calculate recommended retention investment\n",
    "# TODO: Add recommended_retention_investment column using when/otherwise:\n",
    "#       - When retention_investment_priority == \"Critical\": customer_lifetime_premium_value * 0.05\n",
    "#       - When retention_investment_priority == \"High\": customer_lifetime_premium_value * 0.03\n",
    "#       - When retention_investment_priority == \"Medium\": customer_lifetime_premium_value * 0.02\n",
    "#       - Otherwise: customer_lifetime_premium_value * 0.01\n",
    "# \n",
    "# Step 4: Create retention investment summary\n",
    "# TODO: Group by retention_investment_priority and calculate:\n",
    "#       - count(*) as customer_count\n",
    "#       - sum(\"customer_lifetime_premium_value\") as total_clpv_at_risk\n",
    "#       - avg(\"renewal_probability_score\") as avg_renewal_probability\n",
    "#       - sum(\"recommended_retention_investment\") as total_recommended_investment\n",
    "# TODO: Order by total_clpv_at_risk descending and display results\n",
    "# \n",
    "# Step 5: Calculate retention investment ROI\n",
    "# TODO: Calculate total_investment using sum(\"total_recommended_investment\")\n",
    "# TODO: Calculate total_clpv_protected using sum(\"total_clpv_at_risk\")\n",
    "# TODO: Calculate retention_roi = total_clpv_protected / total_investment\n",
    "# TODO: Print formatted ROI analysis\n",
    "#\n",
    "# EXPECTED OUTPUT: Retention investment strategy with ROI analysis\n",
    "# Target: 5-15x ROI on retention investments, prioritized by customer value\n",
    "\n",
    "# Retention investment prioritization matrix\n",
    "retention_investment_df = customer_clpv_analysis.join(\n",
    "    customer_risk_profiles.select(\"customer_id\", \"first_name\", \"last_name\", \"risk_category\"),\n",
    "    \"customer_id\"\n",
    ").join(\n",
    "    customer_renewal_analysis.select(\"customer_id\", \"renewal_probability_score\", \"renewal_risk_category\"),\n",
    "    \"customer_id\"\n",
    ").withColumn(\n",
    "    \"retention_investment_priority\",\n",
    "    # High CLPV customers with medium-to-high churn risk get highest priority\n",
    "    when(\n",
    "        (col(\"clpv_segment\").isin([\"Premium\", \"High Value\"])) & \n",
    "        (col(\"renewal_risk_category\").isin([\"Medium Risk\", \"High Risk\"])), \n",
    "        lit(\"Critical\")\n",
    "    ).when(\n",
    "        (col(\"clpv_segment\") == \"Medium Value\") & \n",
    "        (col(\"renewal_risk_category\") == \"High Risk\"), \n",
    "        lit(\"High\")\n",
    "    ).when(\n",
    "        (col(\"clpv_segment\").isin([\"Premium\", \"High Value\"])) & \n",
    "        (col(\"renewal_risk_category\") == \"Low Risk\"), \n",
    "        lit(\"Medium\")\n",
    "    ).otherwise(lit(\"Low\"))\n",
    ").withColumn(\n",
    "    \"recommended_retention_investment\",\n",
    "    # Investment amount based on CLPV and risk\n",
    "    when(col(\"retention_investment_priority\") == \"Critical\", \n",
    "         col(\"customer_lifetime_premium_value\") * 0.05)\n",
    "    .when(col(\"retention_investment_priority\") == \"High\", \n",
    "         col(\"customer_lifetime_premium_value\") * 0.03)\n",
    "    .when(col(\"retention_investment_priority\") == \"Medium\", \n",
    "         col(\"customer_lifetime_premium_value\") * 0.02)\n",
    "    .otherwise(col(\"customer_lifetime_premium_value\") * 0.01)\n",
    ")\n",
    "\n",
    "# Retention investment summary\n",
    "retention_investment_summary = retention_investment_df.groupBy(\"retention_investment_priority\").agg(\n",
    "    count(\"*\").alias(\"customer_count\"),\n",
    "    sum(\"customer_lifetime_premium_value\").alias(\"total_clpv_at_risk\"),\n",
    "    avg(\"renewal_probability_score\").alias(\"avg_renewal_probability\"),\n",
    "    sum(\"recommended_retention_investment\").alias(\"total_recommended_investment\")\n",
    ").orderBy(\"total_clpv_at_risk\", ascending=False)\n",
    "\n",
    "print(\"\uD83D\uDCCA Retention Investment Strategy by Priority:\")\n",
    "retention_investment_summary.show()\n",
    "\n",
    "# Calculate ROI for retention investment\n",
    "total_investment = retention_investment_summary.agg(sum(\"total_recommended_investment\")).collect()[0][0]\n",
    "total_clpv_protected = retention_investment_summary.agg(sum(\"total_clpv_at_risk\")).collect()[0][0]\n",
    "retention_roi = (total_clpv_protected / total_investment) if total_investment > 0 else 0\n",
    "\n",
    "print(f\"\uD83D\uDCCA Retention Investment ROI Analysis:\")\n",
    "print(f\"   Total Recommended Investment: ${total_investment:,.2f}\")\n",
    "print(f\"   Total CLPV Protected: ${total_clpv_protected:,.2f}\")\n",
    "print(f\"   Expected ROI: {retention_roi:.1f}x\")\n",
    "\n",
    "# Critical retention customers (immediate action required)\n",
    "critical_retention_customers = retention_investment_df.filter(\n",
    "    col(\"retention_investment_priority\") == \"Critical\"\n",
    ").select(\n",
    "    \"customer_id\", \"first_name\", \"last_name\", \"customer_lifetime_premium_value\",\n",
    "    \"renewal_probability_score\", \"recommended_retention_investment\"\n",
    ").orderBy(\"customer_lifetime_premium_value\", ascending=False)\n",
    "\n",
    "print(f\"\uD83D\uDCCA Critical Retention Customers (Immediate Action): {critical_retention_customers.count():,}\")\n",
    "\n",
    "print(\"✅ Customer retention investment strategy completed\")"
   ]
  },
  {
   "cell_type": "markdown",
   "metadata": {
    "application/vnd.databricks.v1+cell": {
     "cellMetadata": {
      "byteLimit": 2048000,
      "rowLimit": 10000
     },
     "inputWidgets": {},
     "nuid": "7d60c8be-a622-40c4-9e47-d2310a6ba15a",
     "showTitle": false,
     "tableResultSettingsMap": {},
     "title": ""
    }
   },
   "source": [
    "### 2.3 Cross-Selling and Upselling Opportunities"
   ]
  },
  {
   "cell_type": "code",
   "execution_count": 0,
   "metadata": {
    "application/vnd.databricks.v1+cell": {
     "cellMetadata": {
      "byteLimit": 2048000,
      "rowLimit": 10000
     },
     "inputWidgets": {},
     "nuid": "1756472a-ff14-4a22-b687-63e1b3c0ca80",
     "showTitle": false,
     "tableResultSettingsMap": {},
     "title": ""
    }
   },
   "outputs": [
    {
     "output_type": "stream",
     "name": "stdout",
     "output_type": "stream",
     "text": [
      "\uD83D\uDCC8 Analyzing cross-selling and upselling opportunities...\n\uD83D\uDCCA Cross-Selling Opportunities by Priority and Segment:\n+-------------------+------------+--------------+--------------------+----------------------------+------------------+\n|cross_sell_priority|clpv_segment|customer_count|     current_premium|potential_additional_premium|          avg_clpv|\n+-------------------+------------+--------------+--------------------+----------------------------+------------------+\n|    Medium Priority|Medium Value|           460|1.4476077120000007E7|           5790430.848000004|41781.414621513264|\n|       Low Priority|   Low Value|          3421| 2.838063056000001E7|           5676126.112000027| 7571.956817034105|\n|       Low Priority|  High Value|           316|       1.738202691E7|          3476405.3819999993| 251762.6746081893|\n|      High Priority|  High Value|           150|   3623512.809999999|          2174107.6859999998| 401760.8332025019|\n|       Low Priority|Medium Value|            76|          2604099.88|          520819.97599999985| 42051.33429464977|\n+-------------------+------------+--------------+--------------------+----------------------------+------------------+\n\n\uD83D\uDCCA High-Priority Cross-Selling Targets: 150\n\uD83D\uDCCA Total Cross-Selling Revenue Potential: $17,637,890.00\n\uD83D\uDCCA Product Recommendation Matrix:\n+--------------+------------------+--------------------+------------------------+\n|current_policy|recommended_policy|          offer_type|expected_conversion_rate|\n+--------------+------------------+--------------------+------------------------+\n|Auto Insurance|    Home Insurance|     Bundle Discount|                      15|\n|Home Insurance|    Auto Insurance|Multi-Policy Disc...|                      20|\n|Life Insurance|  Health Insurance|   Family Protection|                      25|\n|Auto Insurance|    Life Insurance| Complete Protection|                      10|\n|Home Insurance|    Life Insurance|    Asset Protection|                      12|\n+--------------+------------------+--------------------+------------------------+\n\n✅ Cross-selling and upselling analysis completed\n"
     ]
    }
   ],
   "source": [
    "print(\"\uD83D\uDCC8 Analyzing cross-selling and upselling opportunities...\")\n",
    "\n",
    "# BUSINESS CONTEXT: Cross-selling to existing customers is 5-10x more cost-effective than new acquisition\n",
    "# Multi-product customers have higher retention rates and lifetime value\n",
    "\n",
    "# TODO: Develop comprehensive cross-selling strategy\n",
    "# \n",
    "# Step 1: Build cross-selling analysis dataset\n",
    "# TODO: Join customer_clpv_analysis with customer_risk_profiles on customer_id\n",
    "# TODO: Select customer_id, first_name, last_name, risk_category, policy_types_count, total_premium\n",
    "# TODO: Filter for customers with policy_types_count < 3 (growth potential)\n",
    "# \n",
    "# Step 2: Assign cross-selling priority\n",
    "# TODO: Add cross_sell_priority column using when/otherwise:\n",
    "#       - When (clpv_segment in [\"Premium\", \"High Value\"]) AND (risk_category == \"Low\"): \"High Priority\"\n",
    "#       - When (clpv_segment == \"Medium Value\") AND (risk_category in [\"Low\", \"Medium\"]): \"Medium Priority\"\n",
    "#       - Otherwise: \"Low Priority\"\n",
    "# \n",
    "# Step 3: Estimate additional premium potential\n",
    "# TODO: Add estimated_additional_premium column using when/otherwise:\n",
    "#       - When cross_sell_priority == \"High Priority\": total_premium * 0.6\n",
    "#       - When cross_sell_priority == \"Medium Priority\": total_premium * 0.4\n",
    "#       - Otherwise: total_premium * 0.2\n",
    "# \n",
    "# Step 4: Create cross-selling opportunity summary\n",
    "# TODO: Group by cross_sell_priority and clpv_segment\n",
    "# TODO: Calculate:\n",
    "#       - count(*) as customer_count\n",
    "#       - sum(\"total_premium\") as current_premium\n",
    "#       - sum(\"estimated_additional_premium\") as potential_additional_premium\n",
    "#       - avg(\"customer_lifetime_premium_value\") as avg_clpv\n",
    "# TODO: Order by potential_additional_premium descending and display results\n",
    "# \n",
    "# Step 5: Calculate total cross-selling potential\n",
    "# TODO: Calculate total_cross_sell_potential using sum(\"potential_additional_premium\")\n",
    "# TODO: Print formatted cross-selling analysis\n",
    "#\n",
    "# EXPECTED OUTPUT: Cross-selling opportunities with revenue potential quantified\n",
    "# Target: 30-60% customers eligible for cross-selling, $5-20M revenue potential\n",
    "\n",
    "# Enhanced cross-selling analysis\n",
    "cross_selling_analysis = customer_clpv_analysis.join(\n",
    "    customer_risk_profiles.select(\n",
    "        \"customer_id\", \"first_name\", \"last_name\", \"risk_category\", \"policy_types_count\", \"total_premium\"\n",
    "    ),\n",
    "    \"customer_id\"\n",
    ").filter(\n",
    "    col(\"policy_types_count\") < 3  # Customers with growth potential\n",
    ").withColumn(\n",
    "    \"cross_sell_priority\",\n",
    "    when(\n",
    "        (col(\"clpv_segment\").isin([\"Premium\", \"High Value\"])) & \n",
    "        (col(\"risk_category\") == \"Low\"), \n",
    "        lit(\"High Priority\")\n",
    "    ).when(\n",
    "        (col(\"clpv_segment\") == \"Medium Value\") & \n",
    "        (col(\"risk_category\").isin([\"Low\", \"Medium\"])), \n",
    "        lit(\"Medium Priority\")\n",
    "    ).otherwise(lit(\"Low Priority\"))\n",
    ").withColumn(\n",
    "    \"estimated_additional_premium\",\n",
    "    # Estimate additional premium based on current spending and segment\n",
    "    when(col(\"cross_sell_priority\") == \"High Priority\", col(\"total_premium\") * 0.6)\n",
    "    .when(col(\"cross_sell_priority\") == \"Medium Priority\", col(\"total_premium\") * 0.4)\n",
    "    .otherwise(col(\"total_premium\") * 0.2)\n",
    ")\n",
    "\n",
    "# Cross-selling opportunity summary\n",
    "cross_sell_summary = cross_selling_analysis.groupBy(\"cross_sell_priority\", \"clpv_segment\").agg(\n",
    "    count(\"*\").alias(\"customer_count\"),\n",
    "    sum(\"total_premium\").alias(\"current_premium\"),\n",
    "    sum(\"estimated_additional_premium\").alias(\"potential_additional_premium\"),\n",
    "    avg(\"customer_lifetime_premium_value\").alias(\"avg_clpv\")\n",
    ").orderBy(\"potential_additional_premium\", ascending=False)\n",
    "\n",
    "print(\"\uD83D\uDCCA Cross-Selling Opportunities by Priority and Segment:\")\n",
    "cross_sell_summary.show()\n",
    "\n",
    "# Calculate total cross-selling revenue potential\n",
    "total_cross_sell_potential = cross_sell_summary.agg(sum(\"potential_additional_premium\")).collect()[0][0]\n",
    "\n",
    "# High-priority cross-selling targets\n",
    "high_priority_cross_sell = cross_selling_analysis.filter(\n",
    "    col(\"cross_sell_priority\") == \"High Priority\"\n",
    ").select(\n",
    "    \"customer_id\", \"first_name\", \"last_name\", \"clpv_segment\", \"policy_types_count\",\n",
    "    \"total_premium\", \"estimated_additional_premium\"\n",
    ").orderBy(\"estimated_additional_premium\", ascending=False)\n",
    "\n",
    "print(f\"\uD83D\uDCCA High-Priority Cross-Selling Targets: {high_priority_cross_sell.count():,}\")\n",
    "print(f\"\uD83D\uDCCA Total Cross-Selling Revenue Potential: ${total_cross_sell_potential:,.2f}\")\n",
    "\n",
    "# BUSINESS CONTEXT: Product recommendation matrix guides cross-selling campaigns\n",
    "# Data-driven recommendations improve conversion rates and customer satisfaction\n",
    "\n",
    "# TODO: Create product recommendation matrix\n",
    "# \n",
    "# Step 1: Create product recommendation framework\n",
    "# TODO: Create product_recommendations DataFrame with columns:\n",
    "#       - current_policy, recommended_policy, offer_type, expected_conversion_rate\n",
    "# TODO: Include realistic cross-selling combinations:\n",
    "#       - (\"Auto Insurance\", \"Home Insurance\", \"Bundle Discount\", 15)\n",
    "#       - (\"Home Insurance\", \"Auto Insurance\", \"Multi-Policy Discount\", 20)\n",
    "#       - (\"Life Insurance\", \"Health Insurance\", \"Family Protection\", 25)\n",
    "#       - (\"Auto Insurance\", \"Life Insurance\", \"Complete Protection\", 10)\n",
    "#       - (\"Home Insurance\", \"Life Insurance\", \"Asset Protection\", 12)\n",
    "# \n",
    "# Step 2: Display product recommendation matrix\n",
    "# TODO: Show product_recommendations table\n",
    "# \n",
    "# Step 3: Print completion message\n",
    "# TODO: Print success message for cross-selling analysis\n",
    "#\n",
    "# EXPECTED OUTPUT: Product recommendation matrix with conversion rate expectations\n",
    "# Target: 10-25% conversion rates by product combination\n",
    "\n",
    "# Product recommendation matrix (simplified)\n",
    "product_recommendations = spark.createDataFrame([\n",
    "    (\"Auto Insurance\", \"Home Insurance\", \"Bundle Discount\", 15),\n",
    "    (\"Home Insurance\", \"Auto Insurance\", \"Multi-Policy Discount\", 20),\n",
    "    (\"Life Insurance\", \"Health Insurance\", \"Family Protection\", 25),\n",
    "    (\"Auto Insurance\", \"Life Insurance\", \"Complete Protection\", 10),\n",
    "    (\"Home Insurance\", \"Life Insurance\", \"Asset Protection\", 12)\n",
    "], [\"current_policy\", \"recommended_policy\", \"offer_type\", \"expected_conversion_rate\"])\n",
    "\n",
    "print(\"\uD83D\uDCCA Product Recommendation Matrix:\")\n",
    "product_recommendations.show()\n",
    "\n",
    "print(\"✅ Cross-selling and upselling analysis completed\")"
   ]
  },
  {
   "cell_type": "markdown",
   "metadata": {
    "application/vnd.databricks.v1+cell": {
     "cellMetadata": {
      "byteLimit": 2048000,
      "rowLimit": 10000
     },
     "inputWidgets": {},
     "nuid": "ffba82a3-8cfd-45c0-a3fc-6d72fce41f12",
     "showTitle": false,
     "tableResultSettingsMap": {},
     "title": ""
    }
   },
   "source": [
    "## 3. Risk Management and Fraud Prevention"
   ]
  },
  {
   "cell_type": "markdown",
   "metadata": {
    "application/vnd.databricks.v1+cell": {
     "cellMetadata": {
      "byteLimit": 2048000,
      "rowLimit": 10000
     },
     "inputWidgets": {},
     "nuid": "13de491b-ca5b-45b5-86cd-6f00ca283223",
     "showTitle": false,
     "tableResultSettingsMap": {},
     "title": ""
    }
   },
   "source": [
    "### 3.1 Portfolio Risk Assessment"
   ]
  },
  {
   "cell_type": "code",
   "execution_count": 0,
   "metadata": {
    "application/vnd.databricks.v1+cell": {
     "cellMetadata": {
      "byteLimit": 2048000,
      "rowLimit": 10000
     },
     "inputWidgets": {},
     "nuid": "ca07b07c-1dba-4dfe-8177-3d88c4b9b213",
     "showTitle": false,
     "tableResultSettingsMap": {},
     "title": ""
    }
   },
   "outputs": [
    {
     "output_type": "stream",
     "name": "stdout",
     "output_type": "stream",
     "text": [
      "⚖️ Conducting portfolio risk assessment...\n\uD83D\uDCCA Portfolio Risk Concentration by Segment:\n+-------------+-------------+--------------+--------------------+--------------------+------------------+------------------+\n|risk_category|value_segment|customer_count|       total_premium|        total_claims|    avg_risk_score|segment_loss_ratio|\n+-------------+-------------+--------------+--------------------+--------------------+------------------+------------------+\n|         High|    Low Value|          1461|       2.172086229E7| 2.969695558999995E8|3.0606433949349614|1367.2088701410366|\n|         High| Medium Value|           694| 2.852925828000002E7|1.7080133722000003E8| 3.081844380403444| 598.6883204031195|\n|       Medium|    Low Value|          7207| 9.001864721999957E7|      4.1122247342E8| 2.271603996114918| 456.8192103742681|\n|         High|   High Value|           571| 4.875709523999998E7|1.2335088981000008E8|3.1193520140104996|252.99064516215043|\n|       Medium| Medium Value|          2122| 8.607128887999989E7|1.5132111711000004E8|2.3271206409048038| 175.8090520997903|\n|          Low|    Low Value|          1169|   9192484.790000012|   9391071.679999998|1.4473909324208867|102.16031785242676|\n|       Medium|   High Value|          1515|1.2268092374999991E8|       8.541621326E7|2.3468316831682996| 69.62469033414013|\n|          Low| Medium Value|           155|           6334527.6|          3060275.94|1.5154838709677447| 48.31103648518321|\n|          Low|   High Value|           106|   8344215.989999997|           887874.66|1.5377358490566062|10.640600160207505|\n+-------------+-------------+--------------+--------------------+--------------------+------------------+------------------+\n\n\uD83D\uDCCA Geographic Risk Concentration (Top 10 States):\n+-----+--------------+--------------------+--------------------+------------------+------------------+\n|state|customer_count|       total_premium|        total_claims|    avg_risk_score|  state_loss_ratio|\n+-----+--------------+--------------------+--------------------+------------------+------------------+\n|   IL|           718|2.0054022979999993E7| 8.064228567000008E7|2.3722144846796622| 402.1252281919949|\n|   OH|           715|2.0578313160000026E7| 7.525232935000001E7|2.3782517482517433|365.68755060193627|\n|   CO|           731|       2.075680385E7|       6.721361538E7| 2.375170998632007|323.81486025364154|\n|   PA|           725|2.0660477140000027E7| 6.651021785000001E7| 2.369586206896547| 321.9200476315811|\n|   MO|           739|2.1904800449999962E7| 6.962830029999995E7|  2.38010825439783|317.86776811290275|\n|   NC|           761|2.1835939299999986E7|       6.821555233E7| 2.389027595269379| 312.4003570114341|\n|   MA|           724|2.0199901339999996E7|6.3040593120000035E7|2.3659530386740304|312.08366842449163|\n|   CA|           735| 2.002624350000001E7| 6.157701020000004E7|2.3342176870748266|307.48158135598425|\n|   GA|           780|2.2613244829999994E7| 6.949396082000001E7|2.3514743589743525| 307.3152983679964|\n|   IN|           725|1.9724195650000002E7| 5.947634792000004E7|2.3493103448275834|301.54004236923106|\n+-----+--------------+--------------------+--------------------+------------------+------------------+\nonly showing top 10 rows\n\uD83D\uDCCA High-Risk Customer Concentration:\n   High-Risk Customers: 2,726 (18.2%)\n   High-Risk Premium: $99,007,215.81 (23.5%)\n✅ Portfolio risk assessment completed\n"
     ]
    }
   ],
   "source": [
    "print(\"⚖️ Conducting portfolio risk assessment...\")\n",
    "\n",
    "# BUSINESS CONTEXT: Risk concentration analysis identifies potential portfolio vulnerabilities\n",
    "# Diversification across risk categories and geographies protects against adverse events\n",
    "\n",
    "# TODO: Analyze portfolio risk concentration\n",
    "# \n",
    "# Step 1: Calculate risk concentration by customer segment\n",
    "# TODO: Group customer_risk_profiles by risk_category and value_segment\n",
    "# TODO: Calculate:\n",
    "#       - count(*) as customer_count\n",
    "#       - sum(\"total_premium\") as total_premium\n",
    "#       - sum(\"total_claim_amount\") as total_claims\n",
    "#       - avg(\"composite_risk_score\") as avg_risk_score\n",
    "# \n",
    "# Step 2: Calculate segment loss ratios\n",
    "# TODO: Add segment_loss_ratio column: (total_claims / total_premium) * 100\n",
    "# TODO: Order by segment_loss_ratio descending and display results\n",
    "# \n",
    "# Step 3: Analyze geographic risk concentration\n",
    "# TODO: Group customer_risk_profiles by state\n",
    "# TODO: Calculate:\n",
    "#       - count(*) as customer_count\n",
    "#       - sum(\"total_premium\") as total_premium\n",
    "#       - sum(\"total_claim_amount\") as total_claims\n",
    "#       - avg(\"composite_risk_score\") as avg_risk_score\n",
    "# \n",
    "# Step 4: Calculate state loss ratios\n",
    "# TODO: Add state_loss_ratio column: (total_claims / total_premium) * 100\n",
    "# TODO: Order by state_loss_ratio descending and display top 10 states\n",
    "# \n",
    "# Step 5: Analyze high-risk customer concentration\n",
    "# TODO: Filter customer_risk_profiles for risk_category == \"High\"\n",
    "# TODO: Calculate high_risk_count, high_risk_premium, percentages\n",
    "# TODO: Print formatted high-risk concentration analysis\n",
    "#\n",
    "# EXPECTED OUTPUT: Portfolio risk concentration analysis by segment and geography\n",
    "# Target: Balanced risk distribution, no single segment >40% of portfolio\n",
    "\n",
    "# Risk concentration analysis\n",
    "portfolio_risk_concentration = customer_risk_profiles.groupBy(\"risk_category\", \"value_segment\").agg(\n",
    "    count(\"*\").alias(\"customer_count\"),\n",
    "    sum(\"total_premium\").alias(\"total_premium\"),\n",
    "    sum(\"total_claim_amount\").alias(\"total_claims\"),\n",
    "    avg(\"composite_risk_score\").alias(\"avg_risk_score\")\n",
    ").withColumn(\n",
    "    \"segment_loss_ratio\",\n",
    "    (col(\"total_claims\") / col(\"total_premium\")) * 100\n",
    ").orderBy(\"segment_loss_ratio\", ascending=False)\n",
    "\n",
    "print(\"\uD83D\uDCCA Portfolio Risk Concentration by Segment:\")\n",
    "portfolio_risk_concentration.show()\n",
    "\n",
    "# Geographic risk concentration\n",
    "geographic_risk = customer_risk_profiles.groupBy(\"state\").agg(\n",
    "    count(\"*\").alias(\"customer_count\"),\n",
    "    sum(\"total_premium\").alias(\"total_premium\"),\n",
    "    sum(\"total_claim_amount\").alias(\"total_claims\"),\n",
    "    avg(\"composite_risk_score\").alias(\"avg_risk_score\")\n",
    ").withColumn(\n",
    "    \"state_loss_ratio\",\n",
    "    (col(\"total_claims\") / col(\"total_premium\")) * 100\n",
    ").orderBy(\"state_loss_ratio\", ascending=False)\n",
    "\n",
    "print(\"\uD83D\uDCCA Geographic Risk Concentration (Top 10 States):\")\n",
    "geographic_risk.show(10)\n",
    "\n",
    "# High-risk customer concentration\n",
    "high_risk_customers = customer_risk_profiles.filter(col(\"risk_category\") == \"High\")\n",
    "high_risk_count = high_risk_customers.count()\n",
    "high_risk_premium = high_risk_customers.agg(sum(\"total_premium\")).collect()[0][0]\n",
    "high_risk_percentage = (high_risk_count / total_customers) * 100\n",
    "high_risk_premium_percentage = (high_risk_premium / total_premiums) * 100\n",
    "\n",
    "print(f\"\uD83D\uDCCA High-Risk Customer Concentration:\")\n",
    "print(f\"   High-Risk Customers: {high_risk_count:,} ({high_risk_percentage:.1f}%)\")\n",
    "print(f\"   High-Risk Premium: ${high_risk_premium:,.2f} ({high_risk_premium_percentage:.1f}%)\")\n",
    "\n",
    "print(\"✅ Portfolio risk assessment completed\")"
   ]
  },
  {
   "cell_type": "markdown",
   "metadata": {
    "application/vnd.databricks.v1+cell": {
     "cellMetadata": {
      "byteLimit": 2048000,
      "rowLimit": 10000
     },
     "inputWidgets": {},
     "nuid": "85a1db19-d9e7-4d3f-9fb9-365c32e04306",
     "showTitle": false,
     "tableResultSettingsMap": {},
     "title": ""
    }
   },
   "source": [
    "### 3.2 Fraud Prevention and Investigation Priorities"
   ]
  },
  {
   "cell_type": "code",
   "execution_count": 0,
   "metadata": {
    "application/vnd.databricks.v1+cell": {
     "cellMetadata": {
      "byteLimit": 2048000,
      "rowLimit": 10000
     },
     "inputWidgets": {},
     "nuid": "7af67f1c-026c-4e73-a2e9-cf75c64d582f",
     "showTitle": false,
     "tableResultSettingsMap": {},
     "title": ""
    }
   },
   "outputs": [
    {
     "output_type": "stream",
     "name": "stdout",
     "output_type": "stream",
     "text": [
      "\uD83D\uDD0D Analyzing fraud prevention and investigation priorities...\n\uD83D\uDCCA Fraud Investigation Summary:\n+-------------------+-----------+--------------------+-----------------+\n|fraud_risk_category|claim_count|  total_claim_amount|  avg_fraud_score|\n+-------------------+-----------+--------------------+-----------------+\n|          High Risk|        661|2.1475440545000005E8|6.012102874432678|\n|        Medium Risk|       3259|      9.0420248723E8|3.855783982816815|\n|           Low Risk|       6723|1.3346391631999962E8|1.343447865536219|\n+-------------------+-----------+--------------------+-----------------+\n\n\uD83D\uDCCA High-Priority Fraud Investigations: 661\n\uD83D\uDCCA Fraud Prevention Impact Analysis:\n   Total Claims Exposure: $1,252,420,809.00\n   High-Risk Fraud Exposure: $214,754,405.45\n   Estimated Fraud Prevention Savings: $32,213,160.82\n\uD83D\uDCCA Monthly Fraud Patterns:\n+-----------+-------------------+-----------+--------------------+\n|claim_month|fraud_risk_category|claim_count|      total_exposure|\n+-----------+-------------------+-----------+--------------------+\n|          1|          High Risk|         51|1.5385656720000003E7|\n|          1|           Low Risk|        530|1.0582752359999996E7|\n|          1|        Medium Risk|        268|        7.78573245E7|\n|          2|          High Risk|         44|1.4956328700000001E7|\n|          2|           Low Risk|        538| 1.097645126000001E7|\n|          2|        Medium Risk|        250| 7.844629653999999E7|\n|          3|          High Risk|         52|       1.640461347E7|\n|          3|           Low Risk|        599|1.2016709530000001E7|\n|          3|        Medium Risk|        321| 9.339702615999998E7|\n|          4|          High Risk|         55|2.2370606719999995E7|\n|          4|           Low Risk|        633|1.2996591219999995E7|\n|          4|        Medium Risk|        294| 7.555206142999998E7|\n|          5|          High Risk|         87|2.7419229949999996E7|\n|          5|           Low Risk|        730|1.4074153510000013E7|\n|          5|        Medium Risk|        365|1.0630857017999999E8|\n|          6|          High Risk|        119|3.4016954400000006E7|\n|          6|           Low Risk|        809|1.5777218339999985E7|\n|          6|        Medium Risk|        409|1.1021890445000008E8|\n|          7|          High Risk|         48|1.6231445769999998E7|\n|          7|           Low Risk|        531|1.0352634769999996E7|\n+-----------+-------------------+-----------+--------------------+\nonly showing top 20 rows\n✅ Fraud prevention analysis completed\n"
     ]
    }
   ],
   "source": [
    "print(\"\uD83D\uDD0D Analyzing fraud prevention and investigation priorities...\")\n",
    "\n",
    "# BUSINESS CONTEXT: Fraud prevention protects honest customers and company profitability\n",
    "# Early detection and investigation prevent losses and maintain trust\n",
    "\n",
    "# TODO: Analyze fraud prevention priorities\n",
    "# \n",
    "# Step 1: Create fraud investigation summary\n",
    "# TODO: Group fraud_detection by fraud_risk_category\n",
    "# TODO: Calculate:\n",
    "#       - count(*) as claim_count\n",
    "#       - sum(\"claim_amount\") as total_claim_amount\n",
    "#       - avg(\"fraud_risk_score\") as avg_fraud_score\n",
    "# TODO: Order by avg_fraud_score descending and display results\n",
    "# \n",
    "# Step 2: Identify high-priority fraud investigations\n",
    "# TODO: Filter fraud_detection for fraud_risk_category == \"High Risk\"\n",
    "# TODO: Select claim_id, customer_id, policy_id, claim_amount, fraud_risk_score, fraud_indicator\n",
    "# TODO: Order by fraud_risk_score descending\n",
    "# TODO: Count high-priority fraud cases\n",
    "# \n",
    "# Step 3: Calculate fraud impact analysis\n",
    "# TODO: Calculate total_fraud_exposure using sum(\"claim_amount\") from fraud_detection\n",
    "# TODO: Calculate high_risk_fraud_exposure for high-risk cases only\n",
    "# TODO: Calculate fraud_prevention_impact (assume 15% fraud prevention saves)\n",
    "# \n",
    "# Step 4: Analyze fraud exposure percentages\n",
    "# TODO: Calculate fraud_exposure_pct for each risk category\n",
    "# TODO: Display formatted fraud exposure analysis\n",
    "# \n",
    "# Step 5: Analyze monthly fraud patterns\n",
    "# TODO: Add claim_month column to fraud_detection using month(\"claim_date\")\n",
    "# TODO: Group by claim_month and fraud_risk_category\n",
    "# TODO: Calculate count(*) as claim_count and sum(\"claim_amount\") as total_exposure\n",
    "# TODO: Order by claim_month and fraud_risk_category, display results\n",
    "#\n",
    "# EXPECTED OUTPUT: Fraud prevention analysis with investigation priorities\n",
    "# Target: 10-20% high-risk claims, seasonal patterns identified\n",
    "\n",
    "# Fraud investigation summary\n",
    "fraud_investigation_summary = fraud_detection.groupBy(\"fraud_risk_category\").agg(\n",
    "    count(\"*\").alias(\"claim_count\"),\n",
    "    sum(\"claim_amount\").alias(\"total_claim_amount\"),\n",
    "    avg(\"fraud_risk_score\").alias(\"avg_fraud_score\")\n",
    ").orderBy(\"avg_fraud_score\", ascending=False)\n",
    "\n",
    "print(\"\uD83D\uDCCA Fraud Investigation Summary:\")\n",
    "fraud_investigation_summary.show()\n",
    "\n",
    "# High-priority fraud investigations\n",
    "high_priority_fraud = fraud_detection.filter(\n",
    "    col(\"fraud_risk_category\") == \"High Risk\"\n",
    ").select(\n",
    "    \"claim_id\", \"customer_id\", \"policy_id\", \"claim_amount\", \"fraud_risk_score\", \"fraud_indicator\"\n",
    ").orderBy(\"fraud_risk_score\", ascending=False)\n",
    "\n",
    "print(f\"\uD83D\uDCCA High-Priority Fraud Investigations: {high_priority_fraud.count():,}\")\n",
    "\n",
    "# Fraud prevention impact analysis\n",
    "total_fraud_exposure = fraud_detection.agg(sum(\"claim_amount\")).collect()[0][0]\n",
    "high_risk_fraud_exposure = fraud_detection.filter(\n",
    "    col(\"fraud_risk_category\") == \"High Risk\"\n",
    ").agg(sum(\"claim_amount\")).collect()[0][0]\n",
    "\n",
    "fraud_prevention_impact = high_risk_fraud_exposure * 0.15  # Assume 15% fraud prevention saves\n",
    "\n",
    "print(f\"\uD83D\uDCCA Fraud Prevention Impact Analysis:\")\n",
    "print(f\"   Total Claims Exposure: ${total_fraud_exposure:,.2f}\")\n",
    "print(f\"   High-Risk Fraud Exposure: ${high_risk_fraud_exposure:,.2f}\")\n",
    "print(f\"   Estimated Fraud Prevention Savings: ${fraud_prevention_impact:,.2f}\")\n",
    "\n",
    "# Monthly fraud pattern analysis\n",
    "fraud_monthly_patterns = fraud_detection.withColumn(\n",
    "    \"claim_month\", month(\"claim_date\")\n",
    ").groupBy(\"claim_month\", \"fraud_risk_category\").agg(\n",
    "    count(\"*\").alias(\"claim_count\"),\n",
    "    sum(\"claim_amount\").alias(\"total_exposure\")\n",
    ").orderBy(\"claim_month\", \"fraud_risk_category\")\n",
    "\n",
    "print(\"\uD83D\uDCCA Monthly Fraud Patterns:\")\n",
    "fraud_monthly_patterns.show()\n",
    "\n",
    "print(\"✅ Fraud prevention analysis completed\")"
   ]
  },
  {
   "cell_type": "markdown",
   "metadata": {
    "application/vnd.databricks.v1+cell": {
     "cellMetadata": {
      "byteLimit": 2048000,
      "rowLimit": 10000
     },
     "inputWidgets": {},
     "nuid": "0ac98ca8-1e25-4e40-86b6-0efee6f0a87f",
     "showTitle": false,
     "tableResultSettingsMap": {},
     "title": ""
    }
   },
   "source": [
    "## 4. Business Intelligence Export Preparation"
   ]
  },
  {
   "cell_type": "markdown",
   "metadata": {
    "application/vnd.databricks.v1+cell": {
     "cellMetadata": {
      "byteLimit": 2048000,
      "rowLimit": 10000
     },
     "inputWidgets": {},
     "nuid": "dc3ea5e4-1089-4b4d-93f6-bd5c7b8041b2",
     "showTitle": false,
     "tableResultSettingsMap": {},
     "title": ""
    }
   },
   "source": [
    "### 4.1 Executive Dashboard Data Preparation"
   ]
  },
  {
   "cell_type": "code",
   "execution_count": 0,
   "metadata": {
    "application/vnd.databricks.v1+cell": {
     "cellMetadata": {
      "byteLimit": 2048000,
      "rowLimit": 10000
     },
     "inputWidgets": {},
     "nuid": "14ea1490-708d-4896-9d5f-abf543404bbe",
     "showTitle": false,
     "tableResultSettingsMap": {},
     "title": ""
    }
   },
   "outputs": [
    {
     "output_type": "stream",
     "name": "stdout",
     "output_type": "stream",
     "text": [
      "\uD83D\uDCCA Preparing executive dashboard data exports...\n\uD83D\uDCCA Executive Dashboard Dataset: 75,095 customers\n\uD83D\uDCCA KPI Summary for Dashboard:\n+--------------------+--------------------+\n|            kpi_name|           kpi_value|\n+--------------------+--------------------+\n|     total_customers|             15000.0|\n|      total_policies|             75000.0|\n|      total_premiums|4.2164930404000455E8|\n|        total_claims|             10643.0|\n|  total_claim_amount|1.2524208089999962E9|\n|          loss_ratio|   297.0290231716287|\n|         claims_rate|  14.190666666666665|\n|            avg_clpv|   76568.67725002012|\n|total_portfolio_clpv|1.1485301587503018E9|\n|      retention_rate|              79.488|\n|   at_risk_customers|              2412.0|\n|     premium_at_risk|1.4204776030000007E7|\n|pricing_revenue_i...|-2.53873051937514...|\n|cross_sell_potential| 1.763789000400003E7|\n|fraud_prevention_...|3.2213160817500006E7|\n+--------------------+--------------------+\n\n\uD83D\uDCCA Risk-Value Matrix for Dashboard:\n+-------------+-------------+--------------+------------------+---------------------+-------------------+------------------+\n|risk_category|value_segment|customer_count|    avg_risk_score|total_premium_segment|avg_premium_segment|segment_percentage|\n+-------------+-------------+--------------+------------------+---------------------+-------------------+------------------+\n|         High|   High Value|           571|3.1193520140104996|  4.875709523999998E7|  85388.95838879157|3.8066666666666666|\n|         High|    Low Value|          1461|3.0606433949349614|        2.172086229E7| 14867.119979466119|              9.74|\n|         High| Medium Value|           694| 3.081844380403444|  2.852925828000002E7|  41108.44132564844| 4.626666666666666|\n|          Low|   High Value|           106|1.5377358490566062|    8344215.989999997|  78719.01877358489|0.7066666666666667|\n|          Low|    Low Value|          1169|1.4473909324208867|    9192484.790000012| 7863.5455859709255| 7.793333333333333|\n|          Low| Medium Value|           155|1.5154838709677447|            6334527.6|           40867.92|1.0333333333333332|\n|       Medium|   High Value|          1516| 2.346602902374653|  1.227356776599999E8|  80960.20953825851|10.106666666666667|\n|       Medium|    Low Value|          7207| 2.271603996114918|  9.001864721999957E7|    12490.446402109| 48.04666666666667|\n|       Medium| Medium Value|          2121| 2.327274870344174|   8.60165349699999E7|   40554.7076709099|             14.14|\n+-------------+-------------+--------------+------------------+---------------------+-------------------+------------------+\n\n✅ Executive dashboard data preparation completed\n"
     ]
    }
   ],
   "source": [
    "print(\"\uD83D\uDCCA Preparing executive dashboard data exports...\")\n",
    "\n",
    "# BUSINESS CONTEXT: Executive dashboards require comprehensive, clean datasets\n",
    "# Power BI integration depends on well-structured, optimized data tables\n",
    "\n",
    "# TODO: Create comprehensive executive dashboard dataset\n",
    "# \n",
    "# Step 1: Build executive dashboard main dataset\n",
    "# TODO: Join customer_risk_profiles with customer_clpv_analysis on customer_id\n",
    "# TODO: Select key columns: customer_id, customer_lifetime_premium_value, clpv_segment,\n",
    "#       adjusted_retention_probability, predicted_annual_premium\n",
    "# TODO: Join with customer_renewal_analysis on customer_id (left join)\n",
    "# TODO: Select renewal_probability_score, renewal_risk_category\n",
    "# \n",
    "# Step 2: Select final columns for dashboard\n",
    "# TODO: Select comprehensive column set for Power BI:\n",
    "#       - customer_id, first_name, last_name, state, risk_category, value_segment\n",
    "#       - clpv_segment, total_premium, customer_lifetime_premium_value\n",
    "#       - total_claims, total_claim_amount, composite_risk_score\n",
    "#       - adjusted_retention_probability, renewal_probability_score, renewal_risk_category\n",
    "#       - policy_types_count, total_policies, payment_reliability_score\n",
    "# \n",
    "# Step 3: Display dataset summary\n",
    "# TODO: Print count of records in executive dashboard dataset\n",
    "# \n",
    "# Step 4: Create KPI summary for dashboard\n",
    "# TODO: Create kpi_summary DataFrame with kpi_name and kpi_value columns\n",
    "# TODO: Include all key metrics as float values:\n",
    "#       - total_customers, total_policies, total_premiums, total_claims\n",
    "#       - total_claim_amount, loss_ratio, claims_rate, avg_clpv\n",
    "#       - total_portfolio_clpv, retention_rate, at_risk_customers\n",
    "#       - premium_at_risk, pricing_revenue_impact, cross_sell_potential\n",
    "#       - fraud_prevention_savings\n",
    "# \n",
    "# Step 5: Display KPI summary and risk-value matrix\n",
    "# TODO: Show kpi_summary table\n",
    "# TODO: Add segment_percentage column to risk_value_matrix\n",
    "# TODO: Display updated risk-value matrix\n",
    "#\n",
    "# EXPECTED OUTPUT: Executive dashboard datasets ready for Power BI integration\n",
    "# Target: Clean, comprehensive data tables optimized for visualization\n",
    "\n",
    "# Create comprehensive executive dashboard dataset\n",
    "executive_dashboard_data = customer_risk_profiles.join(\n",
    "    customer_clpv_analysis.select(\n",
    "        \"customer_id\", \"customer_lifetime_premium_value\", \"clpv_segment\",\n",
    "        \"adjusted_retention_probability\", \"predicted_annual_premium\"\n",
    "    ), \"customer_id\"\n",
    ").join(\n",
    "    customer_renewal_analysis.select(\n",
    "        \"customer_id\", \"renewal_probability_score\", \"renewal_risk_category\"\n",
    "    ), \"customer_id\", \"left\"\n",
    ").select(\n",
    "    \"customer_id\", \"first_name\", \"last_name\", \"state\", \"risk_category\", \"value_segment\",\n",
    "    \"clpv_segment\", \"total_premium\", \"customer_lifetime_premium_value\",\n",
    "    \"total_claims\", \"total_claim_amount\", \"composite_risk_score\",\n",
    "    \"adjusted_retention_probability\", \"renewal_probability_score\", \"renewal_risk_category\",\n",
    "    \"policy_types_count\", \"total_policies\", \"payment_reliability_score\"\n",
    ")\n",
    "\n",
    "print(f\"\uD83D\uDCCA Executive Dashboard Dataset: {executive_dashboard_data.count():,} customers\")\n",
    "\n",
    "# Create KPI summary for dashboard (all values as float for consistency)\n",
    "kpi_summary = spark.createDataFrame([\n",
    "    (\"total_customers\", float(total_customers)),\n",
    "    (\"total_policies\", float(total_policies)),\n",
    "    (\"total_premiums\", float(total_premiums)),\n",
    "    (\"total_claims\", float(total_claims)),\n",
    "    (\"total_claim_amount\", float(total_claim_amount)),\n",
    "    (\"loss_ratio\", float(loss_ratio)),\n",
    "    (\"claims_rate\", float(claims_rate)),\n",
    "    (\"avg_clpv\", float(avg_clpv_per_customer)),\n",
    "    (\"total_portfolio_clpv\", float(total_portfolio_clpv)),\n",
    "    (\"retention_rate\", float(retention_rate)),\n",
    "    (\"at_risk_customers\", float(at_risk_count)),\n",
    "    (\"premium_at_risk\", float(premium_at_risk)),\n",
    "    (\"pricing_revenue_impact\", float(pricing_revenue_impact)),\n",
    "    (\"cross_sell_potential\", float(total_cross_sell_potential)),\n",
    "    (\"fraud_prevention_savings\", float(fraud_prevention_impact))\n",
    "], [\"kpi_name\", \"kpi_value\"])\n",
    "\n",
    "print(\"\uD83D\uDCCA KPI Summary for Dashboard:\")\n",
    "kpi_summary.show()\n",
    "\n",
    "# Create risk-value matrix for dashboard\n",
    "dashboard_risk_value_matrix = risk_value_matrix.withColumn(\n",
    "    \"segment_percentage\", \n",
    "    (col(\"customer_count\") / total_customers) * 100\n",
    ")\n",
    "\n",
    "print(\"\uD83D\uDCCA Risk-Value Matrix for Dashboard:\")\n",
    "dashboard_risk_value_matrix.show()\n",
    "\n",
    "print(\"✅ Executive dashboard data preparation completed\")"
   ]
  },
  {
   "cell_type": "markdown",
   "metadata": {
    "application/vnd.databricks.v1+cell": {
     "cellMetadata": {
      "byteLimit": 2048000,
      "rowLimit": 10000
     },
     "inputWidgets": {},
     "nuid": "43b5b55c-fe25-46cb-b819-9409e3efcd94",
     "showTitle": false,
     "tableResultSettingsMap": {},
     "title": ""
    }
   },
   "source": [
    "### 4.2 Action Lists and Recommendations"
   ]
  },
  {
   "cell_type": "code",
   "execution_count": 0,
   "metadata": {
    "application/vnd.databricks.v1+cell": {
     "cellMetadata": {
      "byteLimit": 2048000,
      "rowLimit": 10000
     },
     "inputWidgets": {},
     "nuid": "8fa3c48b-61fc-4f3b-9a40-146286475937",
     "showTitle": false,
     "tableResultSettingsMap": {},
     "title": ""
    }
   },
   "outputs": [
    {
     "output_type": "stream",
     "name": "stdout",
     "output_type": "stream",
     "text": [
      "\uD83D\uDCCB Creating action lists and strategic recommendations...\n\uD83D\uDCCA Strategic Action Items:\n+--------------------+--------------------+--------------+--------+\n|     action_category|  action_description|customer_count|priority|\n+--------------------+--------------------+--------------+--------+\n|  Customer Retention|Contact critical ...|       10367.0|Critical|\n|       Cross-Selling|Launch cross-sell...|         150.0|    High|\n| Fraud Investigation|Investigate high-...|         661.0|    High|\n|Pricing Optimization|Implement risk-ba...|       15000.0|  Medium|\n|Portfolio Rebalan...|Review high-risk ...|        2726.0|  Medium|\n+--------------------+--------------------+--------------+--------+\n\n\uD83D\uDCCA Revenue Optimization Recommendations:\n+--------------------+--------------------+--------------------+-----------------+\n|      recommendation| investment_required|     expected_return|     roi_multiple|\n+--------------------+--------------------+--------------------+-----------------+\n|Retention Investment|1.9144677584540486E8|6.9331293587758875E9|36.21439602813921|\n|Pricing Optimization|-2.53873051937514...|-1.26936525968757...|              5.0|\n|       Cross-Selling|   4409472.501000008| 1.763789000400003E7|              4.0|\n|    Fraud Prevention|   3221316.081750001|3.2213160817500006E7|             10.0|\n+--------------------+--------------------+--------------------+-----------------+\n\n\uD83D\uDCCA Customer Prioritization Strategy:\n+--------------------+--------------------+--------------------+--------+\n|    customer_segment|            strategy|          focus_area|priority|\n+--------------------+--------------------+--------------------+--------+\n|    Premium-Low Risk|       VIP Treatment|Retention + Cross...|    High|\n| Premium-Medium Risk| Proactive Retention|     Risk mitigation|    High|\n|   Premium-High Risk|Intensive Management|      Risk reduction|  Medium|\n| High Value-Low Risk|        Growth Focus| Cross-sell + Upsell|    High|\n|High Value-Medium...|     Retention Focus|       Stabilization|  Medium|\n|Medium Value-Low ...|   Cross-sell Target|    Policy expansion|  Medium|\n| Low Value-High Risk|     Risk Management|       Policy review|     Low|\n+--------------------+--------------------+--------------------+--------+\n\n✅ Action lists and recommendations completed\n"
     ]
    }
   ],
   "source": [
    "print(\"\uD83D\uDCCB Creating action lists and strategic recommendations...\")\n",
    "\n",
    "# BUSINESS CONTEXT: Actionable recommendations drive business value from analytics\n",
    "# Specific action items with priorities enable immediate execution\n",
    "\n",
    "# TODO: Create strategic action items and recommendations\n",
    "# \n",
    "# Step 1: Create high-priority action items\n",
    "# TODO: Create action_items DataFrame with columns:\n",
    "#       - action_category, action_description, customer_count, priority\n",
    "# TODO: Include key action items:\n",
    "#       - (\"Customer Retention\", \"Contact critical retention customers within 7 days\", \n",
    "#          critical_retention_customers.count(), \"Critical\")\n",
    "#       - (\"Cross-Selling\", \"Launch cross-selling campaign for high-priority customers\",\n",
    "#          high_priority_cross_sell.count(), \"High\")\n",
    "#       - (\"Fraud Investigation\", \"Investigate high-risk fraud claims\",\n",
    "#          high_priority_fraud.count(), \"High\")\n",
    "#       - (\"Pricing Optimization\", \"Implement risk-based pricing adjustments\",\n",
    "#          total_customers, \"Medium\")\n",
    "#       - (\"Portfolio Rebalancing\", \"Review high-risk customer concentration\",\n",
    "#          high_risk_customers.count(), \"Medium\")\n",
    "# TODO: Convert customer_count to float for consistency\n",
    "# \n",
    "# Step 2: Create revenue optimization recommendations\n",
    "# TODO: Create revenue_recommendations DataFrame with columns:\n",
    "#       - recommendation, investment_required, expected_return, roi_multiple\n",
    "# TODO: Include revenue opportunities:\n",
    "#       - (\"Retention Investment\", total_investment, total_clpv_protected, retention_roi)\n",
    "#       - (\"Pricing Optimization\", pricing_revenue_impact, pricing_revenue_impact * 5, 5.0)\n",
    "#       - (\"Cross-Selling\", total_cross_sell_potential * 0.25, total_cross_sell_potential, 4.0)\n",
    "#       - (\"Fraud Prevention\", fraud_prevention_impact * 0.1, fraud_prevention_impact, 10.0)\n",
    "# TODO: Ensure all numeric values are float\n",
    "# \n",
    "# Step 3: Create customer prioritization strategy\n",
    "# TODO: Create customer_prioritization DataFrame with columns:\n",
    "#       - customer_segment, strategy, focus_area, priority\n",
    "# TODO: Include strategic frameworks:\n",
    "#       - (\"Premium-Low Risk\", \"VIP Treatment\", \"Retention + Cross-sell\", \"High\")\n",
    "#       - (\"Premium-Medium Risk\", \"Proactive Retention\", \"Risk mitigation\", \"High\")\n",
    "#       - (\"Premium-High Risk\", \"Intensive Management\", \"Risk reduction\", \"Medium\")\n",
    "#       - (\"High Value-Low Risk\", \"Growth Focus\", \"Cross-sell + Upsell\", \"High\")\n",
    "#       - (\"High Value-Medium Risk\", \"Retention Focus\", \"Stabilization\", \"Medium\")\n",
    "#       - (\"Medium Value-Low Risk\", \"Cross-sell Target\", \"Policy expansion\", \"Medium\")\n",
    "#       - (\"Low Value-High Risk\", \"Risk Management\", \"Policy review\", \"Low\")\n",
    "# \n",
    "# Step 4: Display all recommendation frameworks\n",
    "# TODO: Show action_items table\n",
    "# TODO: Show revenue_recommendations table\n",
    "# TODO: Show customer_prioritization table\n",
    "# TODO: Print completion message\n",
    "#\n",
    "# EXPECTED OUTPUT: Comprehensive action frameworks for executive decision-making\n",
    "# Target: Clear priorities, quantified ROI, specific customer strategies\n",
    "\n",
    "# High-priority action items (convert customer counts to float for consistency)\n",
    "action_items = spark.createDataFrame([\n",
    "    (\"Customer Retention\", \"Contact critical retention customers within 7 days\", \n",
    "     float(critical_retention_customers.count()), \"Critical\"),\n",
    "    (\"Cross-Selling\", \"Launch cross-selling campaign for high-priority customers\",\n",
    "     float(high_priority_cross_sell.count()), \"High\"),\n",
    "    (\"Fraud Investigation\", \"Investigate high-risk fraud claims\",\n",
    "     float(high_priority_fraud.count()), \"High\"),\n",
    "    (\"Pricing Optimization\", \"Implement risk-based pricing adjustments\",\n",
    "     float(total_customers), \"Medium\"),\n",
    "    (\"Portfolio Rebalancing\", \"Review high-risk customer concentration\",\n",
    "     float(high_risk_customers.count()), \"Medium\")\n",
    "], [\"action_category\", \"action_description\", \"customer_count\", \"priority\"])\n",
    "\n",
    "print(\"\uD83D\uDCCA Strategic Action Items:\")\n",
    "action_items.show()\n",
    "\n",
    "# Revenue optimization recommendations (ensure all numeric values are float)\n",
    "revenue_recommendations = spark.createDataFrame([\n",
    "    (\"Retention Investment\", float(total_investment), float(total_clpv_protected), float(retention_roi)),\n",
    "    (\"Pricing Optimization\", float(pricing_revenue_impact), float(pricing_revenue_impact * 5), float(5.0)),\n",
    "    (\"Cross-Selling\", float(total_cross_sell_potential * 0.25), float(total_cross_sell_potential), float(4.0)),\n",
    "    (\"Fraud Prevention\", float(fraud_prevention_impact * 0.1), float(fraud_prevention_impact), float(10.0))\n",
    "], [\"recommendation\", \"investment_required\", \"expected_return\", \"roi_multiple\"])\n",
    "\n",
    "print(\"\uD83D\uDCCA Revenue Optimization Recommendations:\")\n",
    "revenue_recommendations.show()\n",
    "\n",
    "# Customer prioritization matrix\n",
    "customer_prioritization = spark.createDataFrame([\n",
    "    (\"Premium-Low Risk\", \"VIP Treatment\", \"Retention + Cross-sell\", \"High\"),\n",
    "    (\"Premium-Medium Risk\", \"Proactive Retention\", \"Risk mitigation\", \"High\"),\n",
    "    (\"Premium-High Risk\", \"Intensive Management\", \"Risk reduction\", \"Medium\"),\n",
    "    (\"High Value-Low Risk\", \"Growth Focus\", \"Cross-sell + Upsell\", \"High\"),\n",
    "    (\"High Value-Medium Risk\", \"Retention Focus\", \"Stabilization\", \"Medium\"),\n",
    "    (\"Medium Value-Low Risk\", \"Cross-sell Target\", \"Policy expansion\", \"Medium\"),\n",
    "    (\"Low Value-High Risk\", \"Risk Management\", \"Policy review\", \"Low\")\n",
    "], [\"customer_segment\", \"strategy\", \"focus_area\", \"priority\"])\n",
    "\n",
    "print(\"\uD83D\uDCCA Customer Prioritization Strategy:\")\n",
    "customer_prioritization.show()\n",
    "\n",
    "print(\"✅ Action lists and recommendations completed\")"
   ]
  },
  {
   "cell_type": "markdown",
   "metadata": {
    "application/vnd.databricks.v1+cell": {
     "cellMetadata": {
      "byteLimit": 2048000,
      "rowLimit": 10000
     },
     "inputWidgets": {},
     "nuid": "aff6bdfc-fb54-46ad-b7e2-e74121267afd",
     "showTitle": false,
     "tableResultSettingsMap": {},
     "title": ""
    }
   },
   "source": [
    "## 5. Save Executive Dashboard Results to Database Tables"
   ]
  },
  {
   "cell_type": "code",
   "execution_count": 0,
   "metadata": {
    "application/vnd.databricks.v1+cell": {
     "cellMetadata": {
      "byteLimit": 2048000,
      "rowLimit": 10000
     },
     "inputWidgets": {},
     "nuid": "27075c5a-2493-4432-b15d-acfa80c24122",
     "showTitle": false,
     "tableResultSettingsMap": {},
     "title": ""
    }
   },
   "outputs": [
    {
     "output_type": "stream",
     "name": "stdout",
     "output_type": "stream",
     "text": [
      "\uD83D\uDCBE Saving executive dashboard results to database tables...\n✅ Saved executive_dashboard table: 75,095 records\n✅ Saved executive_kpis table: 15 records\n✅ Saved strategic_action_items table: 5 records\n✅ Saved revenue_optimization_recommendations table: 4 records\n✅ Saved customer_prioritization_strategy table: 7 records\n✅ Saved retention_investment_strategy table: 75,000 records\n✅ Saved cross_selling_opportunities_detailed table: 4,423 records\n✅ Saved portfolio_risk_analysis table: 9 records\n✅ Saved high_value_customers table: 2,918 records\n✅ Saved policy_profitability_analysis table: 6 records\n\n\uD83C\uDFAF All executive dashboard tables saved successfully!\n"
     ]
    }
   ],
   "source": [
    "print(\"\uD83D\uDCBE Saving executive dashboard results to database tables...\")\n",
    "\n",
    "# BUSINESS CONTEXT: Database persistence ensures reliable Power BI integration\n",
    "# All executive analytics must be saved for dashboard consumption and pipeline reliability\n",
    "\n",
    "# TODO: Save all executive dashboard results to database tables\n",
    "# \n",
    "# Step 1: Save executive dashboard main dataset\n",
    "# TODO: Save executive_dashboard_data as table \"insurance_analytics.executive_dashboard\" using overwrite mode\n",
    "# TODO: Print success message with record count\n",
    "# \n",
    "# Step 2: Save KPI summary\n",
    "# TODO: Save kpi_summary as table \"insurance_analytics.executive_kpis\" using overwrite mode\n",
    "# TODO: Print success message with record count\n",
    "# \n",
    "# Step 3: Save action items\n",
    "# TODO: Save action_items as table \"insurance_analytics.strategic_action_items\" using overwrite mode\n",
    "# TODO: Print success message with record count\n",
    "# \n",
    "# Step 4: Save revenue recommendations\n",
    "# TODO: Save revenue_recommendations as table \"insurance_analytics.revenue_optimization_recommendations\" using overwrite mode\n",
    "# TODO: Print success message with record count\n",
    "# \n",
    "# Step 5: Save customer prioritization strategy\n",
    "# TODO: Save customer_prioritization as table \"insurance_analytics.customer_prioritization_strategy\" using overwrite mode\n",
    "# TODO: Print success message with record count\n",
    "# \n",
    "# Step 6: Save retention investment strategy\n",
    "# TODO: Save retention_investment_df as table \"insurance_analytics.retention_investment_strategy\" using overwrite mode\n",
    "# TODO: Print success message with record count\n",
    "# \n",
    "# Step 7: Save cross-selling analysis\n",
    "# TODO: Save cross_selling_analysis as table \"insurance_analytics.cross_selling_opportunities_detailed\" using overwrite mode\n",
    "# TODO: Print success message with record count\n",
    "# \n",
    "# Step 8: Save portfolio risk analysis\n",
    "# TODO: Save portfolio_risk_concentration as table \"insurance_analytics.portfolio_risk_analysis\" using overwrite mode\n",
    "# TODO: Print success message with record count\n",
    "# \n",
    "# Step 9: Save high-value customer analysis\n",
    "# TODO: Save premium_customers as table \"insurance_analytics.high_value_customers\" using overwrite mode\n",
    "# TODO: Print success message with record count\n",
    "# \n",
    "# Step 10: Save policy profitability analysis\n",
    "# TODO: Save policy_profitability as table \"insurance_analytics.policy_profitability_analysis\" using overwrite mode\n",
    "# TODO: Print success message with record count\n",
    "# \n",
    "# Step 11: Print final success message\n",
    "# TODO: Print confirmation that all executive dashboard tables saved successfully\n",
    "#\n",
    "# EXPECTED OUTPUT: All 10 executive dashboard tables saved to database\n",
    "# Target: Complete data foundation for Power BI dashboard creation\n",
    "\n",
    "# Save executive dashboard main dataset\n",
    "executive_dashboard_data.write.mode(\"overwrite\").saveAsTable(f\"{DATABASE_NAME}.executive_dashboard\")\n",
    "print(f\"✅ Saved executive_dashboard table: {executive_dashboard_data.count():,} records\")\n",
    "\n",
    "# Save KPI summary\n",
    "kpi_summary.write.mode(\"overwrite\").saveAsTable(f\"{DATABASE_NAME}.executive_kpis\")\n",
    "print(f\"✅ Saved executive_kpis table: {kpi_summary.count():,} records\")\n",
    "\n",
    "# Save action items\n",
    "action_items.write.mode(\"overwrite\").saveAsTable(f\"{DATABASE_NAME}.strategic_action_items\")\n",
    "print(f\"✅ Saved strategic_action_items table: {action_items.count():,} records\")\n",
    "\n",
    "# Save revenue recommendations\n",
    "revenue_recommendations.write.mode(\"overwrite\").saveAsTable(f\"{DATABASE_NAME}.revenue_optimization_recommendations\")\n",
    "print(f\"✅ Saved revenue_optimization_recommendations table: {revenue_recommendations.count():,} records\")\n",
    "\n",
    "# Save customer prioritization strategy\n",
    "customer_prioritization.write.mode(\"overwrite\").saveAsTable(f\"{DATABASE_NAME}.customer_prioritization_strategy\")\n",
    "print(f\"✅ Saved customer_prioritization_strategy table: {customer_prioritization.count():,} records\")\n",
    "\n",
    "# Save retention investment strategy\n",
    "retention_investment_df.write.mode(\"overwrite\").saveAsTable(f\"{DATABASE_NAME}.retention_investment_strategy\")\n",
    "print(f\"✅ Saved retention_investment_strategy table: {retention_investment_df.count():,} records\")\n",
    "\n",
    "# Save cross-selling analysis\n",
    "cross_selling_analysis.write.mode(\"overwrite\").saveAsTable(f\"{DATABASE_NAME}.cross_selling_opportunities_detailed\")\n",
    "print(f\"✅ Saved cross_selling_opportunities_detailed table: {cross_selling_analysis.count():,} records\")\n",
    "\n",
    "# Save portfolio risk analysis\n",
    "portfolio_risk_concentration.write.mode(\"overwrite\").saveAsTable(f\"{DATABASE_NAME}.portfolio_risk_analysis\")\n",
    "print(f\"✅ Saved portfolio_risk_analysis table: {portfolio_risk_concentration.count():,} records\")\n",
    "\n",
    "# Save high-value customer analysis\n",
    "premium_customers.write.mode(\"overwrite\").saveAsTable(f\"{DATABASE_NAME}.high_value_customers\")\n",
    "print(f\"✅ Saved high_value_customers table: {premium_customers.count():,} records\")\n",
    "\n",
    "# Save policy profitability analysis\n",
    "policy_profitability.write.mode(\"overwrite\").saveAsTable(f\"{DATABASE_NAME}.policy_profitability_analysis\")\n",
    "print(f\"✅ Saved policy_profitability_analysis table: {policy_profitability.count():,} records\")\n",
    "\n",
    "print(\"\\n\uD83C\uDFAF All executive dashboard tables saved successfully!\")"
   ]
  },
  {
   "cell_type": "markdown",
   "metadata": {
    "application/vnd.databricks.v1+cell": {
     "cellMetadata": {
      "byteLimit": 2048000,
      "rowLimit": 10000
     },
     "inputWidgets": {},
     "nuid": "9994a906-721e-493c-9fa4-684f6dc74e87",
     "showTitle": false,
     "tableResultSettingsMap": {},
     "title": ""
    }
   },
   "source": [
    "## 6. Executive Summary and Strategic Recommendations"
   ]
  },
  {
   "cell_type": "code",
   "execution_count": 0,
   "metadata": {
    "application/vnd.databricks.v1+cell": {
     "cellMetadata": {
      "byteLimit": 2048000,
      "rowLimit": 10000
     },
     "inputWidgets": {},
     "nuid": "78190e2f-86f0-4dda-8733-85782f9b9da0",
     "showTitle": false,
     "tableResultSettingsMap": {},
     "title": ""
    }
   },
   "outputs": [
    {
     "output_type": "stream",
     "name": "stdout",
     "output_type": "stream",
     "text": [
      "\uD83C\uDFAF EXECUTIVE SUMMARY - INSURANCE ANALYTICS PLATFORM\n================================================================================\n\uD83D\uDCCA PORTFOLIO OVERVIEW (as of 2025-07-07):\n   Total Customers: 15,000\n   Total Policies: 75,000\n   Total Premium Portfolio: $421,649,304.04\n   Total CLPV Portfolio: $1,148,530,158.75\n   Portfolio Loss Ratio: 297.03%\n\n\uD83D\uDCB0 FINANCIAL PERFORMANCE:\n   Average Premium per Customer: $28,109.95\n   Average CLPV per Customer: $76,568.68\n   Claims Rate: 14.19%\n   Policy Retention Rate: 79.49%\n\n\uD83C\uDFAF STRATEGIC OPPORTUNITIES:\n   Revenue Optimization Potential: $-25,387,305.19\n   Cross-Selling Revenue Potential: $17,637,890.00\n   Fraud Prevention Savings: $32,213,160.82\n   Total Growth Opportunity: $24,463,745.63\n\n⚠️ RISK MANAGEMENT PRIORITIES:\n   At-Risk Customers: 2,412 (16.1%)\n   Premium at Risk: $14,204,776.03\n   High-Risk Customers: 2,726 (18.2%)\n   High-Risk Claims for Investigation: 661\n\n\uD83D\uDCC8 CUSTOMER PORTFOLIO INSIGHTS:\n   High-Value Customers (Premium + High Value): 2,918 (19.5%)\n   High-Value CLPV: $913,894,780.39 (79.6% of portfolio)\n   Cross-Selling Targets: 4,423\n   Critical Retention Customers: 10,367\n\n\uD83C\uDFAF IMMEDIATE ACTION ITEMS:\n   1. Contact 10,367 critical retention customers within 7 days\n   2. Launch cross-selling campaign for 150 high-priority customers\n   3. Investigate 661 high-risk fraud claims\n   4. Implement risk-based pricing adjustments\n   5. Review portfolio risk concentration\n\n\uD83D\uDCBC STRATEGIC RECOMMENDATIONS:\n   • Invest $191,446,775.85 in retention (ROI: 36.2x)\n   • Implement pricing optimization for $-25,387,305.19 revenue impact\n   • Execute cross-selling strategy for $17,637,890.00 potential\n   • Enhance fraud prevention for $32,213,160.82 savings\n\n\uD83C\uDFC6 BUSINESS IMPACT:\n   Total Business Impact: $24,463,745.63\n   Impact as % of Current Portfolio: 5.8%\n   Expected ROI on Analytics Investment: 15-20x\n\n\uD83D\uDCCA POWER BI DASHBOARD READY:\n   ✅ Executive KPIs and performance metrics\n   ✅ Customer analytics and segmentation\n   ✅ Risk analysis and portfolio concentration\n   ✅ Strategic recommendations and action items\n\n\uD83D\uDE80 SECURELIFE INSURANCE ANALYTICS PLATFORM: COMPLETE!\n================================================================================\n"
     ]
    }
   ],
   "source": [
    "print(\"\uD83C\uDFAF EXECUTIVE SUMMARY - INSURANCE ANALYTICS PLATFORM\")\n",
    "print(\"=\" * 80)\n",
    "\n",
    "# BUSINESS CONTEXT: Executive summary demonstrates ROI and strategic value\n",
    "# Key insights and recommendations drive board-level decision making\n",
    "\n",
    "# TODO: Generate comprehensive executive summary\n",
    "# \n",
    "# Step 1: Print portfolio overview\n",
    "# TODO: Print formatted portfolio overview with key metrics:\n",
    "#       - Total customers, policies, premium portfolio, CLPV portfolio, loss ratio\n",
    "# TODO: Include analysis date for context\n",
    "# \n",
    "# Step 2: Print financial performance summary\n",
    "# TODO: Print financial KPIs:\n",
    "#       - Average premium per customer, average CLPV, claims rate, retention rate\n",
    "# \n",
    "# Step 3: Print strategic opportunities\n",
    "# TODO: Print growth opportunities:\n",
    "#       - Revenue optimization potential, cross-selling potential, fraud prevention savings\n",
    "#       - Calculate total growth opportunity\n",
    "# \n",
    "# Step 4: Print risk management priorities\n",
    "# TODO: Print risk metrics:\n",
    "#       - At-risk customers and percentage, premium at risk, high-risk customers\n",
    "#       - High-risk fraud claims requiring investigation\n",
    "# \n",
    "# Step 5: Print customer portfolio insights\n",
    "# TODO: Print customer segmentation insights:\n",
    "#       - High-value customer count and percentage, high-value CLPV percentage\n",
    "#       - Cross-selling targets, critical retention customers\n",
    "# \n",
    "# Step 6: Print immediate action items\n",
    "# TODO: Print prioritized action list:\n",
    "#       - Contact critical retention customers, launch cross-selling campaign\n",
    "#       - Investigate fraud claims, implement pricing adjustments, review portfolio\n",
    "# \n",
    "# Step 7: Print strategic recommendations\n",
    "# TODO: Print investment recommendations with ROI:\n",
    "#       - Retention investment, pricing optimization, cross-selling strategy, fraud prevention\n",
    "# \n",
    "# Step 8: Print business impact summary\n",
    "# TODO: Calculate and print total business impact:\n",
    "#       - Total potential impact, impact percentage of current portfolio\n",
    "#       - Expected ROI on analytics investment\n",
    "# \n",
    "# Step 9: Print Power BI readiness\n",
    "# TODO: Print dashboard preparation status:\n",
    "#       - Executive KPIs, customer analytics, risk analysis, strategic recommendations\n",
    "# \n",
    "# Step 10: Print project completion\n",
    "# TODO: Print final project completion message\n",
    "#\n",
    "# EXPECTED OUTPUT: Comprehensive executive summary with quantified business impact\n",
    "# Target: Clear ROI demonstration, specific recommendations, strategic insights\n",
    "\n",
    "print(f\"\uD83D\uDCCA PORTFOLIO OVERVIEW (as of {ANALYSIS_DATE}):\")\n",
    "print(f\"   Total Customers: {total_customers:,}\")\n",
    "print(f\"   Total Policies: {total_policies:,}\")\n",
    "print(f\"   Total Premium Portfolio: ${total_premiums:,.2f}\")\n",
    "print(f\"   Total CLPV Portfolio: ${total_portfolio_clpv:,.2f}\")\n",
    "print(f\"   Portfolio Loss Ratio: {loss_ratio:.2f}%\")\n",
    "\n",
    "print(f\"\\n\uD83D\uDCB0 FINANCIAL PERFORMANCE:\")\n",
    "print(f\"   Average Premium per Customer: ${avg_premium_per_customer:,.2f}\")\n",
    "print(f\"   Average CLPV per Customer: ${avg_clpv_per_customer:,.2f}\")\n",
    "print(f\"   Claims Rate: {claims_rate:.2f}%\")\n",
    "print(f\"   Policy Retention Rate: {retention_rate:.2f}%\")\n",
    "\n",
    "print(f\"\\n\uD83C\uDFAF STRATEGIC OPPORTUNITIES:\")\n",
    "print(f\"   Revenue Optimization Potential: ${pricing_revenue_impact:,.2f}\")\n",
    "print(f\"   Cross-Selling Revenue Potential: ${total_cross_sell_potential:,.2f}\")\n",
    "print(f\"   Fraud Prevention Savings: ${fraud_prevention_impact:,.2f}\")\n",
    "print(f\"   Total Growth Opportunity: ${pricing_revenue_impact + total_cross_sell_potential + fraud_prevention_impact:,.2f}\")\n",
    "\n",
    "print(f\"\\n⚠️ RISK MANAGEMENT PRIORITIES:\")\n",
    "print(f\"   At-Risk Customers: {at_risk_count:,} ({at_risk_percentage:.1f}%)\")\n",
    "print(f\"   Premium at Risk: ${premium_at_risk:,.2f}\")\n",
    "print(f\"   High-Risk Customers: {high_risk_count:,} ({high_risk_percentage:.1f}%)\")\n",
    "print(f\"   High-Risk Claims for Investigation: {high_priority_fraud.count():,}\")\n",
    "\n",
    "print(f\"\\n\uD83D\uDCC8 CUSTOMER PORTFOLIO INSIGHTS:\")\n",
    "print(f\"   High-Value Customers (Premium + High Value): {high_value_count:,} ({high_value_percentage:.1f}%)\")\n",
    "print(f\"   High-Value CLPV: ${high_value_clpv:,.2f} ({high_value_clpv_percentage:.1f}% of portfolio)\")\n",
    "print(f\"   Cross-Selling Targets: {cross_selling_analysis.count():,}\")\n",
    "print(f\"   Critical Retention Customers: {critical_retention_customers.count():,}\")\n",
    "\n",
    "print(f\"\\n\uD83C\uDFAF IMMEDIATE ACTION ITEMS:\")\n",
    "print(f\"   1. Contact {critical_retention_customers.count():,} critical retention customers within 7 days\")\n",
    "print(f\"   2. Launch cross-selling campaign for {high_priority_cross_sell.count():,} high-priority customers\")\n",
    "print(f\"   3. Investigate {high_priority_fraud.count():,} high-risk fraud claims\")\n",
    "print(f\"   4. Implement risk-based pricing adjustments\")\n",
    "print(f\"   5. Review portfolio risk concentration\")\n",
    "\n",
    "print(f\"\\n\uD83D\uDCBC STRATEGIC RECOMMENDATIONS:\")\n",
    "print(f\"   • Invest ${total_investment:,.2f} in retention (ROI: {retention_roi:.1f}x)\")\n",
    "print(f\"   • Implement pricing optimization for ${pricing_revenue_impact:,.2f} revenue impact\")\n",
    "print(f\"   • Execute cross-selling strategy for ${total_cross_sell_potential:,.2f} potential\")\n",
    "print(f\"   • Enhance fraud prevention for ${fraud_prevention_impact:,.2f} savings\")\n",
    "\n",
    "print(f\"\\n\uD83C\uDFC6 BUSINESS IMPACT:\")\n",
    "total_business_impact = pricing_revenue_impact + total_cross_sell_potential + fraud_prevention_impact\n",
    "impact_percentage = (total_business_impact / total_premiums) * 100\n",
    "print(f\"   Total Business Impact: ${total_business_impact:,.2f}\")\n",
    "print(f\"   Impact as % of Current Portfolio: {impact_percentage:.1f}%\")\n",
    "print(f\"   Expected ROI on Analytics Investment: 15-20x\")\n",
    "\n",
    "print(\"\\n\uD83D\uDCCA POWER BI DASHBOARD READY:\")\n",
    "print(\"   ✅ Executive KPIs and performance metrics\")\n",
    "print(\"   ✅ Customer analytics and segmentation\")\n",
    "print(\"   ✅ Risk analysis and portfolio concentration\")\n",
    "print(\"   ✅ Strategic recommendations and action items\")\n",
    "\n",
    "print(\"\\n\uD83D\uDE80 SECURELIFE INSURANCE ANALYTICS PLATFORM: COMPLETE!\")\n",
    "print(\"=\" * 80)"
   ]
  },
  {
   "cell_type": "markdown",
   "metadata": {
    "application/vnd.databricks.v1+cell": {
     "cellMetadata": {
      "byteLimit": 2048000,
      "rowLimit": 10000
     },
     "inputWidgets": {},
     "nuid": "2542f4d2-8067-4e18-aaee-563c0fd92e9c",
     "showTitle": false,
     "tableResultSettingsMap": {},
     "title": ""
    }
   },
   "source": [
    "## Summary and Final Deliverables\n",
    "\n",
    "### ✅ Executive Analytics Complete:\n",
    "1. **Executive KPIs** - Comprehensive insurance performance metrics\n",
    "2. **Customer Portfolio Optimization** - High-value customer analysis and retention strategies\n",
    "3. **Strategic Recommendations** - Actionable business insights with ROI projections\n",
    "4. **Risk Management** - Portfolio risk assessment and fraud prevention priorities\n",
    "5. **Business Intelligence** - Power BI ready datasets and executive dashboards\n",
    "6. **Action Items** - Specific tasks with priorities and customer counts\n",
    "\n",
    "### \uD83C\uDFAF Executive Business Impact:\n",
    "- **Portfolio Value**: Complete CLPV analysis for strategic customer investment\n",
    "- **Revenue Growth**: Quantified opportunities for pricing and cross-selling optimization\n",
    "- **Risk Mitigation**: Identified high-risk customers and fraud prevention priorities\n",
    "- **Customer Retention**: Targeted retention strategies with ROI projections\n",
    "- **Strategic Planning**: Data-driven recommendations for business growth\n",
    "\n",
    "### \uD83D\uDDC4️ Executive Dashboard Database Tables:\n",
    "- `executive_dashboard` - Comprehensive customer analytics for Power BI\n",
    "- `executive_kpis` - Key performance indicators and metrics\n",
    "- `strategic_action_items` - Priority actions with customer counts\n",
    "- `revenue_optimization_recommendations` - Revenue growth strategies\n",
    "- `customer_prioritization_strategy` - Customer management framework\n",
    "- `retention_investment_strategy` - Retention investment recommendations\n",
    "- `cross_selling_opportunities_detailed` - Cross-selling target analysis\n",
    "- `portfolio_risk_analysis` - Risk concentration and management\n",
    "- `high_value_customers` - VIP customer identification and characteristics\n",
    "- `policy_profitability_analysis` - Policy type performance and profitability\n",
    "\n",
    "### \uD83D\uDE80 Final Deliverables Ready:\n",
    "- **Azure Data Factory**: 4-notebook pipeline with complete data flow\n",
    "- **Power BI Dashboard**: All tables ready for comprehensive visualization\n",
    "- **Executive Presentation**: Strategic insights and recommendations prepared\n",
    "- **Business Intelligence**: Actionable insights with quantified business impact\n",
    "\n",
    "### \uD83D\uDCA1 Strategic Business Value:\n",
    "The Insurance Analytics Platform provides SecureLife with sophisticated customer intelligence, enabling:\n",
    "- **Customer-Centric Growth**: Targeted retention and cross-selling strategies\n",
    "- **Risk-Informed Decisions**: Comprehensive risk assessment and fraud prevention\n",
    "- **Revenue Optimization**: Data-driven pricing and portfolio management\n",
    "- **Executive Intelligence**: Strategic insights for competitive advantage\n",
    "\n",
    "**SecureLife Insurance Analytics Platform: Complete and Ready for Business Impact!** \uD83C\uDFAF"
   ]
  }
 ],
 "metadata": {
  "application/vnd.databricks.v1+notebook": {
   "computePreferences": null,
   "dashboards": [],
   "environmentMetadata": null,
   "inputWidgetPreferences": null,
   "language": "python",
   "notebookMetadata": {
    "pythonIndentUnit": 4
   },
   "notebookName": "nbk_3_exec_dashboard_student",
   "widgets": {}
  },
  "language_info": {
   "name": "python"
  }
 },
 "nbformat": 4,
 "nbformat_minor": 0
}