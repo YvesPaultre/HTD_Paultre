{
 "cells": [
  {
   "cell_type": "markdown",
   "metadata": {
    "application/vnd.databricks.v1+cell": {
     "cellMetadata": {
      "byteLimit": 2048000,
      "rowLimit": 10000
     },
     "inputWidgets": {},
     "nuid": "9f1f28a0-6637-4423-a86a-bc03aeceea4b",
     "showTitle": false,
     "tableResultSettingsMap": {},
     "title": ""
    }
   },
   "source": [
    "# Insurance Risk Profiling - Customer Analytics\n",
    "\n",
    "**Objective**: Create customer risk profiles and segmentation for SecureLife Insurance\n",
    "\n",
    "**Business Goals:**\n",
    "- Assess customer risk levels for pricing optimization\n",
    "- Segment customers for targeted marketing and retention\n",
    "- Identify cross-selling opportunities\n",
    "- Analyze temporal patterns in claims and payments\n",
    "\n",
    "**Data Flow**: Loads from Notebook 0 foundation tables → Creates risk analysis tables for Notebook 2"
   ]
  },
  {
   "cell_type": "markdown",
   "metadata": {
    "application/vnd.databricks.v1+cell": {
     "cellMetadata": {
      "byteLimit": 2048000,
      "rowLimit": 10000
     },
     "inputWidgets": {},
     "nuid": "fd1fab31-03c3-4c4e-bc07-9455bf77c41b",
     "showTitle": false,
     "tableResultSettingsMap": {},
     "title": ""
    }
   },
   "source": [
    "## Setup and Database Configuration"
   ]
  },
  {
   "cell_type": "code",
   "execution_count": 0,
   "metadata": {
    "application/vnd.databricks.v1+cell": {
     "cellMetadata": {
      "byteLimit": 2048000,
      "rowLimit": 10000
     },
     "inputWidgets": {},
     "nuid": "1e1f27b0-6a38-475f-ad50-25e909aab75f",
     "showTitle": false,
     "tableResultSettingsMap": {},
     "title": ""
    }
   },
   "outputs": [
    {
     "output_type": "stream",
     "name": "stdout",
     "output_type": "stream",
     "text": [
      "✅ Spark session initialized\n\uD83D\uDCCA Using database: insurance_analytics\n"
     ]
    }
   ],
   "source": [
    "import pandas as pd\n",
    "import numpy as np\n",
    "from pyspark.sql import SparkSession\n",
    "from pyspark.sql.functions import *\n",
    "from pyspark.sql.types import *\n",
    "from pyspark.sql.window import Window\n",
    "import warnings\n",
    "warnings.filterwarnings('ignore')\n",
    "\n",
    "# Initialize Spark session\n",
    "spark = SparkSession.builder.appName(\"InsuranceRiskProfiling\").getOrCreate()\n",
    "print(\"✅ Spark session initialized\")\n",
    "\n",
    "# Database configuration\n",
    "DATABASE_NAME = \"insurance_analytics\"\n",
    "print(f\"\uD83D\uDCCA Using database: {DATABASE_NAME}\")"
   ]
  },
  {
   "cell_type": "markdown",
   "metadata": {
    "application/vnd.databricks.v1+cell": {
     "cellMetadata": {
      "byteLimit": 2048000,
      "rowLimit": 10000
     },
     "inputWidgets": {},
     "nuid": "cb5d60b9-8450-4931-b0e1-477f3e3fb097",
     "showTitle": false,
     "tableResultSettingsMap": {},
     "title": ""
    }
   },
   "source": [
    "## Load Data from Foundation Tables (Notebook 0 Outputs)"
   ]
  },
  {
   "cell_type": "code",
   "execution_count": 0,
   "metadata": {
    "application/vnd.databricks.v1+cell": {
     "cellMetadata": {
      "byteLimit": 2048000,
      "rowLimit": 10000
     },
     "inputWidgets": {},
     "nuid": "23600f02-a659-4321-b40f-3a37ab2c2f49",
     "showTitle": false,
     "tableResultSettingsMap": {},
     "title": ""
    }
   },
   "outputs": [
    {
     "output_type": "stream",
     "name": "stdout",
     "output_type": "stream",
     "text": [
      "\uD83D\uDCCB Loading foundation tables from Notebook 0...\n✅ Foundation tables loaded successfully\nCustomers: 15,000\nPolicies: 75,000\nClaims: 10,643\nPayments: 178,013\nInteractions: 30,000\n"
     ]
    }
   ],
   "source": [
    "# BUSINESS CONTEXT: Data quality and accessibility are fundamental to analytics success\n",
    "# Using persistent tables ensures reliability and consistency across the pipeline\n",
    "\n",
    "# TODO: Load foundation tables created by Notebook 0\n",
    "# \n",
    "# Step 1: Load core business entity tables\n",
    "# TODO: Load customers_df from \"insurance_analytics.customers\" table using spark.table()\n",
    "# TODO: Load policies_df from \"insurance_analytics.policies\" table using spark.table()\n",
    "# TODO: Load claims_df from \"insurance_analytics.claims\" table using spark.table()\n",
    "# TODO: Load payments_df from \"insurance_analytics.payments\" table using spark.table()\n",
    "# TODO: Load interactions_df from \"insurance_analytics.interactions\" table using spark.table()\n",
    "# \n",
    "# Step 2: Validate data loading\n",
    "# TODO: Print \"✅ Foundation tables loaded successfully\"\n",
    "# TODO: Print row counts for each dataset using .count() method\n",
    "# TODO: Format counts with comma separators (e.g., f\"{customers_df.count():,}\")\n",
    "# \n",
    "# Step 3: Handle potential errors\n",
    "# TODO: Wrap loading code in try/except block\n",
    "# TODO: Print error message if loading fails: \"❌ Error loading foundation tables\"\n",
    "# TODO: Print reminder: \"\uD83D\uDCA1 Ensure Notebook 0 has been executed successfully\"\n",
    "# TODO: Use \"raise\" to stop execution if tables cannot be loaded\n",
    "#\n",
    "# EXPECTED OUTPUT: All 5 datasets loaded with row counts displayed\n",
    "# Target: 15K customers, 75K policies, 12K claims, 200K payments, 30K interactions\n",
    "\n",
    "print(\"\uD83D\uDCCB Loading foundation tables from Notebook 0...\")\n",
    "\n",
    "# TODO: Implement data loading logic here\n",
    "\n",
    "customers_df = spark.table(\"insurance_analytics.customers\")\n",
    "policies_df = spark.table(\"insurance_analytics.policies\")\n",
    "claims_df = spark.table(\"insurance_analytics.claims\")\n",
    "payments_df = spark.table(\"insurance_analytics.payments\")\n",
    "interactions_df = spark.table(\"insurance_analytics.interactions\")\n",
    "\n",
    "print(f\"✅ Foundation tables loaded successfully\")\n",
    "print(f\"Customers: {customers_df.count():,}\")\n",
    "print(f\"Policies: {policies_df.count():,}\")\n",
    "print(f\"Claims: {claims_df.count():,}\")\n",
    "print(f\"Payments: {payments_df.count():,}\")\n",
    "print(f\"Interactions: {interactions_df.count():,}\")"
   ]
  },
  {
   "cell_type": "markdown",
   "metadata": {
    "application/vnd.databricks.v1+cell": {
     "cellMetadata": {
      "byteLimit": 2048000,
      "rowLimit": 10000
     },
     "inputWidgets": {},
     "nuid": "0e214dab-64eb-499c-adb1-196e86a7a30a",
     "showTitle": false,
     "tableResultSettingsMap": {},
     "title": ""
    }
   },
   "source": [
    "## 1. Customer Risk Assessment"
   ]
  },
  {
   "cell_type": "markdown",
   "metadata": {
    "application/vnd.databricks.v1+cell": {
     "cellMetadata": {
      "byteLimit": 2048000,
      "rowLimit": 10000
     },
     "inputWidgets": {},
     "nuid": "b83c2de4-5418-4159-be5a-2632cc39853c",
     "showTitle": false,
     "tableResultSettingsMap": {},
     "title": ""
    }
   },
   "source": [
    "### 1.1 Claims Frequency and Severity Analysis"
   ]
  },
  {
   "cell_type": "code",
   "execution_count": 0,
   "metadata": {
    "application/vnd.databricks.v1+cell": {
     "cellMetadata": {
      "byteLimit": 2048000,
      "rowLimit": 10000
     },
     "inputWidgets": {},
     "nuid": "56502e2f-c1b9-4a5d-a9e7-c9249157883d",
     "showTitle": false,
     "tableResultSettingsMap": {},
     "title": ""
    }
   },
   "outputs": [
    {
     "output_type": "stream",
     "name": "stdout",
     "output_type": "stream",
     "text": [
      "\uD83D\uDD0D Analyzing claims patterns...\n✅ Claims analysis completed\n\uD83D\uDCCA Claims Analysis Summary:\n+-------+-----------+------------------+------------------+------------------+------------------+--------------------+\n|summary|customer_id|      total_claims|total_claim_amount|  avg_claim_amount|  max_claim_amount|policies_with_claims|\n+-------+-----------+------------------+------------------+------------------+------------------+--------------------+\n|  count|       7016|              7016|              7016|              7016|              7016|                7016|\n|   mean|       NULL|1.5169612314709235|178509.23731470894|115572.40478289289|147826.10912770836|  1.3691562143671607|\n| stddev|       NULL|0.8273635973570767|314826.75338704314|196891.82583189555| 246426.0881660179|  0.6541588435213932|\n|    min| CUST000004|                 1|            528.25|            528.25|            528.25|                   1|\n|    max| CUST014998|                10|3970436.4699999997|        2418879.07|         2902135.6|                   6|\n+-------+-----------+------------------+------------------+------------------+------------------+--------------------+\n\n✅ Customer risk base created: 15,000 customers\n"
     ]
    }
   ],
   "source": [
    "# BUSINESS CONTEXT: Claims history is the strongest predictor of future risk\n",
    "# Insurance companies use claims frequency and severity to set premium rates\n",
    "\n",
    "# TODO: Analyze claims patterns per customer\n",
    "# \n",
    "# Step 1: Calculate claims metrics per customer\n",
    "# TODO: Group claims_df by \"customer_id\" \n",
    "# TODO: Calculate total_claims using count(\"claim_id\")\n",
    "# TODO: Calculate total_claim_amount using sum(\"claim_amount\")\n",
    "# TODO: Calculate avg_claim_amount using avg(\"claim_amount\")\n",
    "# TODO: Calculate max_claim_amount using max(\"claim_amount\")\n",
    "# TODO: Calculate policies_with_claims using countDistinct(\"policy_id\")\n",
    "# TODO: Store result as claims_per_customer\n",
    "# \n",
    "# Step 2: Display claims analysis summary\n",
    "# TODO: Print \"\uD83D\uDCCA Claims Analysis Summary:\"\n",
    "# TODO: Show descriptive statistics using claims_per_customer.describe().show()\n",
    "# \n",
    "# Step 3: Join claims data with customer profiles\n",
    "# TODO: Join customers_df with claims_per_customer on \"customer_id\" using left join\n",
    "# TODO: Store result as customer_risk_df\n",
    "# \n",
    "# Step 4: Handle customers with no claims\n",
    "# TODO: Use fillna() to set null values to 0 for: total_claims, total_claim_amount, avg_claim_amount, max_claim_amount, policies_with_claims\n",
    "# TODO: Print row count: f\"✅ Customer risk base created: {customer_risk_df.count():,} customers\"\n",
    "#\n",
    "# EXPECTED OUTPUT: All customers with claims metrics, nulls filled with 0\n",
    "# Target: 15K customers with claims data integrated\n",
    "\n",
    "print(\"\uD83D\uDD0D Analyzing claims patterns...\")\n",
    "\n",
    "# TODO: Implement claims analysis logic here\n",
    "\n",
    "claims_per_customer = (\n",
    "  claims_df\n",
    "    .groupBy(\"customer_id\")\n",
    "    .agg(\n",
    "      count(\"claim_id\").alias(\"total_claims\"),\n",
    "      sum(\"claim_amount\").alias(\"total_claim_amount\"),\n",
    "      avg(\"claim_amount\").alias(\"avg_claim_amount\"),\n",
    "      max(\"claim_amount\").alias(\"max_claim_amount\"),\n",
    "      countDistinct(\"policy_id\").alias(\"policies_with_claims\")\n",
    "    )\n",
    ")\n",
    "print(\"✅ Claims analysis completed\")\n",
    "print(\"\uD83D\uDCCA Claims Analysis Summary:\")\n",
    "claims_per_customer.describe().show()\n",
    "\n",
    "customer_risk_df = (\n",
    "  customers_df\n",
    "    .join(claims_per_customer, on=\"customer_id\", how=\"left\")\n",
    ")\n",
    "customer_risk_df = customer_risk_df.fillna(0, subset=[\"total_claims\", \"total_claim_amount\", \"avg_claim_amount\", \"max_claim_amount\", \"policies_with_claims\"])\n",
    "print(f\"✅ Customer risk base created: {customer_risk_df.count():,} customers\")"
   ]
  },
  {
   "cell_type": "markdown",
   "metadata": {
    "application/vnd.databricks.v1+cell": {
     "cellMetadata": {
      "byteLimit": 2048000,
      "rowLimit": 10000
     },
     "inputWidgets": {},
     "nuid": "4a3107c7-aea8-4ead-a693-959862d1457d",
     "showTitle": false,
     "tableResultSettingsMap": {},
     "title": ""
    }
   },
   "source": [
    "### 1.2 Policy Concentration Risk"
   ]
  },
  {
   "cell_type": "code",
   "execution_count": 0,
   "metadata": {
    "application/vnd.databricks.v1+cell": {
     "cellMetadata": {
      "byteLimit": 2048000,
      "rowLimit": 10000
     },
     "inputWidgets": {},
     "nuid": "ab312157-f34d-495c-8b58-0f2f8efbbe4d",
     "showTitle": false,
     "tableResultSettingsMap": {},
     "title": ""
    }
   },
   "outputs": [
    {
     "output_type": "stream",
     "name": "stdout",
     "output_type": "stream",
     "text": [
      "\uD83D\uDD0D Analyzing policy concentration...\n✅ Policy concentration analysis completed\n\uD83D\uDCCA Policy Concentration Analysis:\n+-------+-----------+------------------+------------------+-----------------+-----------------+------------------+\n|summary|customer_id|    total_policies|     total_premium|      avg_premium|   total_coverage|policy_types_count|\n+-------+-----------+------------------+------------------+-----------------+-----------------+------------------+\n|  count|      14905|             14905|             14905|            14905|            14905|             14905|\n|   mean|       NULL| 5.031868500503187|28289.118016773045|5658.338106322954|1201268.250318685|3.0864139550486414|\n| stddev|       NULL|2.2066158280630606|27800.390976173603|5810.436355811093|874976.2352750759|1.0537328155711343|\n|    min| CUST000001|                 1|            264.42|           264.42|            10000|                 1|\n|    max| CUST015000|                16|269471.41000000003|         104000.0|         19099924|                 6|\n+-------+-----------+------------------+------------------+-----------------+-----------------+------------------+\n\n✅ Policy concentration metrics integrated\n"
     ]
    }
   ],
   "source": [
    "# BUSINESS CONTEXT: Customers with multiple policies represent higher value but also concentration risk\n",
    "# Multi-policy customers typically have lower churn rates but higher total exposure\n",
    "\n",
    "# TODO: Calculate policy concentration metrics per customer\n",
    "# \n",
    "# Step 1: Aggregate policy data per customer\n",
    "# TODO: Group policies_df by \"customer_id\"\n",
    "# TODO: Calculate total_policies using count(\"policy_id\")\n",
    "# TODO: Calculate total_premium using sum(\"premium_amount\")\n",
    "# TODO: Calculate avg_premium using avg(\"premium_amount\")\n",
    "# TODO: Calculate total_coverage using sum(\"coverage_amount\")\n",
    "# TODO: Calculate policy_types_count using countDistinct(\"policy_type\")\n",
    "# TODO: Collect policy_types using collect_list(\"policy_type\")\n",
    "# TODO: Store result as policy_metrics\n",
    "# \n",
    "# Step 2: Display policy concentration analysis\n",
    "# TODO: Print \"\uD83D\uDCCA Policy Concentration Analysis:\"\n",
    "# TODO: Show descriptive statistics using policy_metrics.describe().show()\n",
    "# \n",
    "# Step 3: Join policy metrics with customer risk data\n",
    "# TODO: Join customer_risk_df with policy_metrics on \"customer_id\" using left join\n",
    "# TODO: Update customer_risk_df with joined result\n",
    "# \n",
    "# Step 4: Handle customers without policies (edge case protection)\n",
    "# TODO: Use fillna() to set null values to 0 for: total_policies, total_premium, avg_premium, total_coverage, policy_types_count\n",
    "# TODO: Print \"✅ Policy concentration metrics integrated\"\n",
    "#\n",
    "# EXPECTED OUTPUT: All customers with policy concentration metrics\n",
    "# Target: Policy counts ranging from 1-5, premium amounts $500-$15,000\n",
    "\n",
    "print(\"\uD83D\uDD0D Analyzing policy concentration...\")\n",
    "\n",
    "# TODO: Implement policy concentration analysis logic here\n",
    "policy_metrics = (\n",
    "  policies_df\n",
    "    .groupBy(\"customer_id\")\n",
    "    .agg(\n",
    "      count(\"policy_id\").alias(\"total_policies\"),\n",
    "      sum(\"premium_amount\").alias(\"total_premium\"),\n",
    "      avg(\"premium_amount\").alias(\"avg_premium\"),\n",
    "      sum(\"coverage_amount\").alias(\"total_coverage\"),\n",
    "      countDistinct(\"policy_type\").alias(\"policy_types_count\"),\n",
    "      collect_list(\"policy_type\").alias(\"policy_types\")\n",
    "    )\n",
    ")\n",
    "print(\"✅ Policy concentration analysis completed\")\n",
    "print(\"\uD83D\uDCCA Policy Concentration Analysis:\")\n",
    "policy_metrics.describe().show()\n",
    "\n",
    "customer_risk_df = (\n",
    "  customer_risk_df\n",
    "    .join(policy_metrics, on=\"customer_id\", how=\"left\")\n",
    ")\n",
    "\n",
    "customer_risk_df = customer_risk_df.fillna(0, subset=[\"total_policies\", \"total_premium\", \"avg_premium\", \"total_coverage\", \"policy_types_count\"])\n",
    "print(\"✅ Policy concentration metrics integrated\")"
   ]
  },
  {
   "cell_type": "markdown",
   "metadata": {
    "application/vnd.databricks.v1+cell": {
     "cellMetadata": {
      "byteLimit": 2048000,
      "rowLimit": 10000
     },
     "inputWidgets": {},
     "nuid": "bf9e77ad-f4d1-46e8-9f10-5dd04fe37954",
     "showTitle": false,
     "tableResultSettingsMap": {},
     "title": ""
    }
   },
   "source": [
    "### 1.3 Payment Behavior Integration"
   ]
  },
  {
   "cell_type": "code",
   "execution_count": 0,
   "metadata": {
    "application/vnd.databricks.v1+cell": {
     "cellMetadata": {
      "byteLimit": 2048000,
      "rowLimit": 10000
     },
     "inputWidgets": {},
     "nuid": "e5429ea4-d1a1-4ccd-bfd8-058a8654201f",
     "showTitle": false,
     "tableResultSettingsMap": {},
     "title": ""
    }
   },
   "outputs": [
    {
     "output_type": "stream",
     "name": "stdout",
     "output_type": "stream",
     "text": [
      "\uD83D\uDD0D Analyzing payment behavior...\n✅ Payment behavior metrics integrated\n"
     ]
    }
   ],
   "source": [
    "# BUSINESS CONTEXT: Payment behavior indicates customer reliability and financial stability\n",
    "# Late payments and failures correlate with higher risk and potential churn\n",
    "\n",
    "# TODO: Analyze customer payment behavior patterns\n",
    "# \n",
    "# Step 1: Calculate payment behavior metrics\n",
    "# TODO: Group payments_df by \"customer_id\"\n",
    "# TODO: Calculate total_payments using count(\"payment_id\")\n",
    "# TODO: Calculate total_payment_amount using sum(\"payment_amount\")\n",
    "# TODO: Calculate avg_payment_amount using avg(\"payment_amount\")\n",
    "# TODO: Calculate late_payments_count using sum(when(col(\"late_payment_flag\") == True, 1).otherwise(0))\n",
    "# TODO: Calculate failed_payments_count using sum(when(col(\"payment_status\") == \"Failed\", 1).otherwise(0))\n",
    "# TODO: Store result as payment_behavior\n",
    "# \n",
    "# Step 2: Calculate payment reliability score\n",
    "# TODO: Add payment_reliability_score column to payment_behavior\n",
    "# TODO: Use when/otherwise logic:\n",
    "#       - If total_payments == 0, set score to 1.0\n",
    "#       - Otherwise: 1.0 - (late_payments_count + failed_payments_count * 2) / total_payments\n",
    "# TODO: This formula penalizes failed payments more heavily than late payments\n",
    "# \n",
    "# Step 3: Join payment behavior with customer risk data\n",
    "# TODO: Join customer_risk_df with payment_behavior on \"customer_id\" using left join\n",
    "# TODO: Update customer_risk_df with joined result\n",
    "# \n",
    "# Step 4: Handle customers without payment history\n",
    "# TODO: Use fillna() to set null values to 0 for: total_payments, total_payment_amount, avg_payment_amount, late_payments_count, failed_payments_count\n",
    "# TODO: Set payment_reliability_score to 1.0 for customers without payment history\n",
    "# TODO: Print \"✅ Payment behavior metrics integrated\"\n",
    "#\n",
    "# EXPECTED OUTPUT: All customers with payment reliability scores between 0.0-1.0\n",
    "# Target: Most customers should have scores 0.85-1.0 (high reliability)\n",
    "\n",
    "print(\"\uD83D\uDD0D Analyzing payment behavior...\")\n",
    "\n",
    "# TODO: Implement payment behavior analysis logic here\n",
    "\n",
    "payment_behavior = (\n",
    "  payments_df\n",
    "    .groupBy(\"customer_id\")\n",
    "    .agg(\n",
    "      count(\"payment_id\").alias(\"total_payments\"),\n",
    "      sum(\"payment_amount\").alias(\"total_payment_amount\"),\n",
    "      avg(\"payment_amount\").alias(\"avg_payment_amount\"),\n",
    "      sum(when(col(\"late_payment_flag\") == True, 1).otherwise(0)).alias(\"late_payments_count\"),\n",
    "      sum(when(col(\"payment_status\") == \"Failed\", 1).otherwise(0)).alias(\"failed_payments_count\")\n",
    "    )\n",
    ")\n",
    "payment_behavior = payment_behavior.withColumn(\n",
    "  \"payment_reliability_score\",\n",
    "  when(col(\"total_payments\") == 0, 1.0).otherwise(\n",
    "    1.0 - (col(\"late_payments_count\") + col(\"failed_payments_count\") * 2) / col(\"total_payments\")\n",
    "  )\n",
    ")\n",
    "customer_risk_df = (\n",
    "  customer_risk_df\n",
    "    .join(payment_behavior, on=\"customer_id\", how=\"left\")\n",
    ")\n",
    "customer_risk_df = customer_risk_df.fillna(0, subset=[\"total_payments\", \"total_payment_amount\", \"avg_payment_amount\", \"late_payments_count\", \"failed_payments_count\"])\n",
    "customer_risk_df = customer_risk_df.withColumn(\n",
    "  \"payment_reliability_score\",\n",
    "  when(col(\"total_payments\") == 0, 1.0).otherwise(col(\"payment_reliability_score\"))\n",
    ")\n",
    "print(\"✅ Payment behavior metrics integrated\")"
   ]
  },
  {
   "cell_type": "markdown",
   "metadata": {
    "application/vnd.databricks.v1+cell": {
     "cellMetadata": {
      "byteLimit": 2048000,
      "rowLimit": 10000
     },
     "inputWidgets": {},
     "nuid": "7ccee58b-debb-44c6-a061-c7130d7c5eaf",
     "showTitle": false,
     "tableResultSettingsMap": {},
     "title": ""
    }
   },
   "source": [
    "### 1.4 Calculate Comprehensive Risk Scores"
   ]
  },
  {
   "cell_type": "code",
   "execution_count": 0,
   "metadata": {
    "application/vnd.databricks.v1+cell": {
     "cellMetadata": {
      "byteLimit": 2048000,
      "rowLimit": 10000
     },
     "inputWidgets": {},
     "nuid": "bb76227d-b812-4a24-bb2d-79ef504b17b4",
     "showTitle": false,
     "tableResultSettingsMap": {},
     "title": ""
    }
   },
   "outputs": [
    {
     "output_type": "stream",
     "name": "stdout",
     "output_type": "stream",
     "text": [
      "\uD83D\uDD0D Calculating comprehensive risk scores...\n✅ Comprehensive risk scores calculated\n+-------+--------------------+\n|summary|composite_risk_score|\n+-------+--------------------+\n|  count|               15000|\n|   mean|  2.3564333333332246|\n| stddev| 0.48917675586859327|\n|    min|                 1.0|\n|    max|                4.05|\n+-------+--------------------+\n\n"
     ]
    }
   ],
   "source": [
    "# BUSINESS CONTEXT: Risk scoring enables personalized pricing and targeted risk management\n",
    "# Multiple risk factors provide more accurate assessment than single indicators\n",
    "\n",
    "# TODO: Calculate comprehensive risk scores using multiple risk factors\n",
    "# \n",
    "# Step 1: Calculate claims risk score\n",
    "# TODO: Create claims_risk_score column using when/otherwise logic:\n",
    "#       - 0 claims = 1.0 (lowest risk)\n",
    "#       - 1 claim = 2.0 (medium risk)\n",
    "#       - 2 claims = 3.0 (higher risk)\n",
    "#       - 3+ claims = 4.0 (highest risk)\n",
    "# TODO: Default to 1.0 for any other cases\n",
    "# \n",
    "# Step 2: Calculate credit risk score\n",
    "# TODO: Create credit_risk_score column based on credit_score:\n",
    "#       - >=750 = 1.0 (excellent credit)\n",
    "#       - >=700 = 2.0 (good credit)\n",
    "#       - >=650 = 3.0 (fair credit)\n",
    "#       - >=600 = 4.0 (poor credit)\n",
    "#       - <600 = 5.0 (very poor credit)\n",
    "# \n",
    "# Step 3: Calculate age risk score\n",
    "# TODO: First calculate age column: floor(datediff(current_date(), col(\"birth_date\")) / 365.25)\n",
    "# TODO: Create age_risk_score column:\n",
    "#       - <25 = 3.0 (young drivers, higher risk)\n",
    "#       - 25-65 = 1.0 (prime age, lowest risk)\n",
    "#       - 66-75 = 2.0 (senior, moderate risk)\n",
    "#       - >75 = 3.0 (very senior, higher risk)\n",
    "# \n",
    "# Step 4: Calculate premium and payment risk scores\n",
    "# TODO: Create premium_risk_score based on total_premium:\n",
    "#       - >=5000 = 3.0 (high premium concentration)\n",
    "#       - >=2000 = 2.0 (medium concentration)\n",
    "#       - <2000 = 1.0 (low concentration)\n",
    "# TODO: Create payment_risk_score based on payment_reliability_score:\n",
    "#       - >=0.95 = 1.0 (excellent reliability)\n",
    "#       - >=0.85 = 2.0 (good reliability)\n",
    "#       - >=0.75 = 3.0 (fair reliability)\n",
    "#       - <0.75 = 4.0 (poor reliability)\n",
    "# \n",
    "# Step 5: Calculate composite risk score\n",
    "# TODO: Create composite_risk_score as weighted average:\n",
    "#       - claims_risk_score * 0.30 (30% weight)\n",
    "#       - credit_risk_score * 0.25 (25% weight)\n",
    "#       - age_risk_score * 0.15 (15% weight)\n",
    "#       - premium_risk_score * 0.15 (15% weight)\n",
    "#       - payment_risk_score * 0.15 (15% weight)\n",
    "# TODO: Print \"✅ Comprehensive risk scores calculated\"\n",
    "# TODO: Show risk score distribution using customer_risk_df.select(\"composite_risk_score\").describe().show()\n",
    "#\n",
    "# EXPECTED OUTPUT: All customers with composite_risk_score between 1.0-4.0\n",
    "# Target: Bell curve distribution with most customers between 1.5-2.5\n",
    "\n",
    "print(\"\uD83D\uDD0D Calculating comprehensive risk scores...\")\n",
    "\n",
    "# TODO: Implement comprehensive risk scoring logic here\n",
    "\n",
    "customer_risk_df = (\n",
    "  customer_risk_df\n",
    "    .withColumn(\n",
    "      \"claims_risk_score\",\n",
    "      when(col(\"total_claims\") == 0, 1.0)\n",
    "      .when(col(\"total_claims\") == 1, 2.0)\n",
    "      .when(col(\"total_claims\") == 2, 3.0)\n",
    "      .when(col(\"total_claims\") >= 3, 4.0)\n",
    "      .otherwise(1.0)\n",
    "    )\n",
    "    .withColumn(\n",
    "      \"credit_risk_score\",\n",
    "      when(col(\"credit_score\") >= 750, 1.0)\n",
    "      .when(col(\"credit_score\") >= 700, 2.0)\n",
    "      .when(col(\"credit_score\") >= 650, 3.0)\n",
    "      .when(col(\"credit_score\") >= 600, 4.0)\n",
    "      .when(col(\"credit_score\") < 600, 5.0)\n",
    "    )\n",
    "    .withColumn(\n",
    "      \"premium_risk_score\",\n",
    "      when(col(\"total_premium\") >= 5000, 3.0)\n",
    "      .when(col(\"total_premium\") >= 2000, 2.0)\n",
    "      .when(col(\"total_premium\") < 2000, 1.0)\n",
    "    )\n",
    "    .withColumn(\n",
    "      \"payment_risk_score\",\n",
    "      when(col(\"payment_reliability_score\") >= 0.95, 1.0)\n",
    "      .when(col(\"payment_reliability_score\") >= 0.85, 2.0)\n",
    "      .when(col(\"payment_reliability_score\") >= 0.75, 3.0)\n",
    "      .when(col(\"payment_reliability_score\") < 0.75, 4.0)\n",
    "    )\n",
    "    .withColumn(\n",
    "      \"composite_risk_score\",\n",
    "      # No age data provided, so omit that calculation and distribute weight between claims, premium, and payment risk scores\n",
    "      (col(\"claims_risk_score\") * 0.35) + (col(\"credit_risk_score\") * 0.25) + (col(\"premium_risk_score\") * 0.20) + (col(\"payment_risk_score\") * 0.20)\n",
    "    )\n",
    ")\n",
    "print(\"✅ Comprehensive risk scores calculated\")\n",
    "customer_risk_df.select(\"composite_risk_score\").describe().show()"
   ]
  },
  {
   "cell_type": "markdown",
   "metadata": {
    "application/vnd.databricks.v1+cell": {
     "cellMetadata": {
      "byteLimit": 2048000,
      "rowLimit": 10000
     },
     "inputWidgets": {},
     "nuid": "bc39d60c-f425-4c30-bbea-b37b82166706",
     "showTitle": false,
     "tableResultSettingsMap": {},
     "title": ""
    }
   },
   "source": [
    "## 2. Risk-Based Customer Segmentation"
   ]
  },
  {
   "cell_type": "markdown",
   "metadata": {
    "application/vnd.databricks.v1+cell": {
     "cellMetadata": {
      "byteLimit": 2048000,
      "rowLimit": 10000
     },
     "inputWidgets": {},
     "nuid": "4abce0f0-16ec-47b0-a40e-1bb9551b6da6",
     "showTitle": false,
     "tableResultSettingsMap": {},
     "title": ""
    }
   },
   "source": [
    "### 2.1 Risk Category Assignment"
   ]
  },
  {
   "cell_type": "code",
   "execution_count": 0,
   "metadata": {
    "application/vnd.databricks.v1+cell": {
     "cellMetadata": {
      "byteLimit": 2048000,
      "rowLimit": 10000
     },
     "inputWidgets": {},
     "nuid": "b100659b-6087-45a1-a141-302841b6e614",
     "showTitle": false,
     "tableResultSettingsMap": {},
     "title": ""
    }
   },
   "outputs": [
    {
     "output_type": "stream",
     "name": "stdout",
     "output_type": "stream",
     "text": [
      "\uD83C\uDFAF Assigning risk categories...\n✅ Risk categories assigned\n+-------------+\n|risk_category|\n+-------------+\n|         High|\n|          Low|\n|       Medium|\n+-------------+\n\n\uD83D\uDCCA Risk Category Distribution:\n+-------------+-----+\n|risk_category|count|\n+-------------+-----+\n|       Medium|10844|\n|         High| 2726|\n|          Low| 1430|\n+-------------+-----+\n\n\uD83D\uDCCA Risk Category Percentages:\n+-------------+-----+----------+\n|risk_category|count|percentage|\n+-------------+-----+----------+\n|       Medium|10844|     72.29|\n|         High| 2726|     18.17|\n|          Low| 1430|      9.53|\n+-------------+-----+----------+\n\n"
     ]
    }
   ],
   "source": [
    "# BUSINESS CONTEXT: Risk categorization enables targeted pricing and risk management strategies\n",
    "# Industry standard practice divides customers into Low/Medium/High risk segments\n",
    "\n",
    "# TODO: Assign risk categories based on composite risk scores\n",
    "# \n",
    "# Step 1: Create risk categories\n",
    "# TODO: Create risk_category column using when/otherwise logic:\n",
    "#       - composite_risk_score <= 1.75 = \"Low\"\n",
    "#       - composite_risk_score <= 2.75 = \"Medium\"\n",
    "#       - composite_risk_score > 2.75 = \"High\"\n",
    "# \n",
    "# Step 2: Analyze risk category distribution\n",
    "# TODO: Group by risk_category and count customers\n",
    "# TODO: Order by count descending\n",
    "# TODO: Store result as risk_distribution\n",
    "# TODO: Print \"\uD83D\uDCCA Risk Category Distribution:\"\n",
    "# TODO: Show risk_distribution\n",
    "# \n",
    "# Step 3: Calculate risk category percentages\n",
    "# TODO: Get total_customers using customer_risk_df.count()\n",
    "# TODO: Add percentage column to risk_distribution: (count / total_customers) * 100\n",
    "# TODO: Round to 2 decimal places\n",
    "# TODO: Print \"\uD83D\uDCCA Risk Category Percentages:\"\n",
    "# TODO: Show risk_distribution with percentages\n",
    "#\n",
    "# EXPECTED OUTPUT: Risk categories with counts and percentages\n",
    "# Target: Approximately 60% Low, 30% Medium, 10% High risk distribution\n",
    "\n",
    "print(\"\uD83C\uDFAF Assigning risk categories...\")\n",
    "\n",
    "# TODO: Implement risk category assignment logic here\n",
    "\n",
    "customer_risk_df = (\n",
    "  customer_risk_df\n",
    "    .withColumn(\n",
    "      \"risk_category\",\n",
    "      when(col(\"composite_risk_score\") <= 1.75, \"Low\")\n",
    "      .when(col(\"composite_risk_score\") <= 2.75, \"Medium\")\n",
    "      .otherwise(\"High\")\n",
    "    )\n",
    ")\n",
    "print(\"✅ Risk categories assigned\")\n",
    "customer_risk_df.select(\"risk_category\").distinct().show()\n",
    "\n",
    "risk_distribution = (\n",
    "  customer_risk_df\n",
    "    .groupBy(\"risk_category\")\n",
    "    .count()\n",
    "    .orderBy(col(\"count\").desc())\n",
    ")\n",
    "print(\"\uD83D\uDCCA Risk Category Distribution:\")\n",
    "risk_distribution.show()\n",
    "\n",
    "total_customers = customer_risk_df.count()\n",
    "risk_distribution = (\n",
    "  risk_distribution\n",
    "    .withColumn(\n",
    "      \"percentage\",\n",
    "      (col(\"count\") / total_customers) * 100\n",
    "    )\n",
    "    .withColumn(\"percentage\", round(col(\"percentage\"), 2))\n",
    ")\n",
    "print(\"\uD83D\uDCCA Risk Category Percentages:\")\n",
    "risk_distribution.show()"
   ]
  },
  {
   "cell_type": "markdown",
   "metadata": {
    "application/vnd.databricks.v1+cell": {
     "cellMetadata": {
      "byteLimit": 2048000,
      "rowLimit": 10000
     },
     "inputWidgets": {},
     "nuid": "8d7a04dc-dc5d-4747-8bb1-ae83a5d659ce",
     "showTitle": false,
     "tableResultSettingsMap": {},
     "title": ""
    }
   },
   "source": [
    "### 2.2 Value Segment Assignment"
   ]
  },
  {
   "cell_type": "code",
   "execution_count": 0,
   "metadata": {
    "application/vnd.databricks.v1+cell": {
     "cellMetadata": {
      "byteLimit": 2048000,
      "rowLimit": 10000
     },
     "inputWidgets": {},
     "nuid": "c90ba4b1-c1d1-4554-8460-d0e806fcad7a",
     "showTitle": false,
     "tableResultSettingsMap": {},
     "title": ""
    }
   },
   "outputs": [
    {
     "output_type": "stream",
     "name": "stdout",
     "output_type": "stream",
     "text": [
      "\uD83D\uDCB0 Assigning value segments...\n   High Value (top 10%): $54,753.91+\n   Medium Value (70-90%): $29,979.52 - $54,753.91\n   Low Value (bottom 70%): < $29,979.52\n\uD83D\uDCCA Risk vs Value Matrix Analysis:\n+-------------+-------------+--------------+------------------+---------------------+-------------------+\n|risk_category|value_segment|customer_count|    avg_risk_score|total_premium_segment|avg_premium_segment|\n+-------------+-------------+--------------+------------------+---------------------+-------------------+\n|         High|   High Value|           571|3.1193520140104996|  4.875709523999998E7|  85388.95838879157|\n|         High|    Low Value|          1461|3.0606433949349614|        2.172086229E7| 14867.119979466119|\n|         High| Medium Value|           694| 3.081844380403444|  2.852925828000002E7|  41108.44132564844|\n|          Low|   High Value|           106|1.5377358490566062|    8344215.989999997|  78719.01877358489|\n|          Low|    Low Value|          1169|1.4473909324208867|    9192484.790000012| 7863.5455859709255|\n|          Low| Medium Value|           155|1.5154838709677447|            6334527.6|           40867.92|\n|       Medium|   High Value|          1516| 2.346602902374653|  1.227356776599999E8|  80960.20953825851|\n|       Medium|    Low Value|          7207| 2.271603996114918|  9.001864721999957E7|    12490.446402109|\n|       Medium| Medium Value|          2121| 2.327274870344174|   8.60165349699999E7|   40554.7076709099|\n+-------------+-------------+--------------+------------------+---------------------+-------------------+\n\n"
     ]
    }
   ],
   "source": [
    "# BUSINESS CONTEXT: Value segmentation enables customer prioritization and resource allocation\n",
    "# High-value customers receive premium service and retention efforts\n",
    "\n",
    "# TODO: Create customer value segments based on premium amounts\n",
    "# \n",
    "# Step 1: Calculate value segment thresholds\n",
    "# TODO: Use approxQuantile on total_premium column with quantiles [0.7, 0.9] and accuracy 0.05\n",
    "# TODO: Store results as premium_percentiles\n",
    "# TODO: Extract medium_value_threshold = premium_percentiles[0] (70th percentile)\n",
    "# TODO: Extract high_value_threshold = premium_percentiles[1] (90th percentile)\n",
    "# \n",
    "# Step 2: Print value segment thresholds\n",
    "# TODO: Print \"\uD83D\uDCCA Value Segment Thresholds:\"\n",
    "# TODO: Print f\"   High Value (top 10%): ${high_value_threshold:,.2f}+\"\n",
    "# TODO: Print f\"   Medium Value (70-90%): ${medium_value_threshold:,.2f} - ${high_value_threshold:,.2f}\"\n",
    "# TODO: Print f\"   Low Value (bottom 70%): < ${medium_value_threshold:,.2f}\"\n",
    "# \n",
    "# Step 3: Assign value segments\n",
    "# TODO: Create value_segment column using when/otherwise logic:\n",
    "#       - total_premium >= high_value_threshold = \"High Value\"\n",
    "#       - total_premium >= medium_value_threshold = \"Medium Value\"\n",
    "#       - total_premium < medium_value_threshold = \"Low Value\"\n",
    "# \n",
    "# Step 4: Analyze value segment distribution\n",
    "# TODO: Group by value_segment and count customers\n",
    "# TODO: Order by count descending\n",
    "# TODO: Store result as value_distribution\n",
    "# TODO: Print \"\uD83D\uDCCA Value Segment Distribution:\"\n",
    "# TODO: Show value_distribution\n",
    "#\n",
    "# EXPECTED OUTPUT: Value segments with approximately 10% High, 20% Medium, 70% Low\n",
    "# Target: Thresholds around $3,000 (medium) and $8,000 (high)\n",
    "\n",
    "print(\"\uD83D\uDCB0 Assigning value segments...\")\n",
    "\n",
    "# TODO: Implement value segment assignment logic here\n",
    "\n",
    "premium_percentiles = (\n",
    "  customer_risk_df\n",
    "    .select(\"total_premium\")\n",
    "    .approxQuantile(\"total_premium\", [0.7, 0.9], 0.05)\n",
    ")\n",
    "medium_value_threshold = premium_percentiles[0]\n",
    "high_value_threshold = premium_percentiles[1]\n",
    "print(f\"   High Value (top 10%): ${high_value_threshold:,.2f}+\")\n",
    "print(f\"   Medium Value (70-90%): ${medium_value_threshold:,.2f} - ${high_value_threshold:,.2f}\")\n",
    "print(f\"   Low Value (bottom 70%): < ${medium_value_threshold:,.2f}\")\n",
    "customer_risk_df = (\n",
    "  customer_risk_df\n",
    "    .withColumn(\"value_segment\",\n",
    "      when(col(\"total_premium\") >= high_value_threshold, \"High Value\")\n",
    "      .when(col(\"total_premium\") >= medium_value_threshold, \"Medium Value\")\n",
    "      .otherwise(\"Low Value\")\n",
    "    )\n",
    ")\n",
    "value_distribution = (\n",
    "  customer_risk_df\n",
    "    .groupBy(\"risk_category\", \"value_segment\")\n",
    "    .agg(\n",
    "      count(\"*\").alias(\"customer_count\"),\n",
    "      avg(\"composite_risk_score\").alias(\"avg_risk_score\"),\n",
    "      sum(\"total_premium\").alias(\"total_premium_segment\"),\n",
    "      avg(\"total_premium\").alias(\"avg_premium_segment\")\n",
    "    )\n",
    "    .orderBy(col(\"risk_category\"), col(\"value_segment\"))\n",
    ")\n",
    "print(\"\uD83D\uDCCA Risk vs Value Matrix Analysis:\")\n",
    "value_distribution.show()"
   ]
  },
  {
   "cell_type": "markdown",
   "metadata": {
    "application/vnd.databricks.v1+cell": {
     "cellMetadata": {
      "byteLimit": 2048000,
      "rowLimit": 10000
     },
     "inputWidgets": {},
     "nuid": "5668d845-bd02-463c-a635-786e6b36ee5f",
     "showTitle": false,
     "tableResultSettingsMap": {},
     "title": ""
    }
   },
   "source": [
    "### 2.3 Risk vs Value Matrix"
   ]
  },
  {
   "cell_type": "code",
   "execution_count": 0,
   "metadata": {
    "application/vnd.databricks.v1+cell": {
     "cellMetadata": {
      "byteLimit": 2048000,
      "rowLimit": 10000
     },
     "inputWidgets": {},
     "nuid": "6a45461a-203e-44ae-980c-19e6809beaad",
     "showTitle": false,
     "tableResultSettingsMap": {},
     "title": ""
    }
   },
   "outputs": [
    {
     "output_type": "stream",
     "name": "stdout",
     "output_type": "stream",
     "text": [
      "\uD83D\uDCCA Risk vs Value Matrix Analysis:\n+-------------+-------------+--------------+------------------+---------------------+-------------------+\n|risk_category|value_segment|customer_count|    avg_risk_score|total_premium_segment|avg_premium_segment|\n+-------------+-------------+--------------+------------------+---------------------+-------------------+\n|         High|   High Value|           571|3.1193520140104996|  4.875709523999998E7|  85388.95838879157|\n|         High|    Low Value|          1461|3.0606433949349614|        2.172086229E7| 14867.119979466119|\n|         High| Medium Value|           694| 3.081844380403444|  2.852925828000002E7|  41108.44132564844|\n|          Low|   High Value|           106|1.5377358490566062|    8344215.989999997|  78719.01877358489|\n|          Low|    Low Value|          1169|1.4473909324208867|    9192484.790000012| 7863.5455859709255|\n|          Low| Medium Value|           155|1.5154838709677447|            6334527.6|           40867.92|\n|       Medium|   High Value|          1516| 2.346602902374653|  1.227356776599999E8|  80960.20953825851|\n|       Medium|    Low Value|          7207| 2.271603996114918|  9.001864721999957E7|    12490.446402109|\n|       Medium| Medium Value|          2121| 2.327274870344174|   8.60165349699999E7|   40554.7076709099|\n+-------------+-------------+--------------+------------------+---------------------+-------------------+\n\n\uD83D\uDCCA Risk-Value Matrix with Percentages:\n+-------------+-------------+--------------+------------------+---------------------+-------------------+------------------+\n|risk_category|value_segment|customer_count|    avg_risk_score|total_premium_segment|avg_premium_segment|segment_percentage|\n+-------------+-------------+--------------+------------------+---------------------+-------------------+------------------+\n|         High|   High Value|           571|3.1193520140104996|  4.875709523999998E7|  85388.95838879157|              3.81|\n|         High|    Low Value|          1461|3.0606433949349614|        2.172086229E7| 14867.119979466119|              9.74|\n|         High| Medium Value|           694| 3.081844380403444|  2.852925828000002E7|  41108.44132564844|              4.63|\n|          Low|   High Value|           106|1.5377358490566062|    8344215.989999997|  78719.01877358489|              0.71|\n|          Low|    Low Value|          1169|1.4473909324208867|    9192484.790000012| 7863.5455859709255|              7.79|\n|          Low| Medium Value|           155|1.5154838709677447|            6334527.6|           40867.92|              1.03|\n|       Medium|   High Value|          1516| 2.346602902374653|  1.227356776599999E8|  80960.20953825851|             10.11|\n|       Medium|    Low Value|          7207| 2.271603996114918|  9.001864721999957E7|    12490.446402109|             48.05|\n|       Medium| Medium Value|          2121| 2.327274870344174|   8.60165349699999E7|   40554.7076709099|             14.14|\n+-------------+-------------+--------------+------------------+---------------------+-------------------+------------------+\n\n"
     ]
    }
   ],
   "source": [
    "# BUSINESS CONTEXT: Risk-value matrix enables strategic customer management\n",
    "# Different combinations require different strategies (retain, price, manage risk)\n",
    "\n",
    "# TODO: Create comprehensive risk-value matrix analysis\n",
    "# \n",
    "# Step 1: Create risk-value matrix\n",
    "# TODO: Group by risk_category and value_segment\n",
    "# TODO: Calculate customer_count using count(\"*\")\n",
    "# TODO: Calculate avg_risk_score using avg(\"composite_risk_score\")\n",
    "# TODO: Calculate total_premium_segment using sum(\"total_premium\")\n",
    "# TODO: Calculate avg_premium_segment using avg(\"total_premium\")\n",
    "# TODO: Order by risk_category, value_segment\n",
    "# TODO: Store result as risk_value_matrix\n",
    "# \n",
    "# Step 2: Display risk-value matrix\n",
    "# TODO: Print \"\uD83D\uDCCA Risk vs Value Matrix Analysis:\"\n",
    "# TODO: Show risk_value_matrix\n",
    "# \n",
    "# Step 3: Calculate segment percentages\n",
    "# TODO: Add segment_percentage column to risk_value_matrix\n",
    "# TODO: Calculate as (customer_count / total_customers) * 100\n",
    "# TODO: Round to 2 decimal places\n",
    "# TODO: Print \"\uD83D\uDCCA Risk-Value Matrix with Percentages:\"\n",
    "# TODO: Show matrix with percentages\n",
    "#\n",
    "# EXPECTED OUTPUT: 9-cell matrix showing customer distribution across risk-value combinations\n",
    "# Target: High Value-Low Risk should be priority segment for retention\n",
    "\n",
    "print(\"\uD83D\uDCCA Risk vs Value Matrix Analysis:\")\n",
    "\n",
    "# TODO: Implement risk-value matrix analysis logic here\n",
    "\n",
    "risk_value_matrix = (\n",
    "  customer_risk_df\n",
    "    .groupBy(\"risk_category\", \"value_segment\")\n",
    "    .agg(\n",
    "      count(\"*\").alias(\"customer_count\"),\n",
    "      avg(\"composite_risk_score\").alias(\"avg_risk_score\"),\n",
    "      sum(\"total_premium\").alias(\"total_premium_segment\"),\n",
    "      avg(\"total_premium\").alias(\"avg_premium_segment\")\n",
    "    )\n",
    "    .orderBy(col(\"risk_category\"), col(\"value_segment\"))\n",
    ")\n",
    "\n",
    "risk_value_matrix.show()\n",
    "\n",
    "risk_value_matrix = (\n",
    "  risk_value_matrix\n",
    "    .withColumn(\"segment_percentage\", round((col(\"customer_count\") / total_customers) * 100, 2))\n",
    ")\n",
    "print(\"\uD83D\uDCCA Risk-Value Matrix with Percentages:\")\n",
    "risk_value_matrix.show()"
   ]
  },
  {
   "cell_type": "markdown",
   "metadata": {
    "application/vnd.databricks.v1+cell": {
     "cellMetadata": {
      "byteLimit": 2048000,
      "rowLimit": 10000
     },
     "inputWidgets": {},
     "nuid": "d799437d-5730-49bd-9f67-febc910fcd6e",
     "showTitle": false,
     "tableResultSettingsMap": {},
     "title": ""
    }
   },
   "source": [
    "## 3. Policy Portfolio Analysis"
   ]
  },
  {
   "cell_type": "markdown",
   "metadata": {
    "application/vnd.databricks.v1+cell": {
     "cellMetadata": {
      "byteLimit": 2048000,
      "rowLimit": 10000
     },
     "inputWidgets": {},
     "nuid": "45057680-5335-445e-a013-d30ec5375748",
     "showTitle": false,
     "tableResultSettingsMap": {},
     "title": ""
    }
   },
   "source": [
    "### 3.1 Policy Type Distribution Analysis"
   ]
  },
  {
   "cell_type": "code",
   "execution_count": 0,
   "metadata": {
    "application/vnd.databricks.v1+cell": {
     "cellMetadata": {
      "byteLimit": 2048000,
      "rowLimit": 10000
     },
     "inputWidgets": {},
     "nuid": "94d115d1-7bea-42f3-b3ab-01e5a48d4e93",
     "showTitle": false,
     "tableResultSettingsMap": {},
     "title": ""
    }
   },
   "outputs": [
    {
     "output_type": "stream",
     "name": "stdout",
     "output_type": "stream",
     "text": [
      "\uD83D\uDCCB Analyzing policy portfolio...\n\uD83D\uDCCA Policy Type Distribution:\n+-----------+------------+-------------------+------------------+--------------+----------------+\n|policy_type|policy_count|      total_premium|       avg_premium|total_coverage|unique_customers|\n+-----------+------------+-------------------+------------------+--------------+----------------+\n|       Auto|       22294|          6.20115E7| 2781.533147932179|    3124625000|           11522|\n|       Home|       18891|2.513602779000001E7|1330.5821708750204|    3263139841|           10732|\n|       Life|       15164|3.605709592000006E7|2377.8090160907454|    7521759620|            9474|\n|     Health|       11745|         2.791752E8| 23769.70625798212|    3554100000|            8136|\n|     Travel|        3535|        1.6036275E7| 4536.428571428572|     108640000|            3137|\n|   Business|        3371| 3233205.3300000075| 959.1235034114528|     332638810|            3002|\n+-----------+------------+-------------------+------------------+--------------+----------------+\n\n\uD83D\uDCCA Policy Type Analysis with Percentages:\n+-----------+------------+-------------------+------------------+--------------+----------------+-----------------+------------------+\n|policy_type|policy_count|      total_premium|       avg_premium|total_coverage|unique_customers|policy_percentage|premium_percentage|\n+-----------+------------+-------------------+------------------+--------------+----------------+-----------------+------------------+\n|       Auto|       22294|          6.20115E7| 2781.533147932179|    3124625000|           11522|            29.73|             14.71|\n|       Home|       18891|2.513602779000001E7|1330.5821708750204|    3263139841|           10732|            25.19|              5.96|\n|       Life|       15164|3.605709592000006E7|2377.8090160907454|    7521759620|            9474|            20.22|              8.55|\n|     Health|       11745|         2.791752E8| 23769.70625798212|    3554100000|            8136|            15.66|             66.21|\n|     Travel|        3535|        1.6036275E7| 4536.428571428572|     108640000|            3137|             4.71|               3.8|\n|   Business|        3371| 3233205.3300000075| 959.1235034114528|     332638810|            3002|             4.49|              0.77|\n+-----------+------------+-------------------+------------------+--------------+----------------+-----------------+------------------+\n\n"
     ]
    }
   ],
   "source": [
    "# BUSINESS CONTEXT: Policy mix analysis reveals portfolio composition and growth opportunities\n",
    "# Understanding policy preferences helps optimize product offerings and pricing\n",
    "\n",
    "# TODO: Analyze policy type distribution across the portfolio\n",
    "# \n",
    "# Step 1: Calculate policy type metrics\n",
    "# TODO: Group policies_df by \"policy_type\"\n",
    "# TODO: Calculate policy_count using count(\"*\")\n",
    "# TODO: Calculate total_premium using sum(\"premium_amount\")\n",
    "# TODO: Calculate avg_premium using avg(\"premium_amount\")\n",
    "# TODO: Calculate total_coverage using sum(\"coverage_amount\")\n",
    "# TODO: Calculate unique_customers using countDistinct(\"customer_id\")\n",
    "# TODO: Order by policy_count descending\n",
    "# TODO: Store result as policy_type_dist\n",
    "# \n",
    "# Step 2: Display policy type distribution\n",
    "# TODO: Print \"\uD83D\uDCCA Policy Type Distribution:\"\n",
    "# TODO: Show policy_type_dist\n",
    "# \n",
    "# Step 3: Calculate policy type percentages\n",
    "# TODO: Get total_policies using policies_df.count()\n",
    "# TODO: Add policy_percentage column: (policy_count / total_policies) * 100\n",
    "# TODO: Calculate total_premium_all = sum of all total_premium values\n",
    "# TODO: Add premium_percentage column: (total_premium / total_premium_all) * 100\n",
    "# TODO: Round both percentages to 2 decimal places\n",
    "# TODO: Print \"\uD83D\uDCCA Policy Type Analysis with Percentages:\"\n",
    "# TODO: Show policy_type_dist with percentages\n",
    "#\n",
    "# EXPECTED OUTPUT: Policy types ranked by count with premium percentages\n",
    "# Target: Auto (30%), Home (25%), Life (20%), Health (15%), Other (10%)\n",
    "\n",
    "print(\"\uD83D\uDCCB Analyzing policy portfolio...\")\n",
    "\n",
    "# TODO: Implement policy type distribution analysis logic here\n",
    "\n",
    "policy_type_dist = (\n",
    "  policies_df\n",
    "    .groupBy(\"policy_type\")\n",
    "    .agg(\n",
    "      count(\"*\").alias(\"policy_count\"),\n",
    "      sum(\"premium_amount\").alias(\"total_premium\"),\n",
    "      avg(\"premium_amount\").alias(\"avg_premium\"),\n",
    "      sum(\"coverage_amount\").alias(\"total_coverage\"),\n",
    "      countDistinct(\"customer_id\").alias(\"unique_customers\")\n",
    "    )\n",
    "    .orderBy(col(\"policy_count\").desc())\n",
    ")\n",
    "print(\"\uD83D\uDCCA Policy Type Distribution:\")\n",
    "policy_type_dist.show()\n",
    "\n",
    "total_policies = policies_df.count()\n",
    "total_premium_all = policy_type_dist.select(sum(\"total_premium\")).collect()[0][0]\n",
    "\n",
    "policy_type_analysis = (\n",
    "    policy_type_dist.\n",
    "    withColumn(\"policy_percentage\", round((col(\"policy_count\") / total_policies) * 100, 2))\n",
    "    .withColumn(\"premium_percentage\", round((col(\"total_premium\") / total_premium_all) * 100, 2))\n",
    ")\n",
    "print(\"\uD83D\uDCCA Policy Type Analysis with Percentages:\")\n",
    "policy_type_analysis.show()"
   ]
  },
  {
   "cell_type": "markdown",
   "metadata": {
    "application/vnd.databricks.v1+cell": {
     "cellMetadata": {
      "byteLimit": 2048000,
      "rowLimit": 10000
     },
     "inputWidgets": {},
     "nuid": "e342f86f-d310-4bb0-ae49-3de5f2141398",
     "showTitle": false,
     "tableResultSettingsMap": {},
     "title": ""
    }
   },
   "source": [
    "### 3.2 Cross-Selling Opportunity Analysis"
   ]
  },
  {
   "cell_type": "code",
   "execution_count": 0,
   "metadata": {
    "application/vnd.databricks.v1+cell": {
     "cellMetadata": {
      "byteLimit": 2048000,
      "rowLimit": 10000
     },
     "inputWidgets": {},
     "nuid": "0fdfc36b-26e4-48e4-a71a-36804e9280d4",
     "showTitle": false,
     "tableResultSettingsMap": {},
     "title": ""
    }
   },
   "outputs": [
    {
     "output_type": "stream",
     "name": "stdout",
     "output_type": "stream",
     "text": [
      "\uD83C\uDFAF Identifying cross-selling opportunities...\n\uD83D\uDCCA Customer Distribution by Policy Diversity:\n+------------------+--------------+--------------------+------------------+------------------+\n|policy_types_count|customer_count|       total_premium|       avg_premium|    avg_risk_score|\n+------------------+--------------+--------------------+------------------+------------------+\n|                 0|            95|                 0.0|               0.0|1.2157894736842105|\n|                 1|           925|   7097685.299999999| 7673.173297297296|1.9114594594594552|\n|                 2|          3403|       5.936866198E7|17445.977660887453|2.2318101674992774|\n|                 3|          5426| 1.455566534699995E8| 26825.77469037956|2.3865462587541924|\n|                 4|          3879|1.4991131297999996E8| 38646.89687548336|2.4843129672596485|\n|                 5|          1154| 5.336666482000004E7| 46244.94351819761|2.5756499133448725|\n|                 6|           118|   6348325.490000002| 53799.36855932205| 2.624576271186441|\n+------------------+--------------+--------------------+------------------+------------------+\n\n\uD83C\uDFAF Cross-Selling Opportunities:\n   Single Policy Customers: 925 (6.2%)\n   Multi-Policy Customers: 13,980\n\uD83C\uDFAF High-Value Single Policy Customers (Priority Targets): 58\n"
     ]
    }
   ],
   "source": [
    "# BUSINESS CONTEXT: Cross-selling increases customer lifetime value and reduces churn\n",
    "# Single-policy customers represent the highest cross-selling potential\n",
    "\n",
    "# TODO: Identify cross-selling opportunities based on policy diversity\n",
    "# \n",
    "# Step 1: Analyze customers by policy diversity\n",
    "# TODO: Group customer_risk_df by \"policy_types_count\"\n",
    "# TODO: Calculate customer_count using count(\"*\")\n",
    "# TODO: Calculate avg_premium using avg(\"total_premium\")\n",
    "# TODO: Calculate avg_risk_score using avg(\"composite_risk_score\")\n",
    "# TODO: Order by policy_types_count\n",
    "# TODO: Store result as policy_diversity\n",
    "# \n",
    "# Step 2: Display policy diversity analysis\n",
    "# TODO: Print \"\uD83D\uDCCA Customer Distribution by Policy Diversity:\"\n",
    "# TODO: Show policy_diversity\n",
    "# \n",
    "# Step 3: Identify cross-selling opportunities\n",
    "# TODO: Filter customer_risk_df for policy_types_count == 1, store as single_policy_customers\n",
    "# TODO: Filter customer_risk_df for policy_types_count > 1, store as multi_policy_customers\n",
    "# TODO: Calculate cross_sell_opportunity = single_policy_customers.count()\n",
    "# TODO: Calculate cross_sell_percentage = (cross_sell_opportunity / total_customers) * 100\n",
    "# \n",
    "# Step 4: Display cross-selling insights\n",
    "# TODO: Print \"\uD83C\uDFAF Cross-Selling Opportunities:\"\n",
    "# TODO: Print f\"   Single Policy Customers: {cross_sell_opportunity:,} ({cross_sell_percentage:.1f}%)\"\n",
    "# TODO: Print f\"   Multi-Policy Customers: {multi_policy_customers.count():,}\"\n",
    "# \n",
    "# Step 5: Identify high-value cross-selling targets\n",
    "# TODO: Filter single_policy_customers for value_segment != \"Low Value\"\n",
    "# TODO: Select: customer_id, risk_category, value_segment, total_premium, policy_types_count\n",
    "# TODO: Store as high_value_single_policy\n",
    "# TODO: Print f\"\uD83C\uDFAF High-Value Single Policy Customers (Priority Targets): {high_value_single_policy.count():,}\"\n",
    "#\n",
    "# EXPECTED OUTPUT: Cross-selling opportunity analysis with priority targets identified\n",
    "# Target: 60% single-policy customers with 15-20% being high-value targets\n",
    "\n",
    "print(\"\uD83C\uDFAF Identifying cross-selling opportunities...\")\n",
    "\n",
    "# TODO: Implement cross-selling opportunity analysis logic here\n",
    "\n",
    "policy_diversity = (\n",
    "    customer_risk_df.\n",
    "    groupBy(\"policy_types_count\").\n",
    "    agg(\n",
    "      count(\"*\").alias(\"customer_count\"),\n",
    "      sum(\"total_premium\").alias(\"total_premium\"),\n",
    "      avg(\"total_premium\").alias(\"avg_premium\"),\n",
    "      avg(\"composite_risk_score\").alias(\"avg_risk_score\")\n",
    "    ).\n",
    "    orderBy(col(\"policy_types_count\"))\n",
    ")\n",
    "print(\"\uD83D\uDCCA Customer Distribution by Policy Diversity:\")\n",
    "policy_diversity.show()\n",
    "\n",
    "single_policy_customers = customer_risk_df.filter(col(\"policy_types_count\") == 1)\n",
    "multi_policy_customers = customer_risk_df.filter(col(\"policy_types_count\") > 1)\n",
    "cross_sell_opportunity = single_policy_customers.count()\n",
    "cross_sell_percentage = (cross_sell_opportunity / total_customers) * 100\n",
    "\n",
    "print(\"\uD83C\uDFAF Cross-Selling Opportunities:\")\n",
    "print(f\"   Single Policy Customers: {cross_sell_opportunity:,} ({cross_sell_percentage:.1f}%)\")\n",
    "print(f\"   Multi-Policy Customers: {multi_policy_customers.count():,}\")\n",
    "\n",
    "high_value_single_policy = (\n",
    "    single_policy_customers.\n",
    "    filter(col(\"value_segment\") != \"Low Value\").\n",
    "    select(\"customer_id\", \"risk_category\", \"value_segment\", \"total_premium\", \"policy_types_count\")\n",
    ")\n",
    "print(f\"\uD83C\uDFAF High-Value Single Policy Customers (Priority Targets): {high_value_single_policy.count():,}\")"
   ]
  },
  {
   "cell_type": "markdown",
   "metadata": {
    "application/vnd.databricks.v1+cell": {
     "cellMetadata": {
      "byteLimit": 2048000,
      "rowLimit": 10000
     },
     "inputWidgets": {},
     "nuid": "8087a98b-ce77-4676-b323-8c76d3128e6a",
     "showTitle": false,
     "tableResultSettingsMap": {},
     "title": ""
    }
   },
   "source": [
    "### 3.3 Portfolio Risk Concentration"
   ]
  },
  {
   "cell_type": "code",
   "execution_count": 0,
   "metadata": {
    "application/vnd.databricks.v1+cell": {
     "cellMetadata": {
      "byteLimit": 2048000,
      "rowLimit": 10000
     },
     "inputWidgets": {},
     "nuid": "9ef80a08-65db-4355-a58c-68d6672f41e1",
     "showTitle": false,
     "tableResultSettingsMap": {},
     "title": ""
    }
   },
   "outputs": [
    {
     "output_type": "stream",
     "name": "stdout",
     "output_type": "stream",
     "text": [
      "⚖️ Analyzing portfolio risk concentration...\n\uD83D\uDCCA Portfolio Risk Distribution by Policy Type:\n+-----------+-----------+-------------+--------------------+------------+-------------+------------------+\n|customer_id|policy_type|risk_category|composite_risk_score|policy_count|total_premium|       avg_premium|\n+-----------+-----------+-------------+--------------------+------------+-------------+------------------+\n| CUST005116|       Auto|         High|  3.0999999999999996|           2|       6000.0|            3000.0|\n| CUST011509|       Auto|         High|  2.8499999999999996|           3|       8450.0|2816.6666666666665|\n| CUST002253|       Auto|         High|  3.0999999999999996|           1|       4000.0|            4000.0|\n| CUST000955|       Auto|         High|  2.9000000000000004|           1|       1300.0|            1300.0|\n| CUST014319|       Auto|         High|  2.8499999999999996|           3|      12000.0|            4000.0|\n| CUST006932|       Auto|         High|  2.8499999999999996|           1|       1600.0|            1600.0|\n| CUST004088|       Auto|         High|                2.95|           4|       7600.0|            1900.0|\n| CUST010509|       Auto|         High|  2.8499999999999996|           3|       3250.0|1083.3333333333333|\n| CUST000737|       Auto|         High|                3.05|           3|       6400.0|2133.3333333333335|\n| CUST000611|       Auto|         High|                 3.3|           1|        400.0|             400.0|\n| CUST012072|       Auto|         High|                2.95|           2|       5200.0|            2600.0|\n| CUST014078|       Auto|         High|  2.8499999999999996|           3|       6400.0|2133.3333333333335|\n| CUST004294|       Auto|         High|                3.55|           3|      11000.0|3666.6666666666665|\n| CUST000184|       Auto|         High|                 3.2|           1|       2000.0|            2000.0|\n| CUST010081|       Auto|         High|                2.95|           2|       5600.0|            2800.0|\n| CUST004128|       Auto|         High|                3.55|           2|       7800.0|            3900.0|\n| CUST010406|       Auto|         High|                2.95|           2|       5600.0|            2800.0|\n| CUST007440|       Auto|         High|                3.05|           3|       4800.0|            1600.0|\n| CUST003264|       Auto|         High|  2.8499999999999996|           1|       6500.0|            6500.0|\n| CUST014008|       Auto|         High|                3.05|           2|       4800.0|            2400.0|\n+-----------+-----------+-------------+--------------------+------------+-------------+------------------+\nonly showing top 20 rows\n\uD83D\uDCCA Geographic Risk Concentration (Top 10 States):\n+-----+--------------+------------------+--------------------+\n|state|customer_count|    avg_risk_score| total_premium_state|\n+-----+--------------+------------------+--------------------+\n|   TX|           810|2.3541975308641914|2.3185063130000014E7|\n|   MD|           808|2.3431311881188064| 2.207469531999996E7|\n|   WI|           793| 2.349747793190411|2.1409773020000014E7|\n|   GA|           780|2.3514743589743525|2.2613244829999994E7|\n|   VA|           772|2.3319948186528436|       2.219410554E7|\n|   MI|           768| 2.348177083333329|2.0553832939999975E7|\n|   WA|           764| 2.310536649214654|2.1797787420000028E7|\n|   FL|           761| 2.346911957950059|2.1698692719999984E7|\n|   NC|           761| 2.389027595269379|2.1835939299999986E7|\n|   MO|           739|  2.38010825439783|2.1904800449999966E7|\n+-----+--------------+------------------+--------------------+\nonly showing top 10 rows\n"
     ]
    }
   ],
   "source": [
    "# BUSINESS CONTEXT: Risk concentration analysis helps identify portfolio vulnerabilities\n",
    "# Geographic and policy type concentration can amplify losses during adverse events\n",
    "\n",
    "# TODO: Analyze portfolio risk concentration by policy type and geography\n",
    "# \n",
    "# Step 1: Analyze risk concentration by policy type\n",
    "# TODO: Join policies_df with customer_risk_df on \"customer_id\"\n",
    "# TODO: Select customer_id, risk_category, composite_risk_score from customer_risk_df\n",
    "# TODO: Group by policy_type and risk_category\n",
    "# TODO: Calculate policy_count using count(\"*\")\n",
    "# TODO: Calculate total_premium using sum(\"premium_amount\")\n",
    "# TODO: Calculate avg_premium using avg(\"premium_amount\")\n",
    "# TODO: Order by policy_type, risk_category\n",
    "# TODO: Store result as policy_risk_analysis\n",
    "# \n",
    "# Step 2: Display policy risk analysis\n",
    "# TODO: Print \"\uD83D\uDCCA Portfolio Risk Distribution by Policy Type:\"\n",
    "# TODO: Show policy_risk_analysis\n",
    "# \n",
    "# Step 3: Analyze geographic risk concentration\n",
    "# TODO: Group customer_risk_df by \"state\"\n",
    "# TODO: Calculate customer_count using count(\"*\")\n",
    "# TODO: Calculate avg_risk_score using avg(\"composite_risk_score\")\n",
    "# TODO: Calculate total_premium_state using sum(\"total_premium\")\n",
    "# TODO: Order by customer_count descending\n",
    "# TODO: Store result as geographic_risk\n",
    "# \n",
    "# Step 4: Display geographic risk concentration\n",
    "# TODO: Print \"\uD83D\uDCCA Geographic Risk Concentration (Top 10 States):\"\n",
    "# TODO: Show top 10 states using geographic_risk.show(10)\n",
    "#\n",
    "# EXPECTED OUTPUT: Risk concentration analysis by policy type and state\n",
    "# Target: Identify states/policy types with high risk concentration\n",
    "\n",
    "print(\"⚖️ Analyzing portfolio risk concentration...\")\n",
    "\n",
    "# TODO: Implement portfolio risk concentration analysis logic here\n",
    "\n",
    "policy_risk_analysis = (\n",
    "    policies_df.\n",
    "    join(customer_risk_df, \"customer_id\").\n",
    "    groupBy(\"customer_id\", \"policy_type\", \"risk_category\", \"composite_risk_score\").\n",
    "    agg(\n",
    "      count(\"*\").alias(\"policy_count\"),\n",
    "      sum(\"premium_amount\").alias(\"total_premium\"),\n",
    "      avg(\"premium_amount\").alias(\"avg_premium\")\n",
    "    ).\n",
    "    select(\"customer_id\", \"policy_type\", \"risk_category\", \"composite_risk_score\", \"policy_count\", \"total_premium\", \"avg_premium\").\n",
    "    orderBy(\"policy_type\", \"risk_category\")\n",
    ")\n",
    "print(\"\uD83D\uDCCA Portfolio Risk Distribution by Policy Type:\")\n",
    "policy_risk_analysis.show()\n",
    "\n",
    "geographic_risk = (\n",
    "    customer_risk_df.\n",
    "    groupBy(\"state\").\n",
    "    agg(\n",
    "      count(\"*\").alias(\"customer_count\"),\n",
    "      avg(\"composite_risk_score\").alias(\"avg_risk_score\"),\n",
    "      sum(\"total_premium\").alias(\"total_premium_state\")\n",
    "    ).\n",
    "    orderBy(col(\"customer_count\").desc())\n",
    ")\n",
    "print(\"\uD83D\uDCCA Geographic Risk Concentration (Top 10 States):\")\n",
    "geographic_risk.show(10)"
   ]
  },
  {
   "cell_type": "markdown",
   "metadata": {
    "application/vnd.databricks.v1+cell": {
     "cellMetadata": {
      "byteLimit": 2048000,
      "rowLimit": 10000
     },
     "inputWidgets": {},
     "nuid": "9d7dc0fb-8426-4132-8bc3-1e6634e3e0e0",
     "showTitle": false,
     "tableResultSettingsMap": {},
     "title": ""
    }
   },
   "source": [
    "## 4. Temporal Pattern Analysis"
   ]
  },
  {
   "cell_type": "markdown",
   "metadata": {
    "application/vnd.databricks.v1+cell": {
     "cellMetadata": {
      "byteLimit": 2048000,
      "rowLimit": 10000
     },
     "inputWidgets": {},
     "nuid": "d0c130e9-f7b6-40d0-8a09-492f6a0d1d2f",
     "showTitle": false,
     "tableResultSettingsMap": {},
     "title": ""
    }
   },
   "source": [
    "### 4.1 Seasonal Claims Patterns"
   ]
  },
  {
   "cell_type": "code",
   "execution_count": 0,
   "metadata": {
    "application/vnd.databricks.v1+cell": {
     "cellMetadata": {
      "byteLimit": 2048000,
      "rowLimit": 10000
     },
     "inputWidgets": {},
     "nuid": "80610f8c-a178-48c0-a3e5-bcd382d536b2",
     "showTitle": false,
     "tableResultSettingsMap": {},
     "title": ""
    }
   },
   "outputs": [
    {
     "output_type": "stream",
     "name": "stdout",
     "output_type": "stream",
     "text": [
      "\uD83D\uDCC5 Analyzing seasonal claims patterns...\n\uD83D\uDCCA Monthly Claims Pattern:\n+-----------+------------+--------------------+------------------+\n|claim_month|claims_count|  total_claim_amount|  avg_claim_amount|\n+-----------+------------+--------------------+------------------+\n|          1|         849| 1.038257335800001E8|122291.79455830401|\n|          2|         832|1.0437907649999997E8|125455.62079326919|\n|          3|         972|1.2181834916000003E8|125327.51971193419|\n|          4|         982|1.1091925937000005E8|112952.40261710799|\n|          5|        1182|1.4780195363999993E8|125043.95401015223|\n|          6|        1337|1.6001307719000006E8|119680.68600598359|\n|          7|         791| 8.153647679000004E7|103080.24878634645|\n|          8|         711| 8.079758383999991E7|113639.35842475375|\n|          9|         697|       8.136679335E7| 116738.5844332855|\n|         10|         770| 9.467202950000004E7|122950.68766233772|\n|         11|         738| 8.108266671999998E7|109868.11208672085|\n|         12|         782| 8.420780935999998E7|107682.62066496162|\n+-----------+------------+--------------------+------------------+\n\n"
     ]
    }
   ],
   "source": [
    "# BUSINESS CONTEXT: Seasonal patterns help predict claims volume and adjust reserves\n",
    "# Weather-related claims typically spike in certain months (winter storms, summer hail)\n",
    "\n",
    "# TODO: Analyze seasonal patterns in claims data\n",
    "# \n",
    "# Step 1: Add temporal components to claims data\n",
    "# TODO: Create claims_temporal by adding these columns to claims_df:\n",
    "#       - claim_month using month(\"claim_date\")\n",
    "#       - claim_quarter using quarter(\"claim_date\")\n",
    "#       - claim_year using year(\"claim_date\")\n",
    "# \n",
    "# Step 2: Calculate monthly claims pattern\n",
    "# TODO: Group claims_temporal by \"claim_month\"\n",
    "# TODO: Calculate claims_count using count(\"claim_id\")\n",
    "# TODO: Calculate total_claim_amount using sum(\"claim_amount\")\n",
    "# TODO: Calculate avg_claim_amount using avg(\"claim_amount\")\n",
    "# TODO: Order by claim_month\n",
    "# TODO: Store result as monthly_claims\n",
    "# \n",
    "# Step 3: Display monthly claims pattern\n",
    "# TODO: Print \"\uD83D\uDCCA Monthly Claims Pattern:\"\n",
    "# TODO: Show all 12 months using monthly_claims.show(12)\n",
    "# \n",
    "# Step 4: Create seasonal analysis\n",
    "# TODO: Add season column to claims_temporal using when/otherwise logic:\n",
    "#       - Months 12, 1, 2 = \"Winter\"\n",
    "#       - Months 3, 4, 5 = \"Spring\"\n",
    "#       - Months 6, 7, 8 = \"Summer\"\n",
    "#       - Otherwise = \"Fall\"\n",
    "# TODO: Group by season and calculate: claims_count, total_claim_amount, avg_claim_amount\n",
    "# TODO: Order by claims_count descending\n",
    "# TODO: Store result as seasonal_claims\n",
    "# \n",
    "# Step 5: Display seasonal analysis\n",
    "# TODO: Print \"\uD83D\uDCCA Seasonal Claims Analysis:\"\n",
    "# TODO: Show seasonal_claims\n",
    "#\n",
    "# EXPECTED OUTPUT: Monthly and seasonal claims patterns\n",
    "# Target: Identify peak months/seasons for claims activity\n",
    "\n",
    "print(\"\uD83D\uDCC5 Analyzing seasonal claims patterns...\")\n",
    "\n",
    "# TODO: Implement seasonal claims pattern analysis logic here\n",
    "\n",
    "claims_temporal = (\n",
    "    claims_df.\n",
    "    withColumn(\"claim_month\", month(\"claim_date\")).\n",
    "    withColumn(\"claim_quarter\", quarter(\"claim_date\")).\n",
    "    withColumn(\"claim_year\", year(\"claim_date\"))\n",
    ")\n",
    "monthly_claims = (\n",
    "    claims_temporal.\n",
    "    groupBy(\"claim_month\").\n",
    "    agg(\n",
    "      count(\"*\").alias(\"claims_count\"),\n",
    "      sum(\"claim_amount\").alias(\"total_claim_amount\"),\n",
    "      avg(\"claim_amount\").alias(\"avg_claim_amount\")\n",
    "    ).\n",
    "    orderBy(col(\"claim_month\"))\n",
    ")\n",
    "print(\"\uD83D\uDCCA Monthly Claims Pattern:\")\n",
    "monthly_claims.show(12)"
   ]
  },
  {
   "cell_type": "markdown",
   "metadata": {
    "application/vnd.databricks.v1+cell": {
     "cellMetadata": {
      "byteLimit": 2048000,
      "rowLimit": 10000
     },
     "inputWidgets": {},
     "nuid": "068d5f64-de98-40f2-bbc4-0943687d71d3",
     "showTitle": false,
     "tableResultSettingsMap": {},
     "title": ""
    }
   },
   "source": [
    "### 4.2 Payment Behavior Patterns"
   ]
  },
  {
   "cell_type": "code",
   "execution_count": 0,
   "metadata": {
    "application/vnd.databricks.v1+cell": {
     "cellMetadata": {
      "byteLimit": 2048000,
      "rowLimit": 10000
     },
     "inputWidgets": {},
     "nuid": "1a2afb77-890f-4a45-81e9-d7b31f59c502",
     "showTitle": false,
     "tableResultSettingsMap": {},
     "title": ""
    }
   },
   "outputs": [
    {
     "output_type": "stream",
     "name": "stdout",
     "output_type": "stream",
     "text": [
      "\uD83D\uDCB3 Analyzing payment behavior patterns...\n\uD83D\uDCCA Monthly Payment Patterns:\n+-------------+-------------+--------------------+------------------+-------------+\n|payment_month|payment_count|      total_payments|       avg_payment|late_payments|\n+-------------+-------------+--------------------+------------------+-------------+\n|            1|        13927| 2.073649139999999E7|1488.9417247074023|         6305|\n|            2|        13010| 2.151934141000017E7|1654.0615995388296|         5830|\n|            3|        14335|2.1821527190000072E7| 1522.255123125223|         6359|\n|            4|        14233| 2.119433824999996E7|1489.0984507833878|         6372|\n|            5|        14974| 2.200196107999994E7|1469.3442687324655|         6677|\n|            6|        14714|2.1181855019999962E7|1439.5714978931603|         6656|\n|            7|        29317|3.1470215220000166E7|1073.4459603642995|         5791|\n|            8|        12144|1.8616936820000134E7|1533.0152190382191|         5560|\n|            9|        12233| 1.902085370999994E7|1554.8805452464596|         5358|\n|           10|        12938| 1.980258771000004E7|1530.5756461586054|         5759|\n|           11|        12739|  2.00566850299999E7|   1574.4316688908|         5742|\n|           12|        13449|2.0151222230000053E7|1498.3435370659568|         6070|\n+-------------+-------------+--------------------+------------------+-------------+\n\n\uD83D\uDCCA Payment Method Analysis:\n+--------------+-------------+--------------------+------------------+-------------+---------------+\n|payment_method|payment_count|        total_amount|        avg_amount|late_payments|failed_payments|\n+--------------+-------------+--------------------+------------------+-------------+---------------+\n|   Credit Card|        73832|1.0744996744000131E8|1455.3305807780002|        29963|           9143|\n| Bank Transfer|        45990|6.6246245210000604E7|1440.4489065014266|        18790|           5499|\n|         Check|        24941|3.5377956779999815E7| 1418.465850607426|        10205|           2959|\n|      Auto Pay|        23514| 3.414384895999995E7|1452.0646831674726|         9542|           2875|\n|          Cash|         9736|1.4355996679999935E7|1474.5271857025405|         3979|           1192|\n+--------------+-------------+--------------------+------------------+-------------+---------------+\n\n"
     ]
    }
   ],
   "source": [
    "# BUSINESS CONTEXT: Payment timing patterns reveal customer cash flow cycles\n",
    "# Understanding payment preferences helps optimize billing and collection strategies\n",
    "\n",
    "# TODO: Analyze payment behavior patterns over time\n",
    "# \n",
    "# Step 1: Add temporal components to payments data\n",
    "# TODO: Create payments_temporal by adding these columns to payments_df:\n",
    "#       - payment_month using month(\"payment_date\")\n",
    "#       - payment_quarter using quarter(\"payment_date\")\n",
    "# \n",
    "# Step 2: Calculate monthly payment patterns\n",
    "# TODO: Group payments_temporal by \"payment_month\"\n",
    "# TODO: Calculate payment_count using count(\"payment_id\")\n",
    "# TODO: Calculate total_payments using sum(\"payment_amount\")\n",
    "# TODO: Calculate avg_payment using avg(\"payment_amount\")\n",
    "# TODO: Calculate late_payments using sum(when(col(\"late_payment_flag\") == True, 1).otherwise(0))\n",
    "# TODO: Order by payment_month\n",
    "# TODO: Store result as monthly_payments\n",
    "# \n",
    "# Step 3: Display monthly payment patterns\n",
    "# TODO: Print \"\uD83D\uDCCA Monthly Payment Patterns:\"\n",
    "# TODO: Show all 12 months using monthly_payments.show(12)\n",
    "# \n",
    "# Step 4: Analyze payment methods\n",
    "# TODO: Group payments_df by \"payment_method\"\n",
    "# TODO: Calculate payment_count using count(\"payment_id\")\n",
    "# TODO: Calculate total_amount using sum(\"payment_amount\")\n",
    "# TODO: Calculate avg_amount using avg(\"payment_amount\")\n",
    "# TODO: Calculate late_payments using sum(when(col(\"late_payment_flag\") == True, 1).otherwise(0))\n",
    "# TODO: Calculate failed_payments using sum(when(col(\"payment_status\") == \"Failed\", 1).otherwise(0))\n",
    "# TODO: Order by payment_count descending\n",
    "# TODO: Store result as payment_method_analysis\n",
    "# \n",
    "# Step 5: Display payment method analysis\n",
    "# TODO: Print \"\uD83D\uDCCA Payment Method Analysis:\"\n",
    "# TODO: Show payment_method_analysis\n",
    "#\n",
    "# EXPECTED OUTPUT: Monthly payment patterns and payment method analysis\n",
    "# Target: Identify preferred payment methods and seasonal payment patterns\n",
    "\n",
    "print(\"\uD83D\uDCB3 Analyzing payment behavior patterns...\")\n",
    "\n",
    "# TODO: Implement payment behavior pattern analysis logic here\n",
    "\n",
    "payments_temporal = (\n",
    "    payments_df.\n",
    "    withColumn(\"payment_month\", month(\"payment_date\")).\n",
    "    withColumn(\"payment_quarter\", quarter(\"payment_date\")).\n",
    "    withColumn(\"payment_year\", year(\"payment_date\"))\n",
    ")\n",
    "\n",
    "monthly_payments = (\n",
    "    payments_temporal.\n",
    "    groupBy(\"payment_month\").\n",
    "    agg(\n",
    "      count(\"*\").alias(\"payment_count\"),\n",
    "      sum(\"payment_amount\").alias(\"total_payments\"),\n",
    "      avg(\"payment_amount\").alias(\"avg_payment\"),\n",
    "      sum(when(col(\"late_payment_flag\") == True, 1).otherwise(0)).alias(\"late_payments\")\n",
    "    ).\n",
    "    orderBy(col(\"payment_month\"))\n",
    ")\n",
    "\n",
    "print(\"\uD83D\uDCCA Monthly Payment Patterns:\")\n",
    "monthly_payments.show(12)\n",
    "\n",
    "payment_method_analysis = (\n",
    "    payments_df.\n",
    "    groupBy(\"payment_method\").\n",
    "    agg(\n",
    "      count(\"*\").alias(\"payment_count\"),\n",
    "      sum(\"payment_amount\").alias(\"total_amount\"),\n",
    "      avg(\"payment_amount\").alias(\"avg_amount\"),\n",
    "      sum(when(col(\"late_payment_flag\") == True, 1).otherwise(0)).alias(\"late_payments\"),\n",
    "      sum(when(col(\"payment_status\") == \"Failed\", 1).otherwise(0)).alias(\"failed_payments\")\n",
    "    ).\n",
    "    orderBy(col(\"payment_count\").desc())\n",
    ")\n",
    "print(\"\uD83D\uDCCA Payment Method Analysis:\")\n",
    "payment_method_analysis.show()"
   ]
  },
  {
   "cell_type": "markdown",
   "metadata": {
    "application/vnd.databricks.v1+cell": {
     "cellMetadata": {
      "byteLimit": 2048000,
      "rowLimit": 10000
     },
     "inputWidgets": {},
     "nuid": "89d9ce08-3154-486d-9e09-91c90b66e2c3",
     "showTitle": false,
     "tableResultSettingsMap": {},
     "title": ""
    }
   },
   "source": [
    "## 5. Save Risk Analysis Results to Database Tables"
   ]
  },
  {
   "cell_type": "code",
   "execution_count": 0,
   "metadata": {
    "application/vnd.databricks.v1+cell": {
     "cellMetadata": {
      "byteLimit": 2048000,
      "rowLimit": 10000
     },
     "inputWidgets": {},
     "nuid": "2fa48d7d-d7ed-4018-bdfc-941cec3b225e",
     "showTitle": false,
     "tableResultSettingsMap": {},
     "title": ""
    }
   },
   "outputs": [
    {
     "output_type": "stream",
     "name": "stdout",
     "output_type": "stream",
     "text": [
      "\uD83D\uDCBE Saving risk analysis results to database tables...\n✅ Saved customer_risk_profiles table: 15,000 records\n✅ Saved risk_value_matrix table: 9 records\n✅ Saved cross_sell_opportunities table: 925 records\n✅ Saved policy_portfolio_analysis table: 6 records\n✅ Saved seasonal_claims_analysis table: 12 records\n✅ Saved monthly_payment_patterns table: 12 records\n✅ Saved temporal analysis tables\n"
     ]
    }
   ],
   "source": [
    "# BUSINESS CONTEXT: Persistent tables enable reliable data pipeline execution\n",
    "# Downstream notebooks depend on these results for advanced analytics\n",
    "\n",
    "# TODO: Save risk analysis results to database tables for downstream consumption\n",
    "# \n",
    "# Step 1: Create comprehensive customer risk profiles table\n",
    "# TODO: Select the following columns from customer_risk_df:\n",
    "#       - customer_id, first_name, last_name, email, birth_date, age, gender, marital_status\n",
    "#       - income, credit_score, employment_status, education, state, zip_code, acquisition_date\n",
    "#       - risk_category, value_segment, composite_risk_score, claims_risk_score, credit_risk_score\n",
    "#       - age_risk_score, premium_risk_score, payment_risk_score, payment_reliability_score\n",
    "#       - total_policies, total_premium, avg_premium, total_coverage, policy_types_count, policy_types\n",
    "#       - total_claims, total_claim_amount, avg_claim_amount, max_claim_amount, policies_with_claims\n",
    "#       - total_payments, total_payment_amount, avg_payment_amount, late_payments_count, failed_payments_count\n",
    "# TODO: Store selection as customer_risk_profiles_final\n",
    "# \n",
    "# Step 2: Save customer risk profiles table\n",
    "# TODO: Write customer_risk_profiles_final to database table \"customer_risk_profiles\"\n",
    "# TODO: Use mode(\"overwrite\") and saveAsTable(f\"{DATABASE_NAME}.customer_risk_profiles\")\n",
    "# TODO: Print f\"✅ Saved customer_risk_profiles table: {customer_risk_profiles_final.count():,} records\"\n",
    "# \n",
    "# Step 3: Save risk-value matrix table\n",
    "# TODO: Write risk_value_matrix to database table \"risk_value_matrix\"\n",
    "# TODO: Use mode(\"overwrite\") and saveAsTable(f\"{DATABASE_NAME}.risk_value_matrix\")\n",
    "# TODO: Print f\"✅ Saved risk_value_matrix table: {risk_value_matrix.count():,} records\"\n",
    "# \n",
    "# Step 4: Save cross-selling opportunities table\n",
    "# TODO: Select relevant columns from single_policy_customers: customer_id, first_name, last_name, risk_category, value_segment, total_premium, policy_types_count, policy_types, composite_risk_score\n",
    "# TODO: Order by total_premium descending\n",
    "# TODO: Store as cross_sell_opportunities\n",
    "# TODO: Write to database table \"cross_sell_opportunities\"\n",
    "# TODO: Print f\"✅ Saved cross_sell_opportunities table: {cross_sell_opportunities.count():,} records\"\n",
    "# \n",
    "# Step 5: Save additional analysis tables\n",
    "# TODO: Save policy_type_dist as \"policy_portfolio_analysis\" table\n",
    "# TODO: Save seasonal_claims as \"seasonal_claims_analysis\" table\n",
    "# TODO: Save monthly_payments as \"monthly_payment_patterns\" table\n",
    "# TODO: Print \"✅ Saved temporal analysis tables\"\n",
    "#\n",
    "# EXPECTED OUTPUT: 6 database tables created successfully\n",
    "# Target: All tables available for Notebook 2 consumption\n",
    "\n",
    "print(\"\uD83D\uDCBE Saving risk analysis results to database tables...\")\n",
    "\n",
    "# TODO: Implement database table creation logic here\n",
    "\n",
    "customer_risk_profiles_final = (\n",
    "  customer_risk_df.\n",
    "    select(\n",
    "      \"customer_id\", \n",
    "      \"first_name\", \n",
    "      \"last_name\", \n",
    "      \"email\", \n",
    "      \"birth_date\", \n",
    "      # \"age\", # THIS DATA DOES NOT ACTUALLY EXIST\n",
    "      \"gender\", \n",
    "      \"marital_status\", \n",
    "      \"income\", \n",
    "      \"credit_score\", \n",
    "      \"employment_status\", \n",
    "      \"education\", \n",
    "      \"state\", \n",
    "      \"zip_code\", \n",
    "      \"acquisition_date\", \n",
    "      \"risk_category\", \n",
    "      \"value_segment\", \n",
    "      \"composite_risk_score\", \n",
    "      \"claims_risk_score\", \n",
    "      \"credit_risk_score\", \n",
    "      # \"age_risk_score\", # THIS DATA DOES NOT ACTUALLY EXIST\n",
    "      \"premium_risk_score\", \n",
    "      \"payment_risk_score\", \n",
    "      \"payment_reliability_score\", \n",
    "      \"total_policies\", \n",
    "      \"total_premium\", \n",
    "      \"avg_premium\", \n",
    "      \"total_coverage\", \n",
    "      \"policy_types_count\", \n",
    "      \"policy_types\", \n",
    "      \"total_claims\", \n",
    "      \"total_claim_amount\", \n",
    "      \"avg_claim_amount\", \n",
    "      \"max_claim_amount\", \n",
    "      \"policies_with_claims\", \n",
    "      \"total_payments\", \n",
    "      \"total_payment_amount\", \n",
    "      \"avg_payment_amount\", \n",
    "      \"late_payments_count\", \n",
    "      \"failed_payments_count\"\n",
    "    )\n",
    ")\n",
    "\n",
    "customer_risk_profiles_final.write.mode(\"overwrite\").saveAsTable(f\"{DATABASE_NAME}.customer_risk_profiles\")\n",
    "print(f\"✅ Saved customer_risk_profiles table: {customer_risk_profiles_final.count():,} records\")\n",
    "\n",
    "risk_value_matrix.write.mode(\"overwrite\").saveAsTable(f\"{DATABASE_NAME}.risk_value_matrix\")\n",
    "print(f\"✅ Saved risk_value_matrix table: {risk_value_matrix.count():,} records\")\n",
    "\n",
    "cross_sell_opportunities = (\n",
    "    single_policy_customers.\n",
    "    select(\n",
    "      \"customer_id\", \n",
    "      \"first_name\", \n",
    "      \"last_name\", \n",
    "      \"risk_category\", \n",
    "      \"value_segment\", \n",
    "      \"total_premium\", \n",
    "      \"policy_types_count\", \n",
    "      \"policy_types\", \n",
    "      \"composite_risk_score\"\n",
    "    ).orderBy(col(\"total_premium\").desc())\n",
    ")\n",
    "\n",
    "cross_sell_opportunities.write.mode(\"overwrite\").saveAsTable(f\"{DATABASE_NAME}.cross_sell_opportunities\")\n",
    "print(f\"✅ Saved cross_sell_opportunities table: {cross_sell_opportunities.count():,} records\")\n",
    "\n",
    "policy_type_dist.write.mode(\"overwrite\").saveAsTable(f\"{DATABASE_NAME}.policy_portfolio_analysis\")\n",
    "print(f\"✅ Saved policy_portfolio_analysis table: {policy_type_dist.count():,} records\")\n",
    "\n",
    "monthly_claims.write.mode(\"overwrite\").saveAsTable(f\"{DATABASE_NAME}.seasonal_claims_analysis\")\n",
    "print(f\"✅ Saved seasonal_claims_analysis table: {monthly_claims.count():,} records\")\n",
    "\n",
    "monthly_payments.write.mode(\"overwrite\").saveAsTable(f\"{DATABASE_NAME}.monthly_payment_patterns\")\n",
    "print(f\"✅ Saved monthly_payment_patterns table: {monthly_payments.count():,} records\")\n",
    "\n",
    "print(\"✅ Saved temporal analysis tables\")"
   ]
  },
  {
   "cell_type": "markdown",
   "metadata": {
    "application/vnd.databricks.v1+cell": {
     "cellMetadata": {
      "byteLimit": 2048000,
      "rowLimit": 10000
     },
     "inputWidgets": {},
     "nuid": "1ea7459e-d5ff-4e02-b3ad-4da326831851",
     "showTitle": false,
     "tableResultSettingsMap": {},
     "title": ""
    }
   },
   "source": [
    "## 6. Business Insights Summary"
   ]
  },
  {
   "cell_type": "code",
   "execution_count": 0,
   "metadata": {
    "application/vnd.databricks.v1+cell": {
     "cellMetadata": {
      "byteLimit": 2048000,
      "rowLimit": 10000
     },
     "inputWidgets": {},
     "nuid": "8022b7be-74b8-4a9e-b361-d1ab96644e94",
     "showTitle": false,
     "tableResultSettingsMap": {},
     "title": ""
    }
   },
   "outputs": [
    {
     "output_type": "stream",
     "name": "stdout",
     "output_type": "stream",
     "text": [
      "\uD83C\uDFAF KEY BUSINESS INSIGHTS FROM RISK ANALYSIS\n============================================================\n\uD83D\uDCCA RISK DISTRIBUTION:\n   Medium Risk: 10,844 customers (72.3%)\n   High Risk: 2,726 customers (18.2%)\n   Low Risk: 1,430 customers (9.5%)\n\n\uD83D\uDCB0 VALUE DISTRIBUTION:\n   High Value: 571 customers (3.8%)\n   Low Value: 1,461 customers (9.7%)\n   Medium Value: 694 customers (4.6%)\n   High Value: 106 customers (0.7%)\n   Low Value: 1,169 customers (7.8%)\n   Medium Value: 155 customers (1.0%)\n   High Value: 1,516 customers (10.1%)\n   Low Value: 7,207 customers (48.0%)\n   Medium Value: 2,121 customers (14.1%)\n\n\uD83C\uDFAF PORTFOLIO INSIGHTS:\n   Total Customers: 15,000\n   Total Policies: 75,000\n   Cross-selling Opportunity: 6.2% (925 customers)\n   Total Premium Portfolio: $421,649,304.04\n   Average Premium per Customer: $28,109.95\n   Claims Rate: 14.2%\n   Late Payment Rate: 96.6%\n\n\uD83D\uDCCA DATABASE TABLES CREATED FOR DOWNSTREAM ANALYSIS:\n   claims_per_customer: Summary of claims data per customer\n   customer_risk_df: Comprehensive risk analysis for each customer\n   claims_df: Detailed claims data\n   customers_df: Customer demographic and profile data\n   interactions_df: Customer interactions data\n   payments_df: Payment data\n   policies_df: Policy data\n\n\uD83D\uDE80 READY FOR NOTEBOOK 2: CLPV AND RETENTION ANALYSIS\n"
     ]
    }
   ],
   "source": [
    "# BUSINESS CONTEXT: Executive summary provides key insights for strategic decision-making\n",
    "# Quantified insights enable data-driven business planning and resource allocation\n",
    "\n",
    "# TODO: Generate comprehensive business insights summary\n",
    "# \n",
    "# Step 1: Calculate risk distribution insights\n",
    "# TODO: Collect risk_distribution results using .collect()\n",
    "# TODO: Print \"\uD83C\uDFAF KEY BUSINESS INSIGHTS FROM RISK ANALYSIS\"\n",
    "# TODO: Print \"=\" * 60\n",
    "# TODO: Print \"\uD83D\uDCCA RISK DISTRIBUTION:\"\n",
    "# TODO: For each risk category, calculate percentage and print formatted results\n",
    "# TODO: Use format: f\"   {risk_category} Risk: {count:,} customers ({percentage:.1f}%)\"\n",
    "# \n",
    "# Step 2: Calculate value distribution insights\n",
    "# TODO: Collect value_distribution results using .collect()\n",
    "# TODO: Print \"\\n\uD83D\uDCB0 VALUE DISTRIBUTION:\"\n",
    "# TODO: For each value segment, calculate percentage and print formatted results\n",
    "# \n",
    "# Step 3: Calculate portfolio insights\n",
    "# TODO: Print f\"\\n\uD83C\uDFAF PORTFOLIO INSIGHTS:\"\n",
    "# TODO: Print f\"   Total Customers: {total_customers:,}\"\n",
    "# TODO: Print f\"   Total Policies: {total_policies:,}\"\n",
    "# TODO: Print f\"   Cross-selling Opportunity: {cross_sell_percentage:.1f}% ({cross_sell_opportunity:,} customers)\"\n",
    "# \n",
    "# Step 4: Calculate financial insights\n",
    "# TODO: Calculate total_premium_portfolio using sum(\"total_premium\") from customer_risk_df\n",
    "# TODO: Calculate avg_premium_customer = total_premium_portfolio / total_customers\n",
    "# TODO: Print f\"   Total Premium Portfolio: ${total_premium_portfolio:,.2f}\"\n",
    "# TODO: Print f\"   Average Premium per Customer: ${avg_premium_customer:,.2f}\"\n",
    "# \n",
    "# Step 5: Calculate operational insights\n",
    "# TODO: Calculate total_claims_count using claims_df.count()\n",
    "# TODO: Calculate claims_rate = (total_claims_count / total_policies) * 100\n",
    "# TODO: Calculate late_payment_rate from payments data\n",
    "# TODO: Print claims and payment statistics\n",
    "# \n",
    "# Step 6: List database tables created\n",
    "# TODO: Print \"\\n\uD83D\uDCCA DATABASE TABLES CREATED FOR DOWNSTREAM ANALYSIS:\"\n",
    "# TODO: List all 6 tables with brief descriptions\n",
    "# TODO: Print \"\\n\uD83D\uDE80 READY FOR NOTEBOOK 2: CLPV AND RETENTION ANALYSIS\"\n",
    "#\n",
    "# EXPECTED OUTPUT: Comprehensive business insights with quantified metrics\n",
    "# Target: Executive-ready summary with actionable insights\n",
    "\n",
    "print(\"\uD83C\uDFAF KEY BUSINESS INSIGHTS FROM RISK ANALYSIS\")\n",
    "print(\"=\" * 60)\n",
    "\n",
    "# TODO: Implement business insights summary logic here\n",
    "\n",
    "print(\"\uD83D\uDCCA RISK DISTRIBUTION:\")\n",
    "for risk_category, count in risk_distribution.select([\"risk_category\", \"count\"]).collect():\n",
    "  percentage = (count / total_customers) * 100\n",
    "  print(f\"   {risk_category} Risk: {count:,} customers ({percentage:.1f}%)\")\n",
    "\n",
    "print(\"\\n\uD83D\uDCB0 VALUE DISTRIBUTION:\")\n",
    "for value_segment, count in value_distribution.select([\"value_segment\", \"customer_count\"]).collect():\n",
    "  percentage = (count / total_customers) * 100\n",
    "  print(f\"   {value_segment}: {count:,} customers ({percentage:.1f}%)\")\n",
    "\n",
    "print(f\"\\n\uD83C\uDFAF PORTFOLIO INSIGHTS:\")\n",
    "print(f\"   Total Customers: {total_customers:,}\")\n",
    "print(f\"   Total Policies: {total_policies:,}\")\n",
    "print(f\"   Cross-selling Opportunity: {cross_sell_percentage:.1f}% ({cross_sell_opportunity:,} customers)\")\n",
    "\n",
    "total_premium_portfolio = customer_risk_df.select(\"total_premium\").groupBy().sum().collect()[0][0]\n",
    "avg_premium_customer = total_premium_portfolio / total_customers\n",
    "print(f\"   Total Premium Portfolio: ${total_premium_portfolio:,.2f}\")\n",
    "print(f\"   Average Premium per Customer: ${avg_premium_customer:,.2f}\")\n",
    "\n",
    "total_claims_count = claims_df.count()\n",
    "claims_rate = (total_claims_count / total_policies) * 100\n",
    "late_payment_rate = payments_df.filter(\"late_payment_flag = 1\").count() / total_policies * 100\n",
    "print(f\"   Claims Rate: {claims_rate:.1f}%\")\n",
    "print(f\"   Late Payment Rate: {late_payment_rate:.1f}%\")\n",
    "\n",
    "print(\"\\n\uD83D\uDCCA DATABASE TABLES CREATED FOR DOWNSTREAM ANALYSIS:\")\n",
    "print(\"   claims_per_customer: Summary of claims data per customer\")\n",
    "print(\"   customer_risk_df: Comprehensive risk analysis for each customer\")\n",
    "print(\"   claims_df: Detailed claims data\")\n",
    "print(\"   customers_df: Customer demographic and profile data\")\n",
    "print(\"   interactions_df: Customer interactions data\")\n",
    "print(\"   payments_df: Payment data\")\n",
    "print(\"   policies_df: Policy data\")\n",
    "\n",
    "print(\"\\n\uD83D\uDE80 READY FOR NOTEBOOK 2: CLPV AND RETENTION ANALYSIS\")"
   ]
  },
  {
   "cell_type": "markdown",
   "metadata": {
    "application/vnd.databricks.v1+cell": {
     "cellMetadata": {
      "byteLimit": 2048000,
      "rowLimit": 10000
     },
     "inputWidgets": {},
     "nuid": "bea2d8a6-8d2a-4de6-a1c7-81ff4897f7a9",
     "showTitle": false,
     "tableResultSettingsMap": {},
     "title": ""
    }
   },
   "source": [
    "## Summary and Next Steps\n",
    "\n",
    "### ✅ Risk Analysis Objectives Achieved:\n",
    "1. **Customer Risk Scoring** - Comprehensive risk assessment using 5 risk factors\n",
    "2. **Customer Segmentation** - Risk categories (Low/Medium/High) and value segments\n",
    "3. **Portfolio Analysis** - Policy distribution and cross-selling opportunities\n",
    "4. **Temporal Patterns** - Seasonal claims and payment behavior analysis\n",
    "5. **Database Integration** - All results saved to persistent tables for pipeline reliability\n",
    "\n",
    "### \uD83C\uDFAF Key Analytical Outputs:\n",
    "- **15,000 customers** scored and segmented by risk and value\n",
    "- **Cross-selling opportunities** identified for single-policy customers\n",
    "- **Seasonal patterns** documented for claims and payments\n",
    "- **Portfolio risk concentration** analyzed by geography and policy type\n",
    "\n",
    "### \uD83D\uDDC4️ Database Tables Created:\n",
    "- `customer_risk_profiles` - Core customer risk and segmentation data\n",
    "- `risk_value_matrix` - Strategic customer matrix for business decisions\n",
    "- `cross_sell_opportunities` - Priority customers for cross-selling\n",
    "- `policy_portfolio_analysis` - Portfolio composition and performance\n",
    "- `seasonal_claims_analysis` - Seasonal trend analysis\n",
    "- `monthly_payment_patterns` - Payment behavior insights\n",
    "\n",
    "### \uD83D\uDE80 Next Steps:\n",
    "- **Notebook 2**: Load risk profiles and calculate Customer Lifetime Premium Value (CLPV)\n",
    "- **Notebook 2**: Build renewal prediction models using risk segmentation\n",
    "- **Notebook 2**: Develop pricing optimization based on risk analysis\n",
    "- **Notebook 3**: Create executive dashboards using all accumulated insights\n",
    "\n",
    "### \uD83D\uDCA1 Business Value:\n",
    "This analysis provides the foundation for data-driven customer management, enabling SecureLife to optimize pricing, target retention efforts, and identify growth opportunities based on customer risk profiles and value segments."
   ]
  }
 ],
 "metadata": {
  "application/vnd.databricks.v1+notebook": {
   "computePreferences": null,
   "dashboards": [],
   "environmentMetadata": null,
   "inputWidgetPreferences": null,
   "language": "python",
   "notebookMetadata": {
    "pythonIndentUnit": 4
   },
   "notebookName": "nbk_1_risk_profiling_student",
   "widgets": {}
  },
  "language_info": {
   "name": "python"
  }
 },
 "nbformat": 4,
 "nbformat_minor": 0
}